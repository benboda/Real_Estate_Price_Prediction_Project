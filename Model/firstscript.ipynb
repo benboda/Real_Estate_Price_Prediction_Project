{
 "cells": [
  {
   "cell_type": "code",
   "execution_count": 648,
   "metadata": {},
   "outputs": [],
   "source": [
    "import pandas as pd\n",
    "import numpy as np\n",
    "import matplotlib.pyplot as plt\n",
    "%matplotlib inline\n",
    "import matplotlib\n",
    "matplotlib.rcParams[\"figure.figsize\"] = (20, 10)"
   ]
  },
  {
   "cell_type": "code",
   "execution_count": 649,
   "metadata": {},
   "outputs": [
    {
     "name": "stderr",
     "output_type": "stream",
     "text": [
      "<>:1: SyntaxWarning: invalid escape sequence '\\G'\n",
      "<>:1: SyntaxWarning: invalid escape sequence '\\G'\n",
      "C:\\Users\\Ben\\AppData\\Local\\Temp\\ipykernel_78136\\4077473976.py:1: SyntaxWarning: invalid escape sequence '\\G'\n",
      "  df1 = pd.read_csv(\"D:\\GitHub\\Real_Estate_Price_Prediction_Project\\Data\\Bengaluru_House_Data.csv\")\n"
     ]
    },
    {
     "data": {
      "application/vnd.microsoft.datawrangler.viewer.v0+json": {
       "columns": [
        {
         "name": "index",
         "rawType": "int64",
         "type": "integer"
        },
        {
         "name": "area_type",
         "rawType": "object",
         "type": "string"
        },
        {
         "name": "availability",
         "rawType": "object",
         "type": "string"
        },
        {
         "name": "location",
         "rawType": "object",
         "type": "string"
        },
        {
         "name": "size",
         "rawType": "object",
         "type": "string"
        },
        {
         "name": "society",
         "rawType": "object",
         "type": "unknown"
        },
        {
         "name": "total_sqft",
         "rawType": "object",
         "type": "string"
        },
        {
         "name": "bath",
         "rawType": "float64",
         "type": "float"
        },
        {
         "name": "balcony",
         "rawType": "float64",
         "type": "float"
        },
        {
         "name": "price",
         "rawType": "float64",
         "type": "float"
        }
       ],
       "conversionMethod": "pd.DataFrame",
       "ref": "ff5f90e4-cf9e-4670-beb7-5c0cd9c29fac",
       "rows": [
        [
         "0",
         "Super built-up  Area",
         "19-Dec",
         "Electronic City Phase II",
         "2 BHK",
         "Coomee ",
         "1056",
         "2.0",
         "1.0",
         "39.07"
        ],
        [
         "1",
         "Plot  Area",
         "Ready To Move",
         "Chikka Tirupathi",
         "4 Bedroom",
         "Theanmp",
         "2600",
         "5.0",
         "3.0",
         "120.0"
        ],
        [
         "2",
         "Built-up  Area",
         "Ready To Move",
         "Uttarahalli",
         "3 BHK",
         null,
         "1440",
         "2.0",
         "3.0",
         "62.0"
        ],
        [
         "3",
         "Super built-up  Area",
         "Ready To Move",
         "Lingadheeranahalli",
         "3 BHK",
         "Soiewre",
         "1521",
         "3.0",
         "1.0",
         "95.0"
        ],
        [
         "4",
         "Super built-up  Area",
         "Ready To Move",
         "Kothanur",
         "2 BHK",
         null,
         "1200",
         "2.0",
         "1.0",
         "51.0"
        ]
       ],
       "shape": {
        "columns": 9,
        "rows": 5
       }
      },
      "text/html": [
       "<div>\n",
       "<style scoped>\n",
       "    .dataframe tbody tr th:only-of-type {\n",
       "        vertical-align: middle;\n",
       "    }\n",
       "\n",
       "    .dataframe tbody tr th {\n",
       "        vertical-align: top;\n",
       "    }\n",
       "\n",
       "    .dataframe thead th {\n",
       "        text-align: right;\n",
       "    }\n",
       "</style>\n",
       "<table border=\"1\" class=\"dataframe\">\n",
       "  <thead>\n",
       "    <tr style=\"text-align: right;\">\n",
       "      <th></th>\n",
       "      <th>area_type</th>\n",
       "      <th>availability</th>\n",
       "      <th>location</th>\n",
       "      <th>size</th>\n",
       "      <th>society</th>\n",
       "      <th>total_sqft</th>\n",
       "      <th>bath</th>\n",
       "      <th>balcony</th>\n",
       "      <th>price</th>\n",
       "    </tr>\n",
       "  </thead>\n",
       "  <tbody>\n",
       "    <tr>\n",
       "      <th>0</th>\n",
       "      <td>Super built-up  Area</td>\n",
       "      <td>19-Dec</td>\n",
       "      <td>Electronic City Phase II</td>\n",
       "      <td>2 BHK</td>\n",
       "      <td>Coomee</td>\n",
       "      <td>1056</td>\n",
       "      <td>2.0</td>\n",
       "      <td>1.0</td>\n",
       "      <td>39.07</td>\n",
       "    </tr>\n",
       "    <tr>\n",
       "      <th>1</th>\n",
       "      <td>Plot  Area</td>\n",
       "      <td>Ready To Move</td>\n",
       "      <td>Chikka Tirupathi</td>\n",
       "      <td>4 Bedroom</td>\n",
       "      <td>Theanmp</td>\n",
       "      <td>2600</td>\n",
       "      <td>5.0</td>\n",
       "      <td>3.0</td>\n",
       "      <td>120.00</td>\n",
       "    </tr>\n",
       "    <tr>\n",
       "      <th>2</th>\n",
       "      <td>Built-up  Area</td>\n",
       "      <td>Ready To Move</td>\n",
       "      <td>Uttarahalli</td>\n",
       "      <td>3 BHK</td>\n",
       "      <td>NaN</td>\n",
       "      <td>1440</td>\n",
       "      <td>2.0</td>\n",
       "      <td>3.0</td>\n",
       "      <td>62.00</td>\n",
       "    </tr>\n",
       "    <tr>\n",
       "      <th>3</th>\n",
       "      <td>Super built-up  Area</td>\n",
       "      <td>Ready To Move</td>\n",
       "      <td>Lingadheeranahalli</td>\n",
       "      <td>3 BHK</td>\n",
       "      <td>Soiewre</td>\n",
       "      <td>1521</td>\n",
       "      <td>3.0</td>\n",
       "      <td>1.0</td>\n",
       "      <td>95.00</td>\n",
       "    </tr>\n",
       "    <tr>\n",
       "      <th>4</th>\n",
       "      <td>Super built-up  Area</td>\n",
       "      <td>Ready To Move</td>\n",
       "      <td>Kothanur</td>\n",
       "      <td>2 BHK</td>\n",
       "      <td>NaN</td>\n",
       "      <td>1200</td>\n",
       "      <td>2.0</td>\n",
       "      <td>1.0</td>\n",
       "      <td>51.00</td>\n",
       "    </tr>\n",
       "  </tbody>\n",
       "</table>\n",
       "</div>"
      ],
      "text/plain": [
       "              area_type   availability                  location       size  \\\n",
       "0  Super built-up  Area         19-Dec  Electronic City Phase II      2 BHK   \n",
       "1            Plot  Area  Ready To Move          Chikka Tirupathi  4 Bedroom   \n",
       "2        Built-up  Area  Ready To Move               Uttarahalli      3 BHK   \n",
       "3  Super built-up  Area  Ready To Move        Lingadheeranahalli      3 BHK   \n",
       "4  Super built-up  Area  Ready To Move                  Kothanur      2 BHK   \n",
       "\n",
       "   society total_sqft  bath  balcony   price  \n",
       "0  Coomee        1056   2.0      1.0   39.07  \n",
       "1  Theanmp       2600   5.0      3.0  120.00  \n",
       "2      NaN       1440   2.0      3.0   62.00  \n",
       "3  Soiewre       1521   3.0      1.0   95.00  \n",
       "4      NaN       1200   2.0      1.0   51.00  "
      ]
     },
     "execution_count": 649,
     "metadata": {},
     "output_type": "execute_result"
    }
   ],
   "source": [
    "df1 = pd.read_csv(\"D:\\GitHub\\Real_Estate_Price_Prediction_Project\\Data\\Bengaluru_House_Data.csv\")\n",
    "df1.head(5)"
   ]
  },
  {
   "cell_type": "code",
   "execution_count": 650,
   "metadata": {},
   "outputs": [
    {
     "data": {
      "text/plain": [
       "(13320, 9)"
      ]
     },
     "execution_count": 650,
     "metadata": {},
     "output_type": "execute_result"
    }
   ],
   "source": [
    "df1.shape"
   ]
  },
  {
   "cell_type": "code",
   "execution_count": 651,
   "metadata": {},
   "outputs": [
    {
     "data": {
      "text/plain": [
       "area_type\n",
       "Built-up  Area          2418\n",
       "Carpet  Area              87\n",
       "Plot  Area              2025\n",
       "Super built-up  Area    8790\n",
       "Name: area_type, dtype: int64"
      ]
     },
     "execution_count": 651,
     "metadata": {},
     "output_type": "execute_result"
    }
   ],
   "source": [
    "df1.groupby(\"area_type\")[\"area_type\"].agg(\"count\")"
   ]
  },
  {
   "cell_type": "code",
   "execution_count": 652,
   "metadata": {},
   "outputs": [
    {
     "data": {
      "application/vnd.microsoft.datawrangler.viewer.v0+json": {
       "columns": [
        {
         "name": "index",
         "rawType": "int64",
         "type": "integer"
        },
        {
         "name": "location",
         "rawType": "object",
         "type": "string"
        },
        {
         "name": "size",
         "rawType": "object",
         "type": "string"
        },
        {
         "name": "total_sqft",
         "rawType": "object",
         "type": "string"
        },
        {
         "name": "bath",
         "rawType": "float64",
         "type": "float"
        },
        {
         "name": "price",
         "rawType": "float64",
         "type": "float"
        }
       ],
       "conversionMethod": "pd.DataFrame",
       "ref": "683c629c-1160-4b8a-b3e8-99c60a2c587a",
       "rows": [
        [
         "0",
         "Electronic City Phase II",
         "2 BHK",
         "1056",
         "2.0",
         "39.07"
        ],
        [
         "1",
         "Chikka Tirupathi",
         "4 Bedroom",
         "2600",
         "5.0",
         "120.0"
        ],
        [
         "2",
         "Uttarahalli",
         "3 BHK",
         "1440",
         "2.0",
         "62.0"
        ],
        [
         "3",
         "Lingadheeranahalli",
         "3 BHK",
         "1521",
         "3.0",
         "95.0"
        ],
        [
         "4",
         "Kothanur",
         "2 BHK",
         "1200",
         "2.0",
         "51.0"
        ]
       ],
       "shape": {
        "columns": 5,
        "rows": 5
       }
      },
      "text/html": [
       "<div>\n",
       "<style scoped>\n",
       "    .dataframe tbody tr th:only-of-type {\n",
       "        vertical-align: middle;\n",
       "    }\n",
       "\n",
       "    .dataframe tbody tr th {\n",
       "        vertical-align: top;\n",
       "    }\n",
       "\n",
       "    .dataframe thead th {\n",
       "        text-align: right;\n",
       "    }\n",
       "</style>\n",
       "<table border=\"1\" class=\"dataframe\">\n",
       "  <thead>\n",
       "    <tr style=\"text-align: right;\">\n",
       "      <th></th>\n",
       "      <th>location</th>\n",
       "      <th>size</th>\n",
       "      <th>total_sqft</th>\n",
       "      <th>bath</th>\n",
       "      <th>price</th>\n",
       "    </tr>\n",
       "  </thead>\n",
       "  <tbody>\n",
       "    <tr>\n",
       "      <th>0</th>\n",
       "      <td>Electronic City Phase II</td>\n",
       "      <td>2 BHK</td>\n",
       "      <td>1056</td>\n",
       "      <td>2.0</td>\n",
       "      <td>39.07</td>\n",
       "    </tr>\n",
       "    <tr>\n",
       "      <th>1</th>\n",
       "      <td>Chikka Tirupathi</td>\n",
       "      <td>4 Bedroom</td>\n",
       "      <td>2600</td>\n",
       "      <td>5.0</td>\n",
       "      <td>120.00</td>\n",
       "    </tr>\n",
       "    <tr>\n",
       "      <th>2</th>\n",
       "      <td>Uttarahalli</td>\n",
       "      <td>3 BHK</td>\n",
       "      <td>1440</td>\n",
       "      <td>2.0</td>\n",
       "      <td>62.00</td>\n",
       "    </tr>\n",
       "    <tr>\n",
       "      <th>3</th>\n",
       "      <td>Lingadheeranahalli</td>\n",
       "      <td>3 BHK</td>\n",
       "      <td>1521</td>\n",
       "      <td>3.0</td>\n",
       "      <td>95.00</td>\n",
       "    </tr>\n",
       "    <tr>\n",
       "      <th>4</th>\n",
       "      <td>Kothanur</td>\n",
       "      <td>2 BHK</td>\n",
       "      <td>1200</td>\n",
       "      <td>2.0</td>\n",
       "      <td>51.00</td>\n",
       "    </tr>\n",
       "  </tbody>\n",
       "</table>\n",
       "</div>"
      ],
      "text/plain": [
       "                   location       size total_sqft  bath   price\n",
       "0  Electronic City Phase II      2 BHK       1056   2.0   39.07\n",
       "1          Chikka Tirupathi  4 Bedroom       2600   5.0  120.00\n",
       "2               Uttarahalli      3 BHK       1440   2.0   62.00\n",
       "3        Lingadheeranahalli      3 BHK       1521   3.0   95.00\n",
       "4                  Kothanur      2 BHK       1200   2.0   51.00"
      ]
     },
     "execution_count": 652,
     "metadata": {},
     "output_type": "execute_result"
    }
   ],
   "source": [
    "df2 = df1.drop([\"area_type\", \"society\", \"balcony\", \"availability\"], axis=1)\n",
    "df2.head()"
   ]
  },
  {
   "cell_type": "code",
   "execution_count": 653,
   "metadata": {},
   "outputs": [
    {
     "data": {
      "text/plain": [
       "location       1\n",
       "size          16\n",
       "total_sqft     0\n",
       "bath          73\n",
       "price          0\n",
       "dtype: int64"
      ]
     },
     "execution_count": 653,
     "metadata": {},
     "output_type": "execute_result"
    }
   ],
   "source": [
    "df2.isnull().sum()"
   ]
  },
  {
   "cell_type": "code",
   "execution_count": 654,
   "metadata": {},
   "outputs": [
    {
     "data": {
      "text/plain": [
       "location      0\n",
       "size          0\n",
       "total_sqft    0\n",
       "bath          0\n",
       "price         0\n",
       "dtype: int64"
      ]
     },
     "execution_count": 654,
     "metadata": {},
     "output_type": "execute_result"
    }
   ],
   "source": [
    "df3 = df2.dropna()\n",
    "df3.isnull().sum()"
   ]
  },
  {
   "cell_type": "code",
   "execution_count": 655,
   "metadata": {},
   "outputs": [
    {
     "data": {
      "text/plain": [
       "(13246, 5)"
      ]
     },
     "execution_count": 655,
     "metadata": {},
     "output_type": "execute_result"
    }
   ],
   "source": [
    "df3.shape"
   ]
  },
  {
   "cell_type": "code",
   "execution_count": 656,
   "metadata": {},
   "outputs": [
    {
     "data": {
      "text/plain": [
       "array(['2 BHK', '4 Bedroom', '3 BHK', '4 BHK', '6 Bedroom', '3 Bedroom',\n",
       "       '1 BHK', '1 RK', '1 Bedroom', '8 Bedroom', '2 Bedroom',\n",
       "       '7 Bedroom', '5 BHK', '7 BHK', '6 BHK', '5 Bedroom', '11 BHK',\n",
       "       '9 BHK', '9 Bedroom', '27 BHK', '10 Bedroom', '11 Bedroom',\n",
       "       '10 BHK', '19 BHK', '16 BHK', '43 Bedroom', '14 BHK', '8 BHK',\n",
       "       '12 Bedroom', '13 BHK', '18 Bedroom'], dtype=object)"
      ]
     },
     "execution_count": 656,
     "metadata": {},
     "output_type": "execute_result"
    }
   ],
   "source": [
    "df3[\"size\"].unique()"
   ]
  },
  {
   "cell_type": "code",
   "execution_count": 657,
   "metadata": {},
   "outputs": [
    {
     "name": "stderr",
     "output_type": "stream",
     "text": [
      "C:\\Users\\Ben\\AppData\\Local\\Temp\\ipykernel_78136\\1418285638.py:1: SettingWithCopyWarning: \n",
      "A value is trying to be set on a copy of a slice from a DataFrame.\n",
      "Try using .loc[row_indexer,col_indexer] = value instead\n",
      "\n",
      "See the caveats in the documentation: https://pandas.pydata.org/pandas-docs/stable/user_guide/indexing.html#returning-a-view-versus-a-copy\n",
      "  df3[\"bhk\"] = df3[\"size\"].apply(lambda x: int(x.split(\" \")[0]))\n"
     ]
    },
    {
     "data": {
      "application/vnd.microsoft.datawrangler.viewer.v0+json": {
       "columns": [
        {
         "name": "index",
         "rawType": "int64",
         "type": "integer"
        },
        {
         "name": "location",
         "rawType": "object",
         "type": "string"
        },
        {
         "name": "size",
         "rawType": "object",
         "type": "string"
        },
        {
         "name": "total_sqft",
         "rawType": "object",
         "type": "string"
        },
        {
         "name": "bath",
         "rawType": "float64",
         "type": "float"
        },
        {
         "name": "price",
         "rawType": "float64",
         "type": "float"
        },
        {
         "name": "bhk",
         "rawType": "int64",
         "type": "integer"
        }
       ],
       "conversionMethod": "pd.DataFrame",
       "ref": "147b88c7-23b9-48a9-999e-f086ed2669c8",
       "rows": [
        [
         "0",
         "Electronic City Phase II",
         "2 BHK",
         "1056",
         "2.0",
         "39.07",
         "2"
        ],
        [
         "1",
         "Chikka Tirupathi",
         "4 Bedroom",
         "2600",
         "5.0",
         "120.0",
         "4"
        ],
        [
         "2",
         "Uttarahalli",
         "3 BHK",
         "1440",
         "2.0",
         "62.0",
         "3"
        ],
        [
         "3",
         "Lingadheeranahalli",
         "3 BHK",
         "1521",
         "3.0",
         "95.0",
         "3"
        ],
        [
         "4",
         "Kothanur",
         "2 BHK",
         "1200",
         "2.0",
         "51.0",
         "2"
        ]
       ],
       "shape": {
        "columns": 6,
        "rows": 5
       }
      },
      "text/html": [
       "<div>\n",
       "<style scoped>\n",
       "    .dataframe tbody tr th:only-of-type {\n",
       "        vertical-align: middle;\n",
       "    }\n",
       "\n",
       "    .dataframe tbody tr th {\n",
       "        vertical-align: top;\n",
       "    }\n",
       "\n",
       "    .dataframe thead th {\n",
       "        text-align: right;\n",
       "    }\n",
       "</style>\n",
       "<table border=\"1\" class=\"dataframe\">\n",
       "  <thead>\n",
       "    <tr style=\"text-align: right;\">\n",
       "      <th></th>\n",
       "      <th>location</th>\n",
       "      <th>size</th>\n",
       "      <th>total_sqft</th>\n",
       "      <th>bath</th>\n",
       "      <th>price</th>\n",
       "      <th>bhk</th>\n",
       "    </tr>\n",
       "  </thead>\n",
       "  <tbody>\n",
       "    <tr>\n",
       "      <th>0</th>\n",
       "      <td>Electronic City Phase II</td>\n",
       "      <td>2 BHK</td>\n",
       "      <td>1056</td>\n",
       "      <td>2.0</td>\n",
       "      <td>39.07</td>\n",
       "      <td>2</td>\n",
       "    </tr>\n",
       "    <tr>\n",
       "      <th>1</th>\n",
       "      <td>Chikka Tirupathi</td>\n",
       "      <td>4 Bedroom</td>\n",
       "      <td>2600</td>\n",
       "      <td>5.0</td>\n",
       "      <td>120.00</td>\n",
       "      <td>4</td>\n",
       "    </tr>\n",
       "    <tr>\n",
       "      <th>2</th>\n",
       "      <td>Uttarahalli</td>\n",
       "      <td>3 BHK</td>\n",
       "      <td>1440</td>\n",
       "      <td>2.0</td>\n",
       "      <td>62.00</td>\n",
       "      <td>3</td>\n",
       "    </tr>\n",
       "    <tr>\n",
       "      <th>3</th>\n",
       "      <td>Lingadheeranahalli</td>\n",
       "      <td>3 BHK</td>\n",
       "      <td>1521</td>\n",
       "      <td>3.0</td>\n",
       "      <td>95.00</td>\n",
       "      <td>3</td>\n",
       "    </tr>\n",
       "    <tr>\n",
       "      <th>4</th>\n",
       "      <td>Kothanur</td>\n",
       "      <td>2 BHK</td>\n",
       "      <td>1200</td>\n",
       "      <td>2.0</td>\n",
       "      <td>51.00</td>\n",
       "      <td>2</td>\n",
       "    </tr>\n",
       "  </tbody>\n",
       "</table>\n",
       "</div>"
      ],
      "text/plain": [
       "                   location       size total_sqft  bath   price  bhk\n",
       "0  Electronic City Phase II      2 BHK       1056   2.0   39.07    2\n",
       "1          Chikka Tirupathi  4 Bedroom       2600   5.0  120.00    4\n",
       "2               Uttarahalli      3 BHK       1440   2.0   62.00    3\n",
       "3        Lingadheeranahalli      3 BHK       1521   3.0   95.00    3\n",
       "4                  Kothanur      2 BHK       1200   2.0   51.00    2"
      ]
     },
     "execution_count": 657,
     "metadata": {},
     "output_type": "execute_result"
    }
   ],
   "source": [
    "df3[\"bhk\"] = df3[\"size\"].apply(lambda x: int(x.split(\" \")[0]))\n",
    "df3.head()"
   ]
  },
  {
   "cell_type": "code",
   "execution_count": 658,
   "metadata": {},
   "outputs": [
    {
     "data": {
      "text/plain": [
       "array([ 2,  4,  3,  6,  1,  8,  7,  5, 11,  9, 27, 10, 19, 16, 43, 14, 12,\n",
       "       13, 18], dtype=int64)"
      ]
     },
     "execution_count": 658,
     "metadata": {},
     "output_type": "execute_result"
    }
   ],
   "source": [
    "df3[\"bhk\"].unique()"
   ]
  },
  {
   "cell_type": "code",
   "execution_count": 659,
   "metadata": {},
   "outputs": [
    {
     "data": {
      "application/vnd.microsoft.datawrangler.viewer.v0+json": {
       "columns": [
        {
         "name": "index",
         "rawType": "int64",
         "type": "integer"
        },
        {
         "name": "location",
         "rawType": "object",
         "type": "string"
        },
        {
         "name": "size",
         "rawType": "object",
         "type": "string"
        },
        {
         "name": "total_sqft",
         "rawType": "object",
         "type": "string"
        },
        {
         "name": "bath",
         "rawType": "float64",
         "type": "float"
        },
        {
         "name": "price",
         "rawType": "float64",
         "type": "float"
        },
        {
         "name": "bhk",
         "rawType": "int64",
         "type": "integer"
        }
       ],
       "conversionMethod": "pd.DataFrame",
       "ref": "d6f9c1cb-e966-497a-88c6-8a2760ddd7bf",
       "rows": [
        [
         "1718",
         "2Electronic City Phase II",
         "27 BHK",
         "8000",
         "27.0",
         "230.0",
         "27"
        ],
        [
         "4684",
         "Munnekollal",
         "43 Bedroom",
         "2400",
         "40.0",
         "660.0",
         "43"
        ]
       ],
       "shape": {
        "columns": 6,
        "rows": 2
       }
      },
      "text/html": [
       "<div>\n",
       "<style scoped>\n",
       "    .dataframe tbody tr th:only-of-type {\n",
       "        vertical-align: middle;\n",
       "    }\n",
       "\n",
       "    .dataframe tbody tr th {\n",
       "        vertical-align: top;\n",
       "    }\n",
       "\n",
       "    .dataframe thead th {\n",
       "        text-align: right;\n",
       "    }\n",
       "</style>\n",
       "<table border=\"1\" class=\"dataframe\">\n",
       "  <thead>\n",
       "    <tr style=\"text-align: right;\">\n",
       "      <th></th>\n",
       "      <th>location</th>\n",
       "      <th>size</th>\n",
       "      <th>total_sqft</th>\n",
       "      <th>bath</th>\n",
       "      <th>price</th>\n",
       "      <th>bhk</th>\n",
       "    </tr>\n",
       "  </thead>\n",
       "  <tbody>\n",
       "    <tr>\n",
       "      <th>1718</th>\n",
       "      <td>2Electronic City Phase II</td>\n",
       "      <td>27 BHK</td>\n",
       "      <td>8000</td>\n",
       "      <td>27.0</td>\n",
       "      <td>230.0</td>\n",
       "      <td>27</td>\n",
       "    </tr>\n",
       "    <tr>\n",
       "      <th>4684</th>\n",
       "      <td>Munnekollal</td>\n",
       "      <td>43 Bedroom</td>\n",
       "      <td>2400</td>\n",
       "      <td>40.0</td>\n",
       "      <td>660.0</td>\n",
       "      <td>43</td>\n",
       "    </tr>\n",
       "  </tbody>\n",
       "</table>\n",
       "</div>"
      ],
      "text/plain": [
       "                       location        size total_sqft  bath  price  bhk\n",
       "1718  2Electronic City Phase II      27 BHK       8000  27.0  230.0   27\n",
       "4684                Munnekollal  43 Bedroom       2400  40.0  660.0   43"
      ]
     },
     "execution_count": 659,
     "metadata": {},
     "output_type": "execute_result"
    }
   ],
   "source": [
    "df3[df3[\"bhk\"] > 20]"
   ]
  },
  {
   "cell_type": "code",
   "execution_count": 660,
   "metadata": {},
   "outputs": [
    {
     "data": {
      "text/plain": [
       "array(['1056', '2600', '1440', ..., '1133 - 1384', '774', '4689'],\n",
       "      dtype=object)"
      ]
     },
     "execution_count": 660,
     "metadata": {},
     "output_type": "execute_result"
    }
   ],
   "source": [
    "df3[\"total_sqft\"].unique()"
   ]
  },
  {
   "cell_type": "code",
   "execution_count": 661,
   "metadata": {},
   "outputs": [],
   "source": [
    "def is_float(x):\n",
    "    try:\n",
    "        float(x)\n",
    "    except:\n",
    "        return False\n",
    "    return True"
   ]
  },
  {
   "cell_type": "code",
   "execution_count": 662,
   "metadata": {},
   "outputs": [
    {
     "data": {
      "application/vnd.microsoft.datawrangler.viewer.v0+json": {
       "columns": [
        {
         "name": "index",
         "rawType": "int64",
         "type": "integer"
        },
        {
         "name": "location",
         "rawType": "object",
         "type": "string"
        },
        {
         "name": "size",
         "rawType": "object",
         "type": "string"
        },
        {
         "name": "total_sqft",
         "rawType": "object",
         "type": "string"
        },
        {
         "name": "bath",
         "rawType": "float64",
         "type": "float"
        },
        {
         "name": "price",
         "rawType": "float64",
         "type": "float"
        },
        {
         "name": "bhk",
         "rawType": "int64",
         "type": "integer"
        }
       ],
       "conversionMethod": "pd.DataFrame",
       "ref": "4dd0e193-81f6-441d-b9e8-15f805a9af3f",
       "rows": [
        [
         "30",
         "Yelahanka",
         "4 BHK",
         "2100 - 2850",
         "4.0",
         "186.0",
         "4"
        ],
        [
         "122",
         "Hebbal",
         "4 BHK",
         "3067 - 8156",
         "4.0",
         "477.0",
         "4"
        ],
        [
         "137",
         "8th Phase JP Nagar",
         "2 BHK",
         "1042 - 1105",
         "2.0",
         "54.005",
         "2"
        ],
        [
         "165",
         "Sarjapur",
         "2 BHK",
         "1145 - 1340",
         "2.0",
         "43.49",
         "2"
        ],
        [
         "188",
         "KR Puram",
         "2 BHK",
         "1015 - 1540",
         "2.0",
         "56.8",
         "2"
        ],
        [
         "410",
         "Kengeri",
         "1 BHK",
         "34.46Sq. Meter",
         "1.0",
         "18.5",
         "1"
        ],
        [
         "549",
         "Hennur Road",
         "2 BHK",
         "1195 - 1440",
         "2.0",
         "63.77",
         "2"
        ],
        [
         "648",
         "Arekere",
         "9 Bedroom",
         "4125Perch",
         "9.0",
         "265.0",
         "9"
        ],
        [
         "661",
         "Yelahanka",
         "2 BHK",
         "1120 - 1145",
         "2.0",
         "48.13",
         "2"
        ],
        [
         "672",
         "Bettahalsoor",
         "4 Bedroom",
         "3090 - 5002",
         "4.0",
         "445.0",
         "4"
        ]
       ],
       "shape": {
        "columns": 6,
        "rows": 10
       }
      },
      "text/html": [
       "<div>\n",
       "<style scoped>\n",
       "    .dataframe tbody tr th:only-of-type {\n",
       "        vertical-align: middle;\n",
       "    }\n",
       "\n",
       "    .dataframe tbody tr th {\n",
       "        vertical-align: top;\n",
       "    }\n",
       "\n",
       "    .dataframe thead th {\n",
       "        text-align: right;\n",
       "    }\n",
       "</style>\n",
       "<table border=\"1\" class=\"dataframe\">\n",
       "  <thead>\n",
       "    <tr style=\"text-align: right;\">\n",
       "      <th></th>\n",
       "      <th>location</th>\n",
       "      <th>size</th>\n",
       "      <th>total_sqft</th>\n",
       "      <th>bath</th>\n",
       "      <th>price</th>\n",
       "      <th>bhk</th>\n",
       "    </tr>\n",
       "  </thead>\n",
       "  <tbody>\n",
       "    <tr>\n",
       "      <th>30</th>\n",
       "      <td>Yelahanka</td>\n",
       "      <td>4 BHK</td>\n",
       "      <td>2100 - 2850</td>\n",
       "      <td>4.0</td>\n",
       "      <td>186.000</td>\n",
       "      <td>4</td>\n",
       "    </tr>\n",
       "    <tr>\n",
       "      <th>122</th>\n",
       "      <td>Hebbal</td>\n",
       "      <td>4 BHK</td>\n",
       "      <td>3067 - 8156</td>\n",
       "      <td>4.0</td>\n",
       "      <td>477.000</td>\n",
       "      <td>4</td>\n",
       "    </tr>\n",
       "    <tr>\n",
       "      <th>137</th>\n",
       "      <td>8th Phase JP Nagar</td>\n",
       "      <td>2 BHK</td>\n",
       "      <td>1042 - 1105</td>\n",
       "      <td>2.0</td>\n",
       "      <td>54.005</td>\n",
       "      <td>2</td>\n",
       "    </tr>\n",
       "    <tr>\n",
       "      <th>165</th>\n",
       "      <td>Sarjapur</td>\n",
       "      <td>2 BHK</td>\n",
       "      <td>1145 - 1340</td>\n",
       "      <td>2.0</td>\n",
       "      <td>43.490</td>\n",
       "      <td>2</td>\n",
       "    </tr>\n",
       "    <tr>\n",
       "      <th>188</th>\n",
       "      <td>KR Puram</td>\n",
       "      <td>2 BHK</td>\n",
       "      <td>1015 - 1540</td>\n",
       "      <td>2.0</td>\n",
       "      <td>56.800</td>\n",
       "      <td>2</td>\n",
       "    </tr>\n",
       "    <tr>\n",
       "      <th>410</th>\n",
       "      <td>Kengeri</td>\n",
       "      <td>1 BHK</td>\n",
       "      <td>34.46Sq. Meter</td>\n",
       "      <td>1.0</td>\n",
       "      <td>18.500</td>\n",
       "      <td>1</td>\n",
       "    </tr>\n",
       "    <tr>\n",
       "      <th>549</th>\n",
       "      <td>Hennur Road</td>\n",
       "      <td>2 BHK</td>\n",
       "      <td>1195 - 1440</td>\n",
       "      <td>2.0</td>\n",
       "      <td>63.770</td>\n",
       "      <td>2</td>\n",
       "    </tr>\n",
       "    <tr>\n",
       "      <th>648</th>\n",
       "      <td>Arekere</td>\n",
       "      <td>9 Bedroom</td>\n",
       "      <td>4125Perch</td>\n",
       "      <td>9.0</td>\n",
       "      <td>265.000</td>\n",
       "      <td>9</td>\n",
       "    </tr>\n",
       "    <tr>\n",
       "      <th>661</th>\n",
       "      <td>Yelahanka</td>\n",
       "      <td>2 BHK</td>\n",
       "      <td>1120 - 1145</td>\n",
       "      <td>2.0</td>\n",
       "      <td>48.130</td>\n",
       "      <td>2</td>\n",
       "    </tr>\n",
       "    <tr>\n",
       "      <th>672</th>\n",
       "      <td>Bettahalsoor</td>\n",
       "      <td>4 Bedroom</td>\n",
       "      <td>3090 - 5002</td>\n",
       "      <td>4.0</td>\n",
       "      <td>445.000</td>\n",
       "      <td>4</td>\n",
       "    </tr>\n",
       "  </tbody>\n",
       "</table>\n",
       "</div>"
      ],
      "text/plain": [
       "               location       size      total_sqft  bath    price  bhk\n",
       "30            Yelahanka      4 BHK     2100 - 2850   4.0  186.000    4\n",
       "122              Hebbal      4 BHK     3067 - 8156   4.0  477.000    4\n",
       "137  8th Phase JP Nagar      2 BHK     1042 - 1105   2.0   54.005    2\n",
       "165            Sarjapur      2 BHK     1145 - 1340   2.0   43.490    2\n",
       "188            KR Puram      2 BHK     1015 - 1540   2.0   56.800    2\n",
       "410             Kengeri      1 BHK  34.46Sq. Meter   1.0   18.500    1\n",
       "549         Hennur Road      2 BHK     1195 - 1440   2.0   63.770    2\n",
       "648             Arekere  9 Bedroom       4125Perch   9.0  265.000    9\n",
       "661           Yelahanka      2 BHK     1120 - 1145   2.0   48.130    2\n",
       "672        Bettahalsoor  4 Bedroom     3090 - 5002   4.0  445.000    4"
      ]
     },
     "execution_count": 662,
     "metadata": {},
     "output_type": "execute_result"
    }
   ],
   "source": [
    "df3[~df3[\"total_sqft\"].apply(is_float)].head(10)"
   ]
  },
  {
   "cell_type": "code",
   "execution_count": 663,
   "metadata": {},
   "outputs": [],
   "source": [
    "def convert_sqft_to_num(x):\n",
    "    tokens = x.split(\"-\")\n",
    "    if len(tokens) == 2:\n",
    "        return ((float(tokens[0]) + float(tokens[1])) / 2)\n",
    "    try:\n",
    "        return float(x)\n",
    "    except:\n",
    "        return None"
   ]
  },
  {
   "cell_type": "code",
   "execution_count": 664,
   "metadata": {},
   "outputs": [
    {
     "name": "stdout",
     "output_type": "stream",
     "text": [
      "2166.0\n",
      "2283.0\n",
      "None\n",
      "None\n"
     ]
    }
   ],
   "source": [
    "print(convert_sqft_to_num(\"2166\"))\n",
    "print(convert_sqft_to_num(\"2166 - 2400\"))\n",
    "print(convert_sqft_to_num(\"2166 - 2400 - 2500\"))\n",
    "print(convert_sqft_to_num(\"34.46sq. meter\"))"
   ]
  },
  {
   "cell_type": "code",
   "execution_count": 665,
   "metadata": {},
   "outputs": [
    {
     "data": {
      "application/vnd.microsoft.datawrangler.viewer.v0+json": {
       "columns": [
        {
         "name": "index",
         "rawType": "int64",
         "type": "integer"
        },
        {
         "name": "location",
         "rawType": "object",
         "type": "string"
        },
        {
         "name": "size",
         "rawType": "object",
         "type": "string"
        },
        {
         "name": "total_sqft",
         "rawType": "float64",
         "type": "float"
        },
        {
         "name": "bath",
         "rawType": "float64",
         "type": "float"
        },
        {
         "name": "price",
         "rawType": "float64",
         "type": "float"
        },
        {
         "name": "bhk",
         "rawType": "int64",
         "type": "integer"
        }
       ],
       "conversionMethod": "pd.DataFrame",
       "ref": "4c694885-e194-4657-bf8c-e3f0c7e39f6b",
       "rows": [
        [
         "0",
         "Electronic City Phase II",
         "2 BHK",
         "1056.0",
         "2.0",
         "39.07",
         "2"
        ],
        [
         "1",
         "Chikka Tirupathi",
         "4 Bedroom",
         "2600.0",
         "5.0",
         "120.0",
         "4"
        ],
        [
         "2",
         "Uttarahalli",
         "3 BHK",
         "1440.0",
         "2.0",
         "62.0",
         "3"
        ],
        [
         "3",
         "Lingadheeranahalli",
         "3 BHK",
         "1521.0",
         "3.0",
         "95.0",
         "3"
        ],
        [
         "4",
         "Kothanur",
         "2 BHK",
         "1200.0",
         "2.0",
         "51.0",
         "2"
        ]
       ],
       "shape": {
        "columns": 6,
        "rows": 5
       }
      },
      "text/html": [
       "<div>\n",
       "<style scoped>\n",
       "    .dataframe tbody tr th:only-of-type {\n",
       "        vertical-align: middle;\n",
       "    }\n",
       "\n",
       "    .dataframe tbody tr th {\n",
       "        vertical-align: top;\n",
       "    }\n",
       "\n",
       "    .dataframe thead th {\n",
       "        text-align: right;\n",
       "    }\n",
       "</style>\n",
       "<table border=\"1\" class=\"dataframe\">\n",
       "  <thead>\n",
       "    <tr style=\"text-align: right;\">\n",
       "      <th></th>\n",
       "      <th>location</th>\n",
       "      <th>size</th>\n",
       "      <th>total_sqft</th>\n",
       "      <th>bath</th>\n",
       "      <th>price</th>\n",
       "      <th>bhk</th>\n",
       "    </tr>\n",
       "  </thead>\n",
       "  <tbody>\n",
       "    <tr>\n",
       "      <th>0</th>\n",
       "      <td>Electronic City Phase II</td>\n",
       "      <td>2 BHK</td>\n",
       "      <td>1056.0</td>\n",
       "      <td>2.0</td>\n",
       "      <td>39.07</td>\n",
       "      <td>2</td>\n",
       "    </tr>\n",
       "    <tr>\n",
       "      <th>1</th>\n",
       "      <td>Chikka Tirupathi</td>\n",
       "      <td>4 Bedroom</td>\n",
       "      <td>2600.0</td>\n",
       "      <td>5.0</td>\n",
       "      <td>120.00</td>\n",
       "      <td>4</td>\n",
       "    </tr>\n",
       "    <tr>\n",
       "      <th>2</th>\n",
       "      <td>Uttarahalli</td>\n",
       "      <td>3 BHK</td>\n",
       "      <td>1440.0</td>\n",
       "      <td>2.0</td>\n",
       "      <td>62.00</td>\n",
       "      <td>3</td>\n",
       "    </tr>\n",
       "    <tr>\n",
       "      <th>3</th>\n",
       "      <td>Lingadheeranahalli</td>\n",
       "      <td>3 BHK</td>\n",
       "      <td>1521.0</td>\n",
       "      <td>3.0</td>\n",
       "      <td>95.00</td>\n",
       "      <td>3</td>\n",
       "    </tr>\n",
       "    <tr>\n",
       "      <th>4</th>\n",
       "      <td>Kothanur</td>\n",
       "      <td>2 BHK</td>\n",
       "      <td>1200.0</td>\n",
       "      <td>2.0</td>\n",
       "      <td>51.00</td>\n",
       "      <td>2</td>\n",
       "    </tr>\n",
       "  </tbody>\n",
       "</table>\n",
       "</div>"
      ],
      "text/plain": [
       "                   location       size  total_sqft  bath   price  bhk\n",
       "0  Electronic City Phase II      2 BHK      1056.0   2.0   39.07    2\n",
       "1          Chikka Tirupathi  4 Bedroom      2600.0   5.0  120.00    4\n",
       "2               Uttarahalli      3 BHK      1440.0   2.0   62.00    3\n",
       "3        Lingadheeranahalli      3 BHK      1521.0   3.0   95.00    3\n",
       "4                  Kothanur      2 BHK      1200.0   2.0   51.00    2"
      ]
     },
     "execution_count": 665,
     "metadata": {},
     "output_type": "execute_result"
    }
   ],
   "source": [
    "df4 = df3.copy()\n",
    "df4[\"total_sqft\"] = df4[\"total_sqft\"].apply(convert_sqft_to_num)\n",
    "df4.head(5)"
   ]
  },
  {
   "cell_type": "code",
   "execution_count": 666,
   "metadata": {},
   "outputs": [
    {
     "data": {
      "text/plain": [
       "location      Yelahanka\n",
       "size              4 BHK\n",
       "total_sqft       2475.0\n",
       "bath                4.0\n",
       "price             186.0\n",
       "bhk                   4\n",
       "Name: 30, dtype: object"
      ]
     },
     "execution_count": 666,
     "metadata": {},
     "output_type": "execute_result"
    }
   ],
   "source": [
    "df4.loc[30]"
   ]
  },
  {
   "cell_type": "code",
   "execution_count": 667,
   "metadata": {},
   "outputs": [
    {
     "data": {
      "text/plain": [
       "2475.0"
      ]
     },
     "execution_count": 667,
     "metadata": {},
     "output_type": "execute_result"
    }
   ],
   "source": [
    "(2100 + 2850) / 2"
   ]
  },
  {
   "cell_type": "code",
   "execution_count": 668,
   "metadata": {},
   "outputs": [
    {
     "data": {
      "application/vnd.microsoft.datawrangler.viewer.v0+json": {
       "columns": [
        {
         "name": "index",
         "rawType": "int64",
         "type": "integer"
        },
        {
         "name": "location",
         "rawType": "object",
         "type": "string"
        },
        {
         "name": "size",
         "rawType": "object",
         "type": "string"
        },
        {
         "name": "total_sqft",
         "rawType": "float64",
         "type": "float"
        },
        {
         "name": "bath",
         "rawType": "float64",
         "type": "float"
        },
        {
         "name": "price",
         "rawType": "float64",
         "type": "float"
        },
        {
         "name": "bhk",
         "rawType": "int64",
         "type": "integer"
        }
       ],
       "conversionMethod": "pd.DataFrame",
       "ref": "a920b416-7f67-4320-9320-c1e884047d5f",
       "rows": [
        [
         "0",
         "Electronic City Phase II",
         "2 BHK",
         "1056.0",
         "2.0",
         "39.07",
         "2"
        ],
        [
         "1",
         "Chikka Tirupathi",
         "4 Bedroom",
         "2600.0",
         "5.0",
         "120.0",
         "4"
        ],
        [
         "2",
         "Uttarahalli",
         "3 BHK",
         "1440.0",
         "2.0",
         "62.0",
         "3"
        ]
       ],
       "shape": {
        "columns": 6,
        "rows": 3
       }
      },
      "text/html": [
       "<div>\n",
       "<style scoped>\n",
       "    .dataframe tbody tr th:only-of-type {\n",
       "        vertical-align: middle;\n",
       "    }\n",
       "\n",
       "    .dataframe tbody tr th {\n",
       "        vertical-align: top;\n",
       "    }\n",
       "\n",
       "    .dataframe thead th {\n",
       "        text-align: right;\n",
       "    }\n",
       "</style>\n",
       "<table border=\"1\" class=\"dataframe\">\n",
       "  <thead>\n",
       "    <tr style=\"text-align: right;\">\n",
       "      <th></th>\n",
       "      <th>location</th>\n",
       "      <th>size</th>\n",
       "      <th>total_sqft</th>\n",
       "      <th>bath</th>\n",
       "      <th>price</th>\n",
       "      <th>bhk</th>\n",
       "    </tr>\n",
       "  </thead>\n",
       "  <tbody>\n",
       "    <tr>\n",
       "      <th>0</th>\n",
       "      <td>Electronic City Phase II</td>\n",
       "      <td>2 BHK</td>\n",
       "      <td>1056.0</td>\n",
       "      <td>2.0</td>\n",
       "      <td>39.07</td>\n",
       "      <td>2</td>\n",
       "    </tr>\n",
       "    <tr>\n",
       "      <th>1</th>\n",
       "      <td>Chikka Tirupathi</td>\n",
       "      <td>4 Bedroom</td>\n",
       "      <td>2600.0</td>\n",
       "      <td>5.0</td>\n",
       "      <td>120.00</td>\n",
       "      <td>4</td>\n",
       "    </tr>\n",
       "    <tr>\n",
       "      <th>2</th>\n",
       "      <td>Uttarahalli</td>\n",
       "      <td>3 BHK</td>\n",
       "      <td>1440.0</td>\n",
       "      <td>2.0</td>\n",
       "      <td>62.00</td>\n",
       "      <td>3</td>\n",
       "    </tr>\n",
       "  </tbody>\n",
       "</table>\n",
       "</div>"
      ],
      "text/plain": [
       "                   location       size  total_sqft  bath   price  bhk\n",
       "0  Electronic City Phase II      2 BHK      1056.0   2.0   39.07    2\n",
       "1          Chikka Tirupathi  4 Bedroom      2600.0   5.0  120.00    4\n",
       "2               Uttarahalli      3 BHK      1440.0   2.0   62.00    3"
      ]
     },
     "execution_count": 668,
     "metadata": {},
     "output_type": "execute_result"
    }
   ],
   "source": [
    "df4.head(3)"
   ]
  },
  {
   "cell_type": "code",
   "execution_count": 669,
   "metadata": {},
   "outputs": [
    {
     "data": {
      "application/vnd.microsoft.datawrangler.viewer.v0+json": {
       "columns": [
        {
         "name": "index",
         "rawType": "int64",
         "type": "integer"
        },
        {
         "name": "location",
         "rawType": "object",
         "type": "string"
        },
        {
         "name": "size",
         "rawType": "object",
         "type": "string"
        },
        {
         "name": "total_sqft",
         "rawType": "float64",
         "type": "float"
        },
        {
         "name": "bath",
         "rawType": "float64",
         "type": "float"
        },
        {
         "name": "price",
         "rawType": "float64",
         "type": "float"
        },
        {
         "name": "bhk",
         "rawType": "int64",
         "type": "integer"
        },
        {
         "name": "price_per_sqft",
         "rawType": "float64",
         "type": "float"
        }
       ],
       "conversionMethod": "pd.DataFrame",
       "ref": "fcdbabe1-54ad-4ee4-a25f-abb2dab4d5d4",
       "rows": [
        [
         "0",
         "Electronic City Phase II",
         "2 BHK",
         "1056.0",
         "2.0",
         "0.42977",
         "2",
         "40.697916666666664"
        ],
        [
         "1",
         "Chikka Tirupathi",
         "4 Bedroom",
         "2600.0",
         "5.0",
         "1.3199999999999998",
         "4",
         "50.76923076923076"
        ],
        [
         "2",
         "Uttarahalli",
         "3 BHK",
         "1440.0",
         "2.0",
         "0.6819999999999999",
         "3",
         "47.361111111111114"
        ],
        [
         "3",
         "Lingadheeranahalli",
         "3 BHK",
         "1521.0",
         "3.0",
         "1.045",
         "3",
         "68.70479947403024"
        ],
        [
         "4",
         "Kothanur",
         "2 BHK",
         "1200.0",
         "2.0",
         "0.5609999999999999",
         "2",
         "46.74999999999999"
        ]
       ],
       "shape": {
        "columns": 7,
        "rows": 5
       }
      },
      "text/html": [
       "<div>\n",
       "<style scoped>\n",
       "    .dataframe tbody tr th:only-of-type {\n",
       "        vertical-align: middle;\n",
       "    }\n",
       "\n",
       "    .dataframe tbody tr th {\n",
       "        vertical-align: top;\n",
       "    }\n",
       "\n",
       "    .dataframe thead th {\n",
       "        text-align: right;\n",
       "    }\n",
       "</style>\n",
       "<table border=\"1\" class=\"dataframe\">\n",
       "  <thead>\n",
       "    <tr style=\"text-align: right;\">\n",
       "      <th></th>\n",
       "      <th>location</th>\n",
       "      <th>size</th>\n",
       "      <th>total_sqft</th>\n",
       "      <th>bath</th>\n",
       "      <th>price</th>\n",
       "      <th>bhk</th>\n",
       "      <th>price_per_sqft</th>\n",
       "    </tr>\n",
       "  </thead>\n",
       "  <tbody>\n",
       "    <tr>\n",
       "      <th>0</th>\n",
       "      <td>Electronic City Phase II</td>\n",
       "      <td>2 BHK</td>\n",
       "      <td>1056.0</td>\n",
       "      <td>2.0</td>\n",
       "      <td>0.42977</td>\n",
       "      <td>2</td>\n",
       "      <td>40.697917</td>\n",
       "    </tr>\n",
       "    <tr>\n",
       "      <th>1</th>\n",
       "      <td>Chikka Tirupathi</td>\n",
       "      <td>4 Bedroom</td>\n",
       "      <td>2600.0</td>\n",
       "      <td>5.0</td>\n",
       "      <td>1.32000</td>\n",
       "      <td>4</td>\n",
       "      <td>50.769231</td>\n",
       "    </tr>\n",
       "    <tr>\n",
       "      <th>2</th>\n",
       "      <td>Uttarahalli</td>\n",
       "      <td>3 BHK</td>\n",
       "      <td>1440.0</td>\n",
       "      <td>2.0</td>\n",
       "      <td>0.68200</td>\n",
       "      <td>3</td>\n",
       "      <td>47.361111</td>\n",
       "    </tr>\n",
       "    <tr>\n",
       "      <th>3</th>\n",
       "      <td>Lingadheeranahalli</td>\n",
       "      <td>3 BHK</td>\n",
       "      <td>1521.0</td>\n",
       "      <td>3.0</td>\n",
       "      <td>1.04500</td>\n",
       "      <td>3</td>\n",
       "      <td>68.704799</td>\n",
       "    </tr>\n",
       "    <tr>\n",
       "      <th>4</th>\n",
       "      <td>Kothanur</td>\n",
       "      <td>2 BHK</td>\n",
       "      <td>1200.0</td>\n",
       "      <td>2.0</td>\n",
       "      <td>0.56100</td>\n",
       "      <td>2</td>\n",
       "      <td>46.750000</td>\n",
       "    </tr>\n",
       "  </tbody>\n",
       "</table>\n",
       "</div>"
      ],
      "text/plain": [
       "                   location       size  total_sqft  bath    price  bhk  \\\n",
       "0  Electronic City Phase II      2 BHK      1056.0   2.0  0.42977    2   \n",
       "1          Chikka Tirupathi  4 Bedroom      2600.0   5.0  1.32000    4   \n",
       "2               Uttarahalli      3 BHK      1440.0   2.0  0.68200    3   \n",
       "3        Lingadheeranahalli      3 BHK      1521.0   3.0  1.04500    3   \n",
       "4                  Kothanur      2 BHK      1200.0   2.0  0.56100    2   \n",
       "\n",
       "   price_per_sqft  \n",
       "0       40.697917  \n",
       "1       50.769231  \n",
       "2       47.361111  \n",
       "3       68.704799  \n",
       "4       46.750000  "
      ]
     },
     "execution_count": 669,
     "metadata": {},
     "output_type": "execute_result"
    }
   ],
   "source": [
    "df5 = df4.copy()\n",
    "df5[\"price\"] = df5[\"price\"] * .011 # current conversion rate from Rupees to USD\n",
    "df5[\"price_per_sqft\"] = df5[\"price\"] * 100000 / df5[\"total_sqft\"]\n",
    "df5.head(5)"
   ]
  },
  {
   "cell_type": "code",
   "execution_count": 670,
   "metadata": {},
   "outputs": [
    {
     "data": {
      "text/plain": [
       "1304"
      ]
     },
     "execution_count": 670,
     "metadata": {},
     "output_type": "execute_result"
    }
   ],
   "source": [
    "len(df5[\"location\"].unique())"
   ]
  },
  {
   "cell_type": "code",
   "execution_count": 671,
   "metadata": {},
   "outputs": [
    {
     "data": {
      "text/plain": [
       "location\n",
       "Whitefield               535\n",
       "Sarjapur  Road           392\n",
       "Electronic City          304\n",
       "Kanakpura Road           266\n",
       "Thanisandra              236\n",
       "                        ... \n",
       "1 Giri Nagar               1\n",
       "Kanakapura Road,           1\n",
       "Kanakapura main  Road      1\n",
       "Karnataka Shabarimala      1\n",
       "whitefiled                 1\n",
       "Name: location, Length: 1293, dtype: int64"
      ]
     },
     "execution_count": 671,
     "metadata": {},
     "output_type": "execute_result"
    }
   ],
   "source": [
    "df5[\"location\"] = df5[\"location\"].apply(lambda x: x.strip())\n",
    "\n",
    "location_stats = df5.groupby(\"location\")[\"location\"].agg(\"count\").sort_values(ascending=False)\n",
    "location_stats"
   ]
  },
  {
   "cell_type": "code",
   "execution_count": 672,
   "metadata": {},
   "outputs": [],
   "source": [
    "locations_less_than_10 = location_stats[location_stats <= 10]"
   ]
  },
  {
   "cell_type": "code",
   "execution_count": 673,
   "metadata": {},
   "outputs": [],
   "source": [
    "df5[\"location\"] = df5[\"location\"].apply(lambda x: \"other\" if x in locations_less_than_10 else x)"
   ]
  },
  {
   "cell_type": "code",
   "execution_count": 674,
   "metadata": {},
   "outputs": [
    {
     "data": {
      "text/plain": [
       "242"
      ]
     },
     "execution_count": 674,
     "metadata": {},
     "output_type": "execute_result"
    }
   ],
   "source": [
    "len(df5[\"location\"].unique())"
   ]
  },
  {
   "cell_type": "code",
   "execution_count": 675,
   "metadata": {},
   "outputs": [
    {
     "data": {
      "application/vnd.microsoft.datawrangler.viewer.v0+json": {
       "columns": [
        {
         "name": "index",
         "rawType": "int64",
         "type": "integer"
        },
        {
         "name": "location",
         "rawType": "object",
         "type": "string"
        },
        {
         "name": "size",
         "rawType": "object",
         "type": "string"
        },
        {
         "name": "total_sqft",
         "rawType": "float64",
         "type": "float"
        },
        {
         "name": "bath",
         "rawType": "float64",
         "type": "float"
        },
        {
         "name": "price",
         "rawType": "float64",
         "type": "float"
        },
        {
         "name": "bhk",
         "rawType": "int64",
         "type": "integer"
        },
        {
         "name": "price_per_sqft",
         "rawType": "float64",
         "type": "float"
        }
       ],
       "conversionMethod": "pd.DataFrame",
       "ref": "7355b695-7527-4a20-9bf6-cb983d774283",
       "rows": [
        [
         "0",
         "Electronic City Phase II",
         "2 BHK",
         "1056.0",
         "2.0",
         "0.42977",
         "2",
         "40.697916666666664"
        ],
        [
         "1",
         "Chikka Tirupathi",
         "4 Bedroom",
         "2600.0",
         "5.0",
         "1.3199999999999998",
         "4",
         "50.76923076923076"
        ],
        [
         "2",
         "Uttarahalli",
         "3 BHK",
         "1440.0",
         "2.0",
         "0.6819999999999999",
         "3",
         "47.361111111111114"
        ],
        [
         "3",
         "Lingadheeranahalli",
         "3 BHK",
         "1521.0",
         "3.0",
         "1.045",
         "3",
         "68.70479947403024"
        ],
        [
         "4",
         "Kothanur",
         "2 BHK",
         "1200.0",
         "2.0",
         "0.5609999999999999",
         "2",
         "46.74999999999999"
        ],
        [
         "5",
         "Whitefield",
         "2 BHK",
         "1170.0",
         "2.0",
         "0.418",
         "2",
         "35.72649572649573"
        ],
        [
         "6",
         "Old Airport Road",
         "4 BHK",
         "2732.0",
         "4.0",
         "2.2439999999999998",
         "4",
         "82.13762811127378"
        ],
        [
         "7",
         "Rajaji Nagar",
         "4 BHK",
         "3300.0",
         "4.0",
         "6.6",
         "4",
         "200.0"
        ],
        [
         "8",
         "Marathahalli",
         "3 BHK",
         "1310.0",
         "3.0",
         "0.69575",
         "3",
         "53.11068702290076"
        ],
        [
         "9",
         "other",
         "6 Bedroom",
         "1020.0",
         "6.0",
         "4.069999999999999",
         "6",
         "399.0196078431372"
        ]
       ],
       "shape": {
        "columns": 7,
        "rows": 10
       }
      },
      "text/html": [
       "<div>\n",
       "<style scoped>\n",
       "    .dataframe tbody tr th:only-of-type {\n",
       "        vertical-align: middle;\n",
       "    }\n",
       "\n",
       "    .dataframe tbody tr th {\n",
       "        vertical-align: top;\n",
       "    }\n",
       "\n",
       "    .dataframe thead th {\n",
       "        text-align: right;\n",
       "    }\n",
       "</style>\n",
       "<table border=\"1\" class=\"dataframe\">\n",
       "  <thead>\n",
       "    <tr style=\"text-align: right;\">\n",
       "      <th></th>\n",
       "      <th>location</th>\n",
       "      <th>size</th>\n",
       "      <th>total_sqft</th>\n",
       "      <th>bath</th>\n",
       "      <th>price</th>\n",
       "      <th>bhk</th>\n",
       "      <th>price_per_sqft</th>\n",
       "    </tr>\n",
       "  </thead>\n",
       "  <tbody>\n",
       "    <tr>\n",
       "      <th>0</th>\n",
       "      <td>Electronic City Phase II</td>\n",
       "      <td>2 BHK</td>\n",
       "      <td>1056.0</td>\n",
       "      <td>2.0</td>\n",
       "      <td>0.42977</td>\n",
       "      <td>2</td>\n",
       "      <td>40.697917</td>\n",
       "    </tr>\n",
       "    <tr>\n",
       "      <th>1</th>\n",
       "      <td>Chikka Tirupathi</td>\n",
       "      <td>4 Bedroom</td>\n",
       "      <td>2600.0</td>\n",
       "      <td>5.0</td>\n",
       "      <td>1.32000</td>\n",
       "      <td>4</td>\n",
       "      <td>50.769231</td>\n",
       "    </tr>\n",
       "    <tr>\n",
       "      <th>2</th>\n",
       "      <td>Uttarahalli</td>\n",
       "      <td>3 BHK</td>\n",
       "      <td>1440.0</td>\n",
       "      <td>2.0</td>\n",
       "      <td>0.68200</td>\n",
       "      <td>3</td>\n",
       "      <td>47.361111</td>\n",
       "    </tr>\n",
       "    <tr>\n",
       "      <th>3</th>\n",
       "      <td>Lingadheeranahalli</td>\n",
       "      <td>3 BHK</td>\n",
       "      <td>1521.0</td>\n",
       "      <td>3.0</td>\n",
       "      <td>1.04500</td>\n",
       "      <td>3</td>\n",
       "      <td>68.704799</td>\n",
       "    </tr>\n",
       "    <tr>\n",
       "      <th>4</th>\n",
       "      <td>Kothanur</td>\n",
       "      <td>2 BHK</td>\n",
       "      <td>1200.0</td>\n",
       "      <td>2.0</td>\n",
       "      <td>0.56100</td>\n",
       "      <td>2</td>\n",
       "      <td>46.750000</td>\n",
       "    </tr>\n",
       "    <tr>\n",
       "      <th>5</th>\n",
       "      <td>Whitefield</td>\n",
       "      <td>2 BHK</td>\n",
       "      <td>1170.0</td>\n",
       "      <td>2.0</td>\n",
       "      <td>0.41800</td>\n",
       "      <td>2</td>\n",
       "      <td>35.726496</td>\n",
       "    </tr>\n",
       "    <tr>\n",
       "      <th>6</th>\n",
       "      <td>Old Airport Road</td>\n",
       "      <td>4 BHK</td>\n",
       "      <td>2732.0</td>\n",
       "      <td>4.0</td>\n",
       "      <td>2.24400</td>\n",
       "      <td>4</td>\n",
       "      <td>82.137628</td>\n",
       "    </tr>\n",
       "    <tr>\n",
       "      <th>7</th>\n",
       "      <td>Rajaji Nagar</td>\n",
       "      <td>4 BHK</td>\n",
       "      <td>3300.0</td>\n",
       "      <td>4.0</td>\n",
       "      <td>6.60000</td>\n",
       "      <td>4</td>\n",
       "      <td>200.000000</td>\n",
       "    </tr>\n",
       "    <tr>\n",
       "      <th>8</th>\n",
       "      <td>Marathahalli</td>\n",
       "      <td>3 BHK</td>\n",
       "      <td>1310.0</td>\n",
       "      <td>3.0</td>\n",
       "      <td>0.69575</td>\n",
       "      <td>3</td>\n",
       "      <td>53.110687</td>\n",
       "    </tr>\n",
       "    <tr>\n",
       "      <th>9</th>\n",
       "      <td>other</td>\n",
       "      <td>6 Bedroom</td>\n",
       "      <td>1020.0</td>\n",
       "      <td>6.0</td>\n",
       "      <td>4.07000</td>\n",
       "      <td>6</td>\n",
       "      <td>399.019608</td>\n",
       "    </tr>\n",
       "  </tbody>\n",
       "</table>\n",
       "</div>"
      ],
      "text/plain": [
       "                   location       size  total_sqft  bath    price  bhk  \\\n",
       "0  Electronic City Phase II      2 BHK      1056.0   2.0  0.42977    2   \n",
       "1          Chikka Tirupathi  4 Bedroom      2600.0   5.0  1.32000    4   \n",
       "2               Uttarahalli      3 BHK      1440.0   2.0  0.68200    3   \n",
       "3        Lingadheeranahalli      3 BHK      1521.0   3.0  1.04500    3   \n",
       "4                  Kothanur      2 BHK      1200.0   2.0  0.56100    2   \n",
       "5                Whitefield      2 BHK      1170.0   2.0  0.41800    2   \n",
       "6          Old Airport Road      4 BHK      2732.0   4.0  2.24400    4   \n",
       "7              Rajaji Nagar      4 BHK      3300.0   4.0  6.60000    4   \n",
       "8              Marathahalli      3 BHK      1310.0   3.0  0.69575    3   \n",
       "9                     other  6 Bedroom      1020.0   6.0  4.07000    6   \n",
       "\n",
       "   price_per_sqft  \n",
       "0       40.697917  \n",
       "1       50.769231  \n",
       "2       47.361111  \n",
       "3       68.704799  \n",
       "4       46.750000  \n",
       "5       35.726496  \n",
       "6       82.137628  \n",
       "7      200.000000  \n",
       "8       53.110687  \n",
       "9      399.019608  "
      ]
     },
     "execution_count": 675,
     "metadata": {},
     "output_type": "execute_result"
    }
   ],
   "source": [
    "df5.head(10)"
   ]
  },
  {
   "cell_type": "code",
   "execution_count": 676,
   "metadata": {},
   "outputs": [
    {
     "data": {
      "application/vnd.microsoft.datawrangler.viewer.v0+json": {
       "columns": [
        {
         "name": "index",
         "rawType": "int64",
         "type": "integer"
        },
        {
         "name": "location",
         "rawType": "object",
         "type": "string"
        },
        {
         "name": "size",
         "rawType": "object",
         "type": "string"
        },
        {
         "name": "total_sqft",
         "rawType": "float64",
         "type": "float"
        },
        {
         "name": "bath",
         "rawType": "float64",
         "type": "float"
        },
        {
         "name": "price",
         "rawType": "float64",
         "type": "float"
        },
        {
         "name": "bhk",
         "rawType": "int64",
         "type": "integer"
        },
        {
         "name": "price_per_sqft",
         "rawType": "float64",
         "type": "float"
        }
       ],
       "conversionMethod": "pd.DataFrame",
       "ref": "66c26e2d-2706-4202-9424-599e0951c597",
       "rows": [
        [
         "9",
         "other",
         "6 Bedroom",
         "1020.0",
         "6.0",
         "4.069999999999999",
         "6",
         "399.0196078431372"
        ],
        [
         "45",
         "HSR Layout",
         "8 Bedroom",
         "600.0",
         "9.0",
         "2.1999999999999997",
         "8",
         "366.66666666666663"
        ],
        [
         "58",
         "Murugeshpalya",
         "6 Bedroom",
         "1407.0",
         "4.0",
         "1.65",
         "6",
         "117.27078891257996"
        ],
        [
         "68",
         "Devarachikkanahalli",
         "8 Bedroom",
         "1350.0",
         "7.0",
         "0.9349999999999999",
         "8",
         "69.25925925925925"
        ],
        [
         "70",
         "other",
         "3 Bedroom",
         "500.0",
         "3.0",
         "1.0999999999999999",
         "3",
         "219.99999999999997"
        ]
       ],
       "shape": {
        "columns": 7,
        "rows": 5
       }
      },
      "text/html": [
       "<div>\n",
       "<style scoped>\n",
       "    .dataframe tbody tr th:only-of-type {\n",
       "        vertical-align: middle;\n",
       "    }\n",
       "\n",
       "    .dataframe tbody tr th {\n",
       "        vertical-align: top;\n",
       "    }\n",
       "\n",
       "    .dataframe thead th {\n",
       "        text-align: right;\n",
       "    }\n",
       "</style>\n",
       "<table border=\"1\" class=\"dataframe\">\n",
       "  <thead>\n",
       "    <tr style=\"text-align: right;\">\n",
       "      <th></th>\n",
       "      <th>location</th>\n",
       "      <th>size</th>\n",
       "      <th>total_sqft</th>\n",
       "      <th>bath</th>\n",
       "      <th>price</th>\n",
       "      <th>bhk</th>\n",
       "      <th>price_per_sqft</th>\n",
       "    </tr>\n",
       "  </thead>\n",
       "  <tbody>\n",
       "    <tr>\n",
       "      <th>9</th>\n",
       "      <td>other</td>\n",
       "      <td>6 Bedroom</td>\n",
       "      <td>1020.0</td>\n",
       "      <td>6.0</td>\n",
       "      <td>4.070</td>\n",
       "      <td>6</td>\n",
       "      <td>399.019608</td>\n",
       "    </tr>\n",
       "    <tr>\n",
       "      <th>45</th>\n",
       "      <td>HSR Layout</td>\n",
       "      <td>8 Bedroom</td>\n",
       "      <td>600.0</td>\n",
       "      <td>9.0</td>\n",
       "      <td>2.200</td>\n",
       "      <td>8</td>\n",
       "      <td>366.666667</td>\n",
       "    </tr>\n",
       "    <tr>\n",
       "      <th>58</th>\n",
       "      <td>Murugeshpalya</td>\n",
       "      <td>6 Bedroom</td>\n",
       "      <td>1407.0</td>\n",
       "      <td>4.0</td>\n",
       "      <td>1.650</td>\n",
       "      <td>6</td>\n",
       "      <td>117.270789</td>\n",
       "    </tr>\n",
       "    <tr>\n",
       "      <th>68</th>\n",
       "      <td>Devarachikkanahalli</td>\n",
       "      <td>8 Bedroom</td>\n",
       "      <td>1350.0</td>\n",
       "      <td>7.0</td>\n",
       "      <td>0.935</td>\n",
       "      <td>8</td>\n",
       "      <td>69.259259</td>\n",
       "    </tr>\n",
       "    <tr>\n",
       "      <th>70</th>\n",
       "      <td>other</td>\n",
       "      <td>3 Bedroom</td>\n",
       "      <td>500.0</td>\n",
       "      <td>3.0</td>\n",
       "      <td>1.100</td>\n",
       "      <td>3</td>\n",
       "      <td>220.000000</td>\n",
       "    </tr>\n",
       "  </tbody>\n",
       "</table>\n",
       "</div>"
      ],
      "text/plain": [
       "               location       size  total_sqft  bath  price  bhk  \\\n",
       "9                 other  6 Bedroom      1020.0   6.0  4.070    6   \n",
       "45           HSR Layout  8 Bedroom       600.0   9.0  2.200    8   \n",
       "58        Murugeshpalya  6 Bedroom      1407.0   4.0  1.650    6   \n",
       "68  Devarachikkanahalli  8 Bedroom      1350.0   7.0  0.935    8   \n",
       "70                other  3 Bedroom       500.0   3.0  1.100    3   \n",
       "\n",
       "    price_per_sqft  \n",
       "9       399.019608  \n",
       "45      366.666667  \n",
       "58      117.270789  \n",
       "68       69.259259  \n",
       "70      220.000000  "
      ]
     },
     "execution_count": 676,
     "metadata": {},
     "output_type": "execute_result"
    }
   ],
   "source": [
    "df5[df5[\"total_sqft\"] / df5[\"bhk\"] < 300].head() # There are generally at least 300 sqft per bedroom"
   ]
  },
  {
   "cell_type": "code",
   "execution_count": 677,
   "metadata": {},
   "outputs": [
    {
     "data": {
      "text/plain": [
       "(13246, 7)"
      ]
     },
     "execution_count": 677,
     "metadata": {},
     "output_type": "execute_result"
    }
   ],
   "source": [
    "df5.shape"
   ]
  },
  {
   "cell_type": "code",
   "execution_count": 678,
   "metadata": {},
   "outputs": [
    {
     "data": {
      "text/plain": [
       "(12502, 7)"
      ]
     },
     "execution_count": 678,
     "metadata": {},
     "output_type": "execute_result"
    }
   ],
   "source": [
    "df6 = df5[~(df5[\"total_sqft\"] / df5[\"bhk\"] < 300)]\n",
    "df6.head()\n",
    "df6.shape"
   ]
  },
  {
   "cell_type": "code",
   "execution_count": 679,
   "metadata": {},
   "outputs": [
    {
     "data": {
      "text/plain": [
       "count    12456.000000\n",
       "mean        69.393531\n",
       "std         45.849401\n",
       "min          2.946128\n",
       "25%         46.315789\n",
       "50%         58.235294\n",
       "75%         76.083333\n",
       "max       1941.176471\n",
       "Name: price_per_sqft, dtype: float64"
      ]
     },
     "execution_count": 679,
     "metadata": {},
     "output_type": "execute_result"
    }
   ],
   "source": [
    "df6[\"price_per_sqft\"].describe()"
   ]
  },
  {
   "cell_type": "code",
   "execution_count": 680,
   "metadata": {},
   "outputs": [
    {
     "data": {
      "application/vnd.microsoft.datawrangler.viewer.v0+json": {
       "columns": [
        {
         "name": "index",
         "rawType": "int64",
         "type": "integer"
        },
        {
         "name": "location",
         "rawType": "object",
         "type": "string"
        },
        {
         "name": "size",
         "rawType": "object",
         "type": "string"
        },
        {
         "name": "total_sqft",
         "rawType": "float64",
         "type": "float"
        },
        {
         "name": "bath",
         "rawType": "float64",
         "type": "float"
        },
        {
         "name": "price",
         "rawType": "float64",
         "type": "float"
        },
        {
         "name": "bhk",
         "rawType": "int64",
         "type": "integer"
        },
        {
         "name": "price_per_sqft",
         "rawType": "float64",
         "type": "float"
        }
       ],
       "conversionMethod": "pd.DataFrame",
       "ref": "02be96d1-211f-4b11-b2cc-07d8f5552430",
       "rows": [
        [
         "0",
         "Electronic City Phase II",
         "2 BHK",
         "1056.0",
         "2.0",
         "0.42977",
         "2",
         "40.697916666666664"
        ],
        [
         "1",
         "Chikka Tirupathi",
         "4 Bedroom",
         "2600.0",
         "5.0",
         "1.3199999999999998",
         "4",
         "50.76923076923076"
        ],
        [
         "2",
         "Uttarahalli",
         "3 BHK",
         "1440.0",
         "2.0",
         "0.6819999999999999",
         "3",
         "47.361111111111114"
        ],
        [
         "3",
         "Lingadheeranahalli",
         "3 BHK",
         "1521.0",
         "3.0",
         "1.045",
         "3",
         "68.70479947403024"
        ],
        [
         "4",
         "Kothanur",
         "2 BHK",
         "1200.0",
         "2.0",
         "0.5609999999999999",
         "2",
         "46.74999999999999"
        ]
       ],
       "shape": {
        "columns": 7,
        "rows": 5
       }
      },
      "text/html": [
       "<div>\n",
       "<style scoped>\n",
       "    .dataframe tbody tr th:only-of-type {\n",
       "        vertical-align: middle;\n",
       "    }\n",
       "\n",
       "    .dataframe tbody tr th {\n",
       "        vertical-align: top;\n",
       "    }\n",
       "\n",
       "    .dataframe thead th {\n",
       "        text-align: right;\n",
       "    }\n",
       "</style>\n",
       "<table border=\"1\" class=\"dataframe\">\n",
       "  <thead>\n",
       "    <tr style=\"text-align: right;\">\n",
       "      <th></th>\n",
       "      <th>location</th>\n",
       "      <th>size</th>\n",
       "      <th>total_sqft</th>\n",
       "      <th>bath</th>\n",
       "      <th>price</th>\n",
       "      <th>bhk</th>\n",
       "      <th>price_per_sqft</th>\n",
       "    </tr>\n",
       "  </thead>\n",
       "  <tbody>\n",
       "    <tr>\n",
       "      <th>0</th>\n",
       "      <td>Electronic City Phase II</td>\n",
       "      <td>2 BHK</td>\n",
       "      <td>1056.0</td>\n",
       "      <td>2.0</td>\n",
       "      <td>0.42977</td>\n",
       "      <td>2</td>\n",
       "      <td>40.697917</td>\n",
       "    </tr>\n",
       "    <tr>\n",
       "      <th>1</th>\n",
       "      <td>Chikka Tirupathi</td>\n",
       "      <td>4 Bedroom</td>\n",
       "      <td>2600.0</td>\n",
       "      <td>5.0</td>\n",
       "      <td>1.32000</td>\n",
       "      <td>4</td>\n",
       "      <td>50.769231</td>\n",
       "    </tr>\n",
       "    <tr>\n",
       "      <th>2</th>\n",
       "      <td>Uttarahalli</td>\n",
       "      <td>3 BHK</td>\n",
       "      <td>1440.0</td>\n",
       "      <td>2.0</td>\n",
       "      <td>0.68200</td>\n",
       "      <td>3</td>\n",
       "      <td>47.361111</td>\n",
       "    </tr>\n",
       "    <tr>\n",
       "      <th>3</th>\n",
       "      <td>Lingadheeranahalli</td>\n",
       "      <td>3 BHK</td>\n",
       "      <td>1521.0</td>\n",
       "      <td>3.0</td>\n",
       "      <td>1.04500</td>\n",
       "      <td>3</td>\n",
       "      <td>68.704799</td>\n",
       "    </tr>\n",
       "    <tr>\n",
       "      <th>4</th>\n",
       "      <td>Kothanur</td>\n",
       "      <td>2 BHK</td>\n",
       "      <td>1200.0</td>\n",
       "      <td>2.0</td>\n",
       "      <td>0.56100</td>\n",
       "      <td>2</td>\n",
       "      <td>46.750000</td>\n",
       "    </tr>\n",
       "  </tbody>\n",
       "</table>\n",
       "</div>"
      ],
      "text/plain": [
       "                   location       size  total_sqft  bath    price  bhk  \\\n",
       "0  Electronic City Phase II      2 BHK      1056.0   2.0  0.42977    2   \n",
       "1          Chikka Tirupathi  4 Bedroom      2600.0   5.0  1.32000    4   \n",
       "2               Uttarahalli      3 BHK      1440.0   2.0  0.68200    3   \n",
       "3        Lingadheeranahalli      3 BHK      1521.0   3.0  1.04500    3   \n",
       "4                  Kothanur      2 BHK      1200.0   2.0  0.56100    2   \n",
       "\n",
       "   price_per_sqft  \n",
       "0       40.697917  \n",
       "1       50.769231  \n",
       "2       47.361111  \n",
       "3       68.704799  \n",
       "4       46.750000  "
      ]
     },
     "execution_count": 680,
     "metadata": {},
     "output_type": "execute_result"
    }
   ],
   "source": [
    "df6.head()"
   ]
  },
  {
   "cell_type": "code",
   "execution_count": 681,
   "metadata": {},
   "outputs": [],
   "source": [
    "def remove_pps_outliers(df):\n",
    "    df_out = pd.DataFrame()\n",
    "    for key, subdf in df.groupby(\"location\"):\n",
    "        m = np.mean(subdf[\"price_per_sqft\"])\n",
    "        std = np.std(subdf[\"price_per_sqft\"])\n",
    "        cleaned_df = subdf[(subdf[\"price_per_sqft\"] >= (m - std)) & (subdf[\"price_per_sqft\"] <= (m + std))]\n",
    "        df_out = pd.concat([df_out, cleaned_df], ignore_index=True)\n",
    "    return df_out"
   ]
  },
  {
   "cell_type": "code",
   "execution_count": 682,
   "metadata": {},
   "outputs": [
    {
     "data": {
      "text/plain": [
       "(10241, 7)"
      ]
     },
     "execution_count": 682,
     "metadata": {},
     "output_type": "execute_result"
    }
   ],
   "source": [
    "df7 = remove_pps_outliers(df6)\n",
    "df7.shape"
   ]
  },
  {
   "cell_type": "code",
   "execution_count": 683,
   "metadata": {},
   "outputs": [],
   "source": [
    "def plot_scatter_chart(df, location):\n",
    "    bhk2 = df[(df[\"location\"] == location) & (df[\"bhk\"] == 2)]\n",
    "    bhk3 = df[(df[\"location\"] == location) & (df[\"bhk\"] == 3)]\n",
    "    matplotlib.rcParams[\"figure.figsize\"] = (15, 10)\n",
    "    plt.scatter(bhk2[\"total_sqft\"], bhk2[\"price\"], marker=\"x\", color='blue', label='2 BHK', s=50)\n",
    "    plt.scatter(bhk3[\"total_sqft\"], bhk3[\"price\"], marker=\"+\", color='green', label='3 BHK', s=50)\n",
    "    plt.xlabel(\"Total Area in Square Feet\")\n",
    "    plt.ylabel(\"Price (USD)\")\n",
    "    plt.title(location)\n",
    "    plt.legend()"
   ]
  },
  {
   "cell_type": "code",
   "execution_count": 684,
   "metadata": {},
   "outputs": [
    {
     "data": {
      "image/png": "[encoded data removed]",
      "text/plain": [
       "<Figure size 1500x1000 with 1 Axes>"
      ]
     },
     "metadata": {},
     "output_type": "display_data"
    }
   ],
   "source": [
    "plot_scatter_chart(df7, \"Rajaji Nagar\")"
   ]
  },
  {
   "cell_type": "code",
   "execution_count": 685,
   "metadata": {},
   "outputs": [
    {
     "data": {
      "image/png": "[encoded data removed]",
      "text/plain": [
       "<Figure size 1500x1000 with 1 Axes>"
      ]
     },
     "metadata": {},
     "output_type": "display_data"
    }
   ],
   "source": [
    "plot_scatter_chart(df7, \"Hebbal\")"
   ]
  },
  {
   "cell_type": "code",
   "execution_count": 686,
   "metadata": {},
   "outputs": [
    {
     "data": {
      "image/png": "[encoded data removed]",
      "text/plain": [
       "<Figure size 1500x1000 with 1 Axes>"
      ]
     },
     "metadata": {},
     "output_type": "display_data"
    }
   ],
   "source": [
    "plot_scatter_chart(df7, \"Electronic City Phase II\")"
   ]
  },
  {
   "cell_type": "code",
   "execution_count": 687,
   "metadata": {},
   "outputs": [],
   "source": [
    "def remove_bedroom_outliers(df):\n",
    "    exclude = np.array([])\n",
    "    for location, location_df in df.groupby(\"location\"): # looking at each location individually\n",
    "        bedroom_stats = {}\n",
    "        for bedrooms, bedroom_df in location_df.groupby(\"bhk\"):\n",
    "            bedroom_stats[bedrooms] = {\n",
    "                \"mean\": np.mean(bedroom_df[\"price_per_sqft\"]),\n",
    "                \"std\": np.std(bedroom_df[\"price_per_sqft\"]),\n",
    "                \"count\": bedroom_df.shape[0]\n",
    "            }\n",
    "        for bedrooms, bedroom_df in location_df.groupby(\"bhk\"):\n",
    "            stats = bedroom_stats.get(bedrooms - 1)\n",
    "            if stats and stats[\"count\"] > 5:\n",
    "                exclude = np.append(exclude, bedroom_df[bedroom_df[\"price_per_sqft\"] < stats[\"mean\"]].index.values) # appending the index values of all the rows that we want to get rid, they still hold their original index values\n",
    "    return df.drop(exclude, axis=0)"
   ]
  },
  {
   "cell_type": "code",
   "execution_count": 688,
   "metadata": {},
   "outputs": [
    {
     "data": {
      "text/plain": [
       "(7329, 7)"
      ]
     },
     "execution_count": 688,
     "metadata": {},
     "output_type": "execute_result"
    }
   ],
   "source": [
    "df8 = remove_bedroom_outliers(df7)\n",
    "df8.shape"
   ]
  },
  {
   "cell_type": "code",
   "execution_count": 689,
   "metadata": {},
   "outputs": [
    {
     "data": {
      "image/png": "[encoded data removed]",
      "text/plain": [
       "<Figure size 1500x1000 with 1 Axes>"
      ]
     },
     "metadata": {},
     "output_type": "display_data"
    }
   ],
   "source": [
    "plot_scatter_chart(df8, \"Hebbal\")"
   ]
  },
  {
   "cell_type": "code",
   "execution_count": 690,
   "metadata": {},
   "outputs": [
    {
     "data": {
      "text/plain": [
       "Text(0, 0.5, 'Count')"
      ]
     },
     "execution_count": 690,
     "metadata": {},
     "output_type": "execute_result"
    },
    {
     "data": {
      "image/png": "[encoded data removed]",
      "text/plain": [
       "<Figure size 2000x1000 with 1 Axes>"
      ]
     },
     "metadata": {},
     "output_type": "display_data"
    }
   ],
   "source": [
    "matplotlib.rcParams[\"figure.figsize\"] = (20, 10)\n",
    "plt.hist(df8[\"price_per_sqft\"], rwidth=0.8)\n",
    "plt.xlabel(\"Price Per Square Feet\")\n",
    "plt.ylabel(\"Count\")"
   ]
  },
  {
   "cell_type": "code",
   "execution_count": 691,
   "metadata": {},
   "outputs": [
    {
     "data": {
      "text/plain": [
       "array([ 4.,  3.,  2.,  5.,  8.,  1.,  6.,  7.,  9., 12., 16., 13.])"
      ]
     },
     "execution_count": 691,
     "metadata": {},
     "output_type": "execute_result"
    }
   ],
   "source": [
    "df8[\"bath\"].unique()"
   ]
  },
  {
   "cell_type": "code",
   "execution_count": 692,
   "metadata": {},
   "outputs": [
    {
     "data": {
      "application/vnd.microsoft.datawrangler.viewer.v0+json": {
       "columns": [
        {
         "name": "index",
         "rawType": "int64",
         "type": "integer"
        },
        {
         "name": "location",
         "rawType": "object",
         "type": "string"
        },
        {
         "name": "size",
         "rawType": "object",
         "type": "string"
        },
        {
         "name": "total_sqft",
         "rawType": "float64",
         "type": "float"
        },
        {
         "name": "bath",
         "rawType": "float64",
         "type": "float"
        },
        {
         "name": "price",
         "rawType": "float64",
         "type": "float"
        },
        {
         "name": "bhk",
         "rawType": "int64",
         "type": "integer"
        },
        {
         "name": "price_per_sqft",
         "rawType": "float64",
         "type": "float"
        }
       ],
       "conversionMethod": "pd.DataFrame",
       "ref": "4f89fffe-e760-4803-9964-50af1c914c8f",
       "rows": [
        [
         "5277",
         "Neeladri Nagar",
         "10 BHK",
         "4000.0",
         "12.0",
         "1.7599999999999998",
         "10",
         "43.99999999999999"
        ],
        [
         "8486",
         "other",
         "10 BHK",
         "12000.0",
         "12.0",
         "5.7749999999999995",
         "10",
         "48.125"
        ],
        [
         "8575",
         "other",
         "16 BHK",
         "10000.0",
         "16.0",
         "6.05",
         "16",
         "60.5"
        ],
        [
         "9308",
         "other",
         "11 BHK",
         "6000.0",
         "12.0",
         "1.65",
         "11",
         "27.5"
        ],
        [
         "9639",
         "other",
         "13 BHK",
         "5425.0",
         "13.0",
         "3.025",
         "13",
         "55.76036866359447"
        ]
       ],
       "shape": {
        "columns": 7,
        "rows": 5
       }
      },
      "text/html": [
       "<div>\n",
       "<style scoped>\n",
       "    .dataframe tbody tr th:only-of-type {\n",
       "        vertical-align: middle;\n",
       "    }\n",
       "\n",
       "    .dataframe tbody tr th {\n",
       "        vertical-align: top;\n",
       "    }\n",
       "\n",
       "    .dataframe thead th {\n",
       "        text-align: right;\n",
       "    }\n",
       "</style>\n",
       "<table border=\"1\" class=\"dataframe\">\n",
       "  <thead>\n",
       "    <tr style=\"text-align: right;\">\n",
       "      <th></th>\n",
       "      <th>location</th>\n",
       "      <th>size</th>\n",
       "      <th>total_sqft</th>\n",
       "      <th>bath</th>\n",
       "      <th>price</th>\n",
       "      <th>bhk</th>\n",
       "      <th>price_per_sqft</th>\n",
       "    </tr>\n",
       "  </thead>\n",
       "  <tbody>\n",
       "    <tr>\n",
       "      <th>5277</th>\n",
       "      <td>Neeladri Nagar</td>\n",
       "      <td>10 BHK</td>\n",
       "      <td>4000.0</td>\n",
       "      <td>12.0</td>\n",
       "      <td>1.760</td>\n",
       "      <td>10</td>\n",
       "      <td>44.000000</td>\n",
       "    </tr>\n",
       "    <tr>\n",
       "      <th>8486</th>\n",
       "      <td>other</td>\n",
       "      <td>10 BHK</td>\n",
       "      <td>12000.0</td>\n",
       "      <td>12.0</td>\n",
       "      <td>5.775</td>\n",
       "      <td>10</td>\n",
       "      <td>48.125000</td>\n",
       "    </tr>\n",
       "    <tr>\n",
       "      <th>8575</th>\n",
       "      <td>other</td>\n",
       "      <td>16 BHK</td>\n",
       "      <td>10000.0</td>\n",
       "      <td>16.0</td>\n",
       "      <td>6.050</td>\n",
       "      <td>16</td>\n",
       "      <td>60.500000</td>\n",
       "    </tr>\n",
       "    <tr>\n",
       "      <th>9308</th>\n",
       "      <td>other</td>\n",
       "      <td>11 BHK</td>\n",
       "      <td>6000.0</td>\n",
       "      <td>12.0</td>\n",
       "      <td>1.650</td>\n",
       "      <td>11</td>\n",
       "      <td>27.500000</td>\n",
       "    </tr>\n",
       "    <tr>\n",
       "      <th>9639</th>\n",
       "      <td>other</td>\n",
       "      <td>13 BHK</td>\n",
       "      <td>5425.0</td>\n",
       "      <td>13.0</td>\n",
       "      <td>3.025</td>\n",
       "      <td>13</td>\n",
       "      <td>55.760369</td>\n",
       "    </tr>\n",
       "  </tbody>\n",
       "</table>\n",
       "</div>"
      ],
      "text/plain": [
       "            location    size  total_sqft  bath  price  bhk  price_per_sqft\n",
       "5277  Neeladri Nagar  10 BHK      4000.0  12.0  1.760   10       44.000000\n",
       "8486           other  10 BHK     12000.0  12.0  5.775   10       48.125000\n",
       "8575           other  16 BHK     10000.0  16.0  6.050   16       60.500000\n",
       "9308           other  11 BHK      6000.0  12.0  1.650   11       27.500000\n",
       "9639           other  13 BHK      5425.0  13.0  3.025   13       55.760369"
      ]
     },
     "execution_count": 692,
     "metadata": {},
     "output_type": "execute_result"
    }
   ],
   "source": [
    "df8[df8[\"bath\"] > 10]"
   ]
  },
  {
   "cell_type": "code",
   "execution_count": 693,
   "metadata": {},
   "outputs": [
    {
     "data": {
      "text/plain": [
       "Text(0, 0.5, 'Count')"
      ]
     },
     "execution_count": 693,
     "metadata": {},
     "output_type": "execute_result"
    },
    {
     "data": {
      "image/png": "[encoded data removed]",
      "text/plain": [
       "<Figure size 2000x1000 with 1 Axes>"
      ]
     },
     "metadata": {},
     "output_type": "display_data"
    }
   ],
   "source": [
    "plt.hist(df8[\"bath\"], rwidth=0.8)\n",
    "plt.xlabel(\"Number of Bathrooms\")\n",
    "plt.ylabel(\"Count\")"
   ]
  },
  {
   "cell_type": "code",
   "execution_count": 694,
   "metadata": {},
   "outputs": [
    {
     "data": {
      "application/vnd.microsoft.datawrangler.viewer.v0+json": {
       "columns": [
        {
         "name": "index",
         "rawType": "int64",
         "type": "integer"
        },
        {
         "name": "location",
         "rawType": "object",
         "type": "string"
        },
        {
         "name": "size",
         "rawType": "object",
         "type": "string"
        },
        {
         "name": "total_sqft",
         "rawType": "float64",
         "type": "float"
        },
        {
         "name": "bath",
         "rawType": "float64",
         "type": "float"
        },
        {
         "name": "price",
         "rawType": "float64",
         "type": "float"
        },
        {
         "name": "bhk",
         "rawType": "int64",
         "type": "integer"
        },
        {
         "name": "price_per_sqft",
         "rawType": "float64",
         "type": "float"
        }
       ],
       "conversionMethod": "pd.DataFrame",
       "ref": "2348dc51-be8b-43a5-bbf4-1c533a89614f",
       "rows": [
        [
         "1626",
         "Chikkabanavar",
         "4 Bedroom",
         "2460.0",
         "7.0",
         "0.8799999999999999",
         "4",
         "35.77235772357723"
        ],
        [
         "5238",
         "Nagasandra",
         "4 Bedroom",
         "7000.0",
         "8.0",
         "4.949999999999999",
         "4",
         "70.71428571428571"
        ],
        [
         "6711",
         "Thanisandra",
         "3 BHK",
         "1806.0",
         "6.0",
         "1.276",
         "3",
         "70.65337763012181"
        ],
        [
         "8411",
         "other",
         "6 BHK",
         "11338.0",
         "9.0",
         "11.0",
         "6",
         "97.01887458105486"
        ]
       ],
       "shape": {
        "columns": 7,
        "rows": 4
       }
      },
      "text/html": [
       "<div>\n",
       "<style scoped>\n",
       "    .dataframe tbody tr th:only-of-type {\n",
       "        vertical-align: middle;\n",
       "    }\n",
       "\n",
       "    .dataframe tbody tr th {\n",
       "        vertical-align: top;\n",
       "    }\n",
       "\n",
       "    .dataframe thead th {\n",
       "        text-align: right;\n",
       "    }\n",
       "</style>\n",
       "<table border=\"1\" class=\"dataframe\">\n",
       "  <thead>\n",
       "    <tr style=\"text-align: right;\">\n",
       "      <th></th>\n",
       "      <th>location</th>\n",
       "      <th>size</th>\n",
       "      <th>total_sqft</th>\n",
       "      <th>bath</th>\n",
       "      <th>price</th>\n",
       "      <th>bhk</th>\n",
       "      <th>price_per_sqft</th>\n",
       "    </tr>\n",
       "  </thead>\n",
       "  <tbody>\n",
       "    <tr>\n",
       "      <th>1626</th>\n",
       "      <td>Chikkabanavar</td>\n",
       "      <td>4 Bedroom</td>\n",
       "      <td>2460.0</td>\n",
       "      <td>7.0</td>\n",
       "      <td>0.880</td>\n",
       "      <td>4</td>\n",
       "      <td>35.772358</td>\n",
       "    </tr>\n",
       "    <tr>\n",
       "      <th>5238</th>\n",
       "      <td>Nagasandra</td>\n",
       "      <td>4 Bedroom</td>\n",
       "      <td>7000.0</td>\n",
       "      <td>8.0</td>\n",
       "      <td>4.950</td>\n",
       "      <td>4</td>\n",
       "      <td>70.714286</td>\n",
       "    </tr>\n",
       "    <tr>\n",
       "      <th>6711</th>\n",
       "      <td>Thanisandra</td>\n",
       "      <td>3 BHK</td>\n",
       "      <td>1806.0</td>\n",
       "      <td>6.0</td>\n",
       "      <td>1.276</td>\n",
       "      <td>3</td>\n",
       "      <td>70.653378</td>\n",
       "    </tr>\n",
       "    <tr>\n",
       "      <th>8411</th>\n",
       "      <td>other</td>\n",
       "      <td>6 BHK</td>\n",
       "      <td>11338.0</td>\n",
       "      <td>9.0</td>\n",
       "      <td>11.000</td>\n",
       "      <td>6</td>\n",
       "      <td>97.018875</td>\n",
       "    </tr>\n",
       "  </tbody>\n",
       "</table>\n",
       "</div>"
      ],
      "text/plain": [
       "           location       size  total_sqft  bath   price  bhk  price_per_sqft\n",
       "1626  Chikkabanavar  4 Bedroom      2460.0   7.0   0.880    4       35.772358\n",
       "5238     Nagasandra  4 Bedroom      7000.0   8.0   4.950    4       70.714286\n",
       "6711    Thanisandra      3 BHK      1806.0   6.0   1.276    3       70.653378\n",
       "8411          other      6 BHK     11338.0   9.0  11.000    6       97.018875"
      ]
     },
     "execution_count": 694,
     "metadata": {},
     "output_type": "execute_result"
    }
   ],
   "source": [
    "# the left weighted curve above makes sense because we don't generally expect more than 4 bathrooms in a house\n",
    "df8[df8[\"bath\"] > (df8[\"bhk\"] + 2)]"
   ]
  },
  {
   "cell_type": "code",
   "execution_count": 695,
   "metadata": {},
   "outputs": [
    {
     "data": {
      "text/plain": [
       "(7251, 7)"
      ]
     },
     "execution_count": 695,
     "metadata": {},
     "output_type": "execute_result"
    }
   ],
   "source": [
    "df9 = df8[df8[\"bath\"] < df8[\"bhk\"] + 2]\n",
    "df9.shape"
   ]
  },
  {
   "cell_type": "code",
   "execution_count": 696,
   "metadata": {},
   "outputs": [],
   "source": [
    "df10 = df9.drop([\"price_per_sqft\", \"size\"], axis=1)"
   ]
  },
  {
   "cell_type": "code",
   "execution_count": 697,
   "metadata": {},
   "outputs": [
    {
     "data": {
      "application/vnd.microsoft.datawrangler.viewer.v0+json": {
       "columns": [
        {
         "name": "index",
         "rawType": "int64",
         "type": "integer"
        },
        {
         "name": "1st Block Jayanagar",
         "rawType": "bool",
         "type": "boolean"
        },
        {
         "name": "1st Phase JP Nagar",
         "rawType": "bool",
         "type": "boolean"
        },
        {
         "name": "2nd Phase Judicial Layout",
         "rawType": "bool",
         "type": "boolean"
        },
        {
         "name": "2nd Stage Nagarbhavi",
         "rawType": "bool",
         "type": "boolean"
        },
        {
         "name": "5th Block Hbr Layout",
         "rawType": "bool",
         "type": "boolean"
        },
        {
         "name": "5th Phase JP Nagar",
         "rawType": "bool",
         "type": "boolean"
        },
        {
         "name": "6th Phase JP Nagar",
         "rawType": "bool",
         "type": "boolean"
        },
        {
         "name": "7th Phase JP Nagar",
         "rawType": "bool",
         "type": "boolean"
        },
        {
         "name": "8th Phase JP Nagar",
         "rawType": "bool",
         "type": "boolean"
        },
        {
         "name": "9th Phase JP Nagar",
         "rawType": "bool",
         "type": "boolean"
        },
        {
         "name": "AECS Layout",
         "rawType": "bool",
         "type": "boolean"
        },
        {
         "name": "Abbigere",
         "rawType": "bool",
         "type": "boolean"
        },
        {
         "name": "Akshaya Nagar",
         "rawType": "bool",
         "type": "boolean"
        },
        {
         "name": "Ambalipura",
         "rawType": "bool",
         "type": "boolean"
        },
        {
         "name": "Ambedkar Nagar",
         "rawType": "bool",
         "type": "boolean"
        },
        {
         "name": "Amruthahalli",
         "rawType": "bool",
         "type": "boolean"
        },
        {
         "name": "Anandapura",
         "rawType": "bool",
         "type": "boolean"
        },
        {
         "name": "Ananth Nagar",
         "rawType": "bool",
         "type": "boolean"
        },
        {
         "name": "Anekal",
         "rawType": "bool",
         "type": "boolean"
        },
        {
         "name": "Anjanapura",
         "rawType": "bool",
         "type": "boolean"
        },
        {
         "name": "Ardendale",
         "rawType": "bool",
         "type": "boolean"
        },
        {
         "name": "Arekere",
         "rawType": "bool",
         "type": "boolean"
        },
        {
         "name": "Attibele",
         "rawType": "bool",
         "type": "boolean"
        },
        {
         "name": "BEML Layout",
         "rawType": "bool",
         "type": "boolean"
        },
        {
         "name": "BTM 2nd Stage",
         "rawType": "bool",
         "type": "boolean"
        },
        {
         "name": "BTM Layout",
         "rawType": "bool",
         "type": "boolean"
        },
        {
         "name": "Babusapalaya",
         "rawType": "bool",
         "type": "boolean"
        },
        {
         "name": "Badavala Nagar",
         "rawType": "bool",
         "type": "boolean"
        },
        {
         "name": "Balagere",
         "rawType": "bool",
         "type": "boolean"
        },
        {
         "name": "Banashankari",
         "rawType": "bool",
         "type": "boolean"
        },
        {
         "name": "Banashankari Stage II",
         "rawType": "bool",
         "type": "boolean"
        },
        {
         "name": "Banashankari Stage III",
         "rawType": "bool",
         "type": "boolean"
        },
        {
         "name": "Banashankari Stage V",
         "rawType": "bool",
         "type": "boolean"
        },
        {
         "name": "Banashankari Stage VI",
         "rawType": "bool",
         "type": "boolean"
        },
        {
         "name": "Banaswadi",
         "rawType": "bool",
         "type": "boolean"
        },
        {
         "name": "Banjara Layout",
         "rawType": "bool",
         "type": "boolean"
        },
        {
         "name": "Bannerghatta",
         "rawType": "bool",
         "type": "boolean"
        },
        {
         "name": "Bannerghatta Road",
         "rawType": "bool",
         "type": "boolean"
        },
        {
         "name": "Basavangudi",
         "rawType": "bool",
         "type": "boolean"
        },
        {
         "name": "Basaveshwara Nagar",
         "rawType": "bool",
         "type": "boolean"
        },
        {
         "name": "Battarahalli",
         "rawType": "bool",
         "type": "boolean"
        },
        {
         "name": "Begur",
         "rawType": "bool",
         "type": "boolean"
        },
        {
         "name": "Begur Road",
         "rawType": "bool",
         "type": "boolean"
        },
        {
         "name": "Bellandur",
         "rawType": "bool",
         "type": "boolean"
        },
        {
         "name": "Benson Town",
         "rawType": "bool",
         "type": "boolean"
        },
        {
         "name": "Bharathi Nagar",
         "rawType": "bool",
         "type": "boolean"
        },
        {
         "name": "Bhoganhalli",
         "rawType": "bool",
         "type": "boolean"
        },
        {
         "name": "Billekahalli",
         "rawType": "bool",
         "type": "boolean"
        },
        {
         "name": "Binny Pete",
         "rawType": "bool",
         "type": "boolean"
        },
        {
         "name": "Bisuvanahalli",
         "rawType": "bool",
         "type": "boolean"
        },
        {
         "name": "Bommanahalli",
         "rawType": "bool",
         "type": "boolean"
        },
        {
         "name": "Bommasandra",
         "rawType": "bool",
         "type": "boolean"
        },
        {
         "name": "Bommasandra Industrial Area",
         "rawType": "bool",
         "type": "boolean"
        },
        {
         "name": "Bommenahalli",
         "rawType": "bool",
         "type": "boolean"
        },
        {
         "name": "Brookefield",
         "rawType": "bool",
         "type": "boolean"
        },
        {
         "name": "Budigere",
         "rawType": "bool",
         "type": "boolean"
        },
        {
         "name": "CV Raman Nagar",
         "rawType": "bool",
         "type": "boolean"
        },
        {
         "name": "Chamrajpet",
         "rawType": "bool",
         "type": "boolean"
        },
        {
         "name": "Chandapura",
         "rawType": "bool",
         "type": "boolean"
        },
        {
         "name": "Channasandra",
         "rawType": "bool",
         "type": "boolean"
        },
        {
         "name": "Chikka Tirupathi",
         "rawType": "bool",
         "type": "boolean"
        },
        {
         "name": "Chikkabanavar",
         "rawType": "bool",
         "type": "boolean"
        },
        {
         "name": "Chikkalasandra",
         "rawType": "bool",
         "type": "boolean"
        },
        {
         "name": "Choodasandra",
         "rawType": "bool",
         "type": "boolean"
        },
        {
         "name": "Cooke Town",
         "rawType": "bool",
         "type": "boolean"
        },
        {
         "name": "Cox Town",
         "rawType": "bool",
         "type": "boolean"
        },
        {
         "name": "Cunningham Road",
         "rawType": "bool",
         "type": "boolean"
        },
        {
         "name": "Dasanapura",
         "rawType": "bool",
         "type": "boolean"
        },
        {
         "name": "Dasarahalli",
         "rawType": "bool",
         "type": "boolean"
        },
        {
         "name": "Devanahalli",
         "rawType": "bool",
         "type": "boolean"
        },
        {
         "name": "Devarachikkanahalli",
         "rawType": "bool",
         "type": "boolean"
        },
        {
         "name": "Dodda Nekkundi",
         "rawType": "bool",
         "type": "boolean"
        },
        {
         "name": "Doddaballapur",
         "rawType": "bool",
         "type": "boolean"
        },
        {
         "name": "Doddakallasandra",
         "rawType": "bool",
         "type": "boolean"
        },
        {
         "name": "Doddathoguru",
         "rawType": "bool",
         "type": "boolean"
        },
        {
         "name": "Domlur",
         "rawType": "bool",
         "type": "boolean"
        },
        {
         "name": "Dommasandra",
         "rawType": "bool",
         "type": "boolean"
        },
        {
         "name": "EPIP Zone",
         "rawType": "bool",
         "type": "boolean"
        },
        {
         "name": "Electronic City",
         "rawType": "bool",
         "type": "boolean"
        },
        {
         "name": "Electronic City Phase II",
         "rawType": "bool",
         "type": "boolean"
        },
        {
         "name": "Electronics City Phase 1",
         "rawType": "bool",
         "type": "boolean"
        },
        {
         "name": "Frazer Town",
         "rawType": "bool",
         "type": "boolean"
        },
        {
         "name": "GM Palaya",
         "rawType": "bool",
         "type": "boolean"
        },
        {
         "name": "Garudachar Palya",
         "rawType": "bool",
         "type": "boolean"
        },
        {
         "name": "Giri Nagar",
         "rawType": "bool",
         "type": "boolean"
        },
        {
         "name": "Gollarapalya Hosahalli",
         "rawType": "bool",
         "type": "boolean"
        },
        {
         "name": "Gottigere",
         "rawType": "bool",
         "type": "boolean"
        },
        {
         "name": "Green Glen Layout",
         "rawType": "bool",
         "type": "boolean"
        },
        {
         "name": "Gubbalala",
         "rawType": "bool",
         "type": "boolean"
        },
        {
         "name": "Gunjur",
         "rawType": "bool",
         "type": "boolean"
        },
        {
         "name": "HAL 2nd Stage",
         "rawType": "bool",
         "type": "boolean"
        },
        {
         "name": "HBR Layout",
         "rawType": "bool",
         "type": "boolean"
        },
        {
         "name": "HRBR Layout",
         "rawType": "bool",
         "type": "boolean"
        },
        {
         "name": "HSR Layout",
         "rawType": "bool",
         "type": "boolean"
        },
        {
         "name": "Haralur Road",
         "rawType": "bool",
         "type": "boolean"
        },
        {
         "name": "Harlur",
         "rawType": "bool",
         "type": "boolean"
        },
        {
         "name": "Hebbal",
         "rawType": "bool",
         "type": "boolean"
        },
        {
         "name": "Hebbal Kempapura",
         "rawType": "bool",
         "type": "boolean"
        },
        {
         "name": "Hegde Nagar",
         "rawType": "bool",
         "type": "boolean"
        },
        {
         "name": "Hennur",
         "rawType": "bool",
         "type": "boolean"
        },
        {
         "name": "Hennur Road",
         "rawType": "bool",
         "type": "boolean"
        },
        {
         "name": "Hoodi",
         "rawType": "bool",
         "type": "boolean"
        },
        {
         "name": "Horamavu Agara",
         "rawType": "bool",
         "type": "boolean"
        },
        {
         "name": "Horamavu Banaswadi",
         "rawType": "bool",
         "type": "boolean"
        },
        {
         "name": "Hormavu",
         "rawType": "bool",
         "type": "boolean"
        },
        {
         "name": "Hosa Road",
         "rawType": "bool",
         "type": "boolean"
        },
        {
         "name": "Hosakerehalli",
         "rawType": "bool",
         "type": "boolean"
        },
        {
         "name": "Hoskote",
         "rawType": "bool",
         "type": "boolean"
        },
        {
         "name": "Hosur Road",
         "rawType": "bool",
         "type": "boolean"
        },
        {
         "name": "Hulimavu",
         "rawType": "bool",
         "type": "boolean"
        },
        {
         "name": "ISRO Layout",
         "rawType": "bool",
         "type": "boolean"
        },
        {
         "name": "ITPL",
         "rawType": "bool",
         "type": "boolean"
        },
        {
         "name": "Iblur Village",
         "rawType": "bool",
         "type": "boolean"
        },
        {
         "name": "Indira Nagar",
         "rawType": "bool",
         "type": "boolean"
        },
        {
         "name": "JP Nagar",
         "rawType": "bool",
         "type": "boolean"
        },
        {
         "name": "Jakkur",
         "rawType": "bool",
         "type": "boolean"
        },
        {
         "name": "Jalahalli",
         "rawType": "bool",
         "type": "boolean"
        },
        {
         "name": "Jalahalli East",
         "rawType": "bool",
         "type": "boolean"
        },
        {
         "name": "Jigani",
         "rawType": "bool",
         "type": "boolean"
        },
        {
         "name": "Judicial Layout",
         "rawType": "bool",
         "type": "boolean"
        },
        {
         "name": "KR Puram",
         "rawType": "bool",
         "type": "boolean"
        },
        {
         "name": "Kadubeesanahalli",
         "rawType": "bool",
         "type": "boolean"
        },
        {
         "name": "Kadugodi",
         "rawType": "bool",
         "type": "boolean"
        },
        {
         "name": "Kaggadasapura",
         "rawType": "bool",
         "type": "boolean"
        },
        {
         "name": "Kaggalipura",
         "rawType": "bool",
         "type": "boolean"
        },
        {
         "name": "Kaikondrahalli",
         "rawType": "bool",
         "type": "boolean"
        },
        {
         "name": "Kalena Agrahara",
         "rawType": "bool",
         "type": "boolean"
        },
        {
         "name": "Kalyan nagar",
         "rawType": "bool",
         "type": "boolean"
        },
        {
         "name": "Kambipura",
         "rawType": "bool",
         "type": "boolean"
        },
        {
         "name": "Kammanahalli",
         "rawType": "bool",
         "type": "boolean"
        },
        {
         "name": "Kammasandra",
         "rawType": "bool",
         "type": "boolean"
        },
        {
         "name": "Kanakapura",
         "rawType": "bool",
         "type": "boolean"
        },
        {
         "name": "Kanakpura Road",
         "rawType": "bool",
         "type": "boolean"
        },
        {
         "name": "Kannamangala",
         "rawType": "bool",
         "type": "boolean"
        },
        {
         "name": "Karuna Nagar",
         "rawType": "bool",
         "type": "boolean"
        },
        {
         "name": "Kasavanhalli",
         "rawType": "bool",
         "type": "boolean"
        },
        {
         "name": "Kasturi Nagar",
         "rawType": "bool",
         "type": "boolean"
        },
        {
         "name": "Kathriguppe",
         "rawType": "bool",
         "type": "boolean"
        },
        {
         "name": "Kaval Byrasandra",
         "rawType": "bool",
         "type": "boolean"
        },
        {
         "name": "Kenchenahalli",
         "rawType": "bool",
         "type": "boolean"
        },
        {
         "name": "Kengeri",
         "rawType": "bool",
         "type": "boolean"
        },
        {
         "name": "Kengeri Satellite Town",
         "rawType": "bool",
         "type": "boolean"
        },
        {
         "name": "Kereguddadahalli",
         "rawType": "bool",
         "type": "boolean"
        },
        {
         "name": "Kodichikkanahalli",
         "rawType": "bool",
         "type": "boolean"
        },
        {
         "name": "Kodigehaali",
         "rawType": "bool",
         "type": "boolean"
        },
        {
         "name": "Kodigehalli",
         "rawType": "bool",
         "type": "boolean"
        },
        {
         "name": "Kodihalli",
         "rawType": "bool",
         "type": "boolean"
        },
        {
         "name": "Kogilu",
         "rawType": "bool",
         "type": "boolean"
        },
        {
         "name": "Konanakunte",
         "rawType": "bool",
         "type": "boolean"
        },
        {
         "name": "Koramangala",
         "rawType": "bool",
         "type": "boolean"
        },
        {
         "name": "Kothannur",
         "rawType": "bool",
         "type": "boolean"
        },
        {
         "name": "Kothanur",
         "rawType": "bool",
         "type": "boolean"
        },
        {
         "name": "Kudlu",
         "rawType": "bool",
         "type": "boolean"
        },
        {
         "name": "Kudlu Gate",
         "rawType": "bool",
         "type": "boolean"
        },
        {
         "name": "Kumaraswami Layout",
         "rawType": "bool",
         "type": "boolean"
        },
        {
         "name": "Kundalahalli",
         "rawType": "bool",
         "type": "boolean"
        },
        {
         "name": "LB Shastri Nagar",
         "rawType": "bool",
         "type": "boolean"
        },
        {
         "name": "Laggere",
         "rawType": "bool",
         "type": "boolean"
        },
        {
         "name": "Lakshminarayana Pura",
         "rawType": "bool",
         "type": "boolean"
        },
        {
         "name": "Lingadheeranahalli",
         "rawType": "bool",
         "type": "boolean"
        },
        {
         "name": "Magadi Road",
         "rawType": "bool",
         "type": "boolean"
        },
        {
         "name": "Mahadevpura",
         "rawType": "bool",
         "type": "boolean"
        },
        {
         "name": "Mahalakshmi Layout",
         "rawType": "bool",
         "type": "boolean"
        },
        {
         "name": "Mallasandra",
         "rawType": "bool",
         "type": "boolean"
        },
        {
         "name": "Malleshpalya",
         "rawType": "bool",
         "type": "boolean"
        },
        {
         "name": "Malleshwaram",
         "rawType": "bool",
         "type": "boolean"
        },
        {
         "name": "Marathahalli",
         "rawType": "bool",
         "type": "boolean"
        },
        {
         "name": "Margondanahalli",
         "rawType": "bool",
         "type": "boolean"
        },
        {
         "name": "Marsur",
         "rawType": "bool",
         "type": "boolean"
        },
        {
         "name": "Mico Layout",
         "rawType": "bool",
         "type": "boolean"
        },
        {
         "name": "Munnekollal",
         "rawType": "bool",
         "type": "boolean"
        },
        {
         "name": "Murugeshpalya",
         "rawType": "bool",
         "type": "boolean"
        },
        {
         "name": "Mysore Road",
         "rawType": "bool",
         "type": "boolean"
        },
        {
         "name": "NGR Layout",
         "rawType": "bool",
         "type": "boolean"
        },
        {
         "name": "NRI Layout",
         "rawType": "bool",
         "type": "boolean"
        },
        {
         "name": "Nagarbhavi",
         "rawType": "bool",
         "type": "boolean"
        },
        {
         "name": "Nagasandra",
         "rawType": "bool",
         "type": "boolean"
        },
        {
         "name": "Nagavara",
         "rawType": "bool",
         "type": "boolean"
        },
        {
         "name": "Nagavarapalya",
         "rawType": "bool",
         "type": "boolean"
        },
        {
         "name": "Narayanapura",
         "rawType": "bool",
         "type": "boolean"
        },
        {
         "name": "Neeladri Nagar",
         "rawType": "bool",
         "type": "boolean"
        },
        {
         "name": "Nehru Nagar",
         "rawType": "bool",
         "type": "boolean"
        },
        {
         "name": "OMBR Layout",
         "rawType": "bool",
         "type": "boolean"
        },
        {
         "name": "Old Airport Road",
         "rawType": "bool",
         "type": "boolean"
        },
        {
         "name": "Old Madras Road",
         "rawType": "bool",
         "type": "boolean"
        },
        {
         "name": "Padmanabhanagar",
         "rawType": "bool",
         "type": "boolean"
        },
        {
         "name": "Pai Layout",
         "rawType": "bool",
         "type": "boolean"
        },
        {
         "name": "Panathur",
         "rawType": "bool",
         "type": "boolean"
        },
        {
         "name": "Parappana Agrahara",
         "rawType": "bool",
         "type": "boolean"
        },
        {
         "name": "Pattandur Agrahara",
         "rawType": "bool",
         "type": "boolean"
        },
        {
         "name": "Poorna Pragna Layout",
         "rawType": "bool",
         "type": "boolean"
        },
        {
         "name": "Prithvi Layout",
         "rawType": "bool",
         "type": "boolean"
        },
        {
         "name": "R.T. Nagar",
         "rawType": "bool",
         "type": "boolean"
        },
        {
         "name": "Rachenahalli",
         "rawType": "bool",
         "type": "boolean"
        },
        {
         "name": "Raja Rajeshwari Nagar",
         "rawType": "bool",
         "type": "boolean"
        },
        {
         "name": "Rajaji Nagar",
         "rawType": "bool",
         "type": "boolean"
        },
        {
         "name": "Rajiv Nagar",
         "rawType": "bool",
         "type": "boolean"
        },
        {
         "name": "Ramagondanahalli",
         "rawType": "bool",
         "type": "boolean"
        },
        {
         "name": "Ramamurthy Nagar",
         "rawType": "bool",
         "type": "boolean"
        },
        {
         "name": "Rayasandra",
         "rawType": "bool",
         "type": "boolean"
        },
        {
         "name": "Sahakara Nagar",
         "rawType": "bool",
         "type": "boolean"
        },
        {
         "name": "Sanjay nagar",
         "rawType": "bool",
         "type": "boolean"
        },
        {
         "name": "Sarakki Nagar",
         "rawType": "bool",
         "type": "boolean"
        },
        {
         "name": "Sarjapur",
         "rawType": "bool",
         "type": "boolean"
        },
        {
         "name": "Sarjapur  Road",
         "rawType": "bool",
         "type": "boolean"
        },
        {
         "name": "Sarjapura - Attibele Road",
         "rawType": "bool",
         "type": "boolean"
        },
        {
         "name": "Sector 2 HSR Layout",
         "rawType": "bool",
         "type": "boolean"
        },
        {
         "name": "Sector 7 HSR Layout",
         "rawType": "bool",
         "type": "boolean"
        },
        {
         "name": "Seegehalli",
         "rawType": "bool",
         "type": "boolean"
        },
        {
         "name": "Shampura",
         "rawType": "bool",
         "type": "boolean"
        },
        {
         "name": "Shivaji Nagar",
         "rawType": "bool",
         "type": "boolean"
        },
        {
         "name": "Singasandra",
         "rawType": "bool",
         "type": "boolean"
        },
        {
         "name": "Somasundara Palya",
         "rawType": "bool",
         "type": "boolean"
        },
        {
         "name": "Sompura",
         "rawType": "bool",
         "type": "boolean"
        },
        {
         "name": "Sonnenahalli",
         "rawType": "bool",
         "type": "boolean"
        },
        {
         "name": "Subramanyapura",
         "rawType": "bool",
         "type": "boolean"
        },
        {
         "name": "Sultan Palaya",
         "rawType": "bool",
         "type": "boolean"
        },
        {
         "name": "TC Palaya",
         "rawType": "bool",
         "type": "boolean"
        },
        {
         "name": "Talaghattapura",
         "rawType": "bool",
         "type": "boolean"
        },
        {
         "name": "Thanisandra",
         "rawType": "bool",
         "type": "boolean"
        },
        {
         "name": "Thigalarapalya",
         "rawType": "bool",
         "type": "boolean"
        },
        {
         "name": "Thubarahalli",
         "rawType": "bool",
         "type": "boolean"
        },
        {
         "name": "Thyagaraja Nagar",
         "rawType": "bool",
         "type": "boolean"
        },
        {
         "name": "Tindlu",
         "rawType": "bool",
         "type": "boolean"
        },
        {
         "name": "Tumkur Road",
         "rawType": "bool",
         "type": "boolean"
        },
        {
         "name": "Ulsoor",
         "rawType": "bool",
         "type": "boolean"
        },
        {
         "name": "Uttarahalli",
         "rawType": "bool",
         "type": "boolean"
        },
        {
         "name": "Varthur",
         "rawType": "bool",
         "type": "boolean"
        },
        {
         "name": "Varthur Road",
         "rawType": "bool",
         "type": "boolean"
        },
        {
         "name": "Vasanthapura",
         "rawType": "bool",
         "type": "boolean"
        },
        {
         "name": "Vidyaranyapura",
         "rawType": "bool",
         "type": "boolean"
        },
        {
         "name": "Vijayanagar",
         "rawType": "bool",
         "type": "boolean"
        },
        {
         "name": "Vishveshwarya Layout",
         "rawType": "bool",
         "type": "boolean"
        },
        {
         "name": "Vishwapriya Layout",
         "rawType": "bool",
         "type": "boolean"
        },
        {
         "name": "Vittasandra",
         "rawType": "bool",
         "type": "boolean"
        },
        {
         "name": "Whitefield",
         "rawType": "bool",
         "type": "boolean"
        },
        {
         "name": "Yelachenahalli",
         "rawType": "bool",
         "type": "boolean"
        },
        {
         "name": "Yelahanka",
         "rawType": "bool",
         "type": "boolean"
        },
        {
         "name": "Yelahanka New Town",
         "rawType": "bool",
         "type": "boolean"
        },
        {
         "name": "Yelenahalli",
         "rawType": "bool",
         "type": "boolean"
        },
        {
         "name": "Yeshwanthpur",
         "rawType": "bool",
         "type": "boolean"
        },
        {
         "name": "other",
         "rawType": "bool",
         "type": "boolean"
        }
       ],
       "conversionMethod": "pd.DataFrame",
       "ref": "8a5f7c1b-bfa9-4fec-87f3-22be19e099f5",
       "rows": [
        [
         "0",
         "True",
         "False",
         "False",
         "False",
         "False",
         "False",
         "False",
         "False",
         "False",
         "False",
         "False",
         "False",
         "False",
         "False",
         "False",
         "False",
         "False",
         "False",
         "False",
         "False",
         "False",
         "False",
         "False",
         "False",
         "False",
         "False",
         "False",
         "False",
         "False",
         "False",
         "False",
         "False",
         "False",
         "False",
         "False",
         "False",
         "False",
         "False",
         "False",
         "False",
         "False",
         "False",
         "False",
         "False",
         "False",
         "False",
         "False",
         "False",
         "False",
         "False",
         "False",
         "False",
         "False",
         "False",
         "False",
         "False",
         "False",
         "False",
         "False",
         "False",
         "False",
         "False",
         "False",
         "False",
         "False",
         "False",
         "False",
         "False",
         "False",
         "False",
         "False",
         "False",
         "False",
         "False",
         "False",
         "False",
         "False",
         "False",
         "False",
         "False",
         "False",
         "False",
         "False",
         "False",
         "False",
         "False",
         "False",
         "False",
         "False",
         "False",
         "False",
         "False",
         "False",
         "False",
         "False",
         "False",
         "False",
         "False",
         "False",
         "False",
         "False",
         "False",
         "False",
         "False",
         "False",
         "False",
         "False",
         "False",
         "False",
         "False",
         "False",
         "False",
         "False",
         "False",
         "False",
         "False",
         "False",
         "False",
         "False",
         "False",
         "False",
         "False",
         "False",
         "False",
         "False",
         "False",
         "False",
         "False",
         "False",
         "False",
         "False",
         "False",
         "False",
         "False",
         "False",
         "False",
         "False",
         "False",
         "False",
         "False",
         "False",
         "False",
         "False",
         "False",
         "False",
         "False",
         "False",
         "False",
         "False",
         "False",
         "False",
         "False",
         "False",
         "False",
         "False",
         "False",
         "False",
         "False",
         "False",
         "False",
         "False",
         "False",
         "False",
         "False",
         "False",
         "False",
         "False",
         "False",
         "False",
         "False",
         "False",
         "False",
         "False",
         "False",
         "False",
         "False",
         "False",
         "False",
         "False",
         "False",
         "False",
         "False",
         "False",
         "False",
         "False",
         "False",
         "False",
         "False",
         "False",
         "False",
         "False",
         "False",
         "False",
         "False",
         "False",
         "False",
         "False",
         "False",
         "False",
         "False",
         "False",
         "False",
         "False",
         "False",
         "False",
         "False",
         "False",
         "False",
         "False",
         "False",
         "False",
         "False",
         "False",
         "False",
         "False",
         "False",
         "False",
         "False",
         "False",
         "False",
         "False",
         "False",
         "False",
         "False",
         "False",
         "False",
         "False",
         "False",
         "False",
         "False",
         "False",
         "False",
         "False",
         "False",
         "False",
         "False",
         "False",
         "False",
         "False",
         "False",
         "False",
         "False"
        ],
        [
         "1",
         "True",
         "False",
         "False",
         "False",
         "False",
         "False",
         "False",
         "False",
         "False",
         "False",
         "False",
         "False",
         "False",
         "False",
         "False",
         "False",
         "False",
         "False",
         "False",
         "False",
         "False",
         "False",
         "False",
         "False",
         "False",
         "False",
         "False",
         "False",
         "False",
         "False",
         "False",
         "False",
         "False",
         "False",
         "False",
         "False",
         "False",
         "False",
         "False",
         "False",
         "False",
         "False",
         "False",
         "False",
         "False",
         "False",
         "False",
         "False",
         "False",
         "False",
         "False",
         "False",
         "False",
         "False",
         "False",
         "False",
         "False",
         "False",
         "False",
         "False",
         "False",
         "False",
         "False",
         "False",
         "False",
         "False",
         "False",
         "False",
         "False",
         "False",
         "False",
         "False",
         "False",
         "False",
         "False",
         "False",
         "False",
         "False",
         "False",
         "False",
         "False",
         "False",
         "False",
         "False",
         "False",
         "False",
         "False",
         "False",
         "False",
         "False",
         "False",
         "False",
         "False",
         "False",
         "False",
         "False",
         "False",
         "False",
         "False",
         "False",
         "False",
         "False",
         "False",
         "False",
         "False",
         "False",
         "False",
         "False",
         "False",
         "False",
         "False",
         "False",
         "False",
         "False",
         "False",
         "False",
         "False",
         "False",
         "False",
         "False",
         "False",
         "False",
         "False",
         "False",
         "False",
         "False",
         "False",
         "False",
         "False",
         "False",
         "False",
         "False",
         "False",
         "False",
         "False",
         "False",
         "False",
         "False",
         "False",
         "False",
         "False",
         "False",
         "False",
         "False",
         "False",
         "False",
         "False",
         "False",
         "False",
         "False",
         "False",
         "False",
         "False",
         "False",
         "False",
         "False",
         "False",
         "False",
         "False",
         "False",
         "False",
         "False",
         "False",
         "False",
         "False",
         "False",
         "False",
         "False",
         "False",
         "False",
         "False",
         "False",
         "False",
         "False",
         "False",
         "False",
         "False",
         "False",
         "False",
         "False",
         "False",
         "False",
         "False",
         "False",
         "False",
         "False",
         "False",
         "False",
         "False",
         "False",
         "False",
         "False",
         "False",
         "False",
         "False",
         "False",
         "False",
         "False",
         "False",
         "False",
         "False",
         "False",
         "False",
         "False",
         "False",
         "False",
         "False",
         "False",
         "False",
         "False",
         "False",
         "False",
         "False",
         "False",
         "False",
         "False",
         "False",
         "False",
         "False",
         "False",
         "False",
         "False",
         "False",
         "False",
         "False",
         "False",
         "False",
         "False",
         "False",
         "False",
         "False",
         "False",
         "False",
         "False",
         "False",
         "False",
         "False",
         "False",
         "False",
         "False",
         "False",
         "False"
        ],
        [
         "2",
         "True",
         "False",
         "False",
         "False",
         "False",
         "False",
         "False",
         "False",
         "False",
         "False",
         "False",
         "False",
         "False",
         "False",
         "False",
         "False",
         "False",
         "False",
         "False",
         "False",
         "False",
         "False",
         "False",
         "False",
         "False",
         "False",
         "False",
         "False",
         "False",
         "False",
         "False",
         "False",
         "False",
         "False",
         "False",
         "False",
         "False",
         "False",
         "False",
         "False",
         "False",
         "False",
         "False",
         "False",
         "False",
         "False",
         "False",
         "False",
         "False",
         "False",
         "False",
         "False",
         "False",
         "False",
         "False",
         "False",
         "False",
         "False",
         "False",
         "False",
         "False",
         "False",
         "False",
         "False",
         "False",
         "False",
         "False",
         "False",
         "False",
         "False",
         "False",
         "False",
         "False",
         "False",
         "False",
         "False",
         "False",
         "False",
         "False",
         "False",
         "False",
         "False",
         "False",
         "False",
         "False",
         "False",
         "False",
         "False",
         "False",
         "False",
         "False",
         "False",
         "False",
         "False",
         "False",
         "False",
         "False",
         "False",
         "False",
         "False",
         "False",
         "False",
         "False",
         "False",
         "False",
         "False",
         "False",
         "False",
         "False",
         "False",
         "False",
         "False",
         "False",
         "False",
         "False",
         "False",
         "False",
         "False",
         "False",
         "False",
         "False",
         "False",
         "False",
         "False",
         "False",
         "False",
         "False",
         "False",
         "False",
         "False",
         "False",
         "False",
         "False",
         "False",
         "False",
         "False",
         "False",
         "False",
         "False",
         "False",
         "False",
         "False",
         "False",
         "False",
         "False",
         "False",
         "False",
         "False",
         "False",
         "False",
         "False",
         "False",
         "False",
         "False",
         "False",
         "False",
         "False",
         "False",
         "False",
         "False",
         "False",
         "False",
         "False",
         "False",
         "False",
         "False",
         "False",
         "False",
         "False",
         "False",
         "False",
         "False",
         "False",
         "False",
         "False",
         "False",
         "False",
         "False",
         "False",
         "False",
         "False",
         "False",
         "False",
         "False",
         "False",
         "False",
         "False",
         "False",
         "False",
         "False",
         "False",
         "False",
         "False",
         "False",
         "False",
         "False",
         "False",
         "False",
         "False",
         "False",
         "False",
         "False",
         "False",
         "False",
         "False",
         "False",
         "False",
         "False",
         "False",
         "False",
         "False",
         "False",
         "False",
         "False",
         "False",
         "False",
         "False",
         "False",
         "False",
         "False",
         "False",
         "False",
         "False",
         "False",
         "False",
         "False",
         "False",
         "False",
         "False",
         "False",
         "False",
         "False",
         "False",
         "False",
         "False",
         "False",
         "False",
         "False",
         "False",
         "False",
         "False",
         "False"
        ]
       ],
       "shape": {
        "columns": 242,
        "rows": 3
       }
      },
      "text/html": [
       "<div>\n",
       "<style scoped>\n",
       "    .dataframe tbody tr th:only-of-type {\n",
       "        vertical-align: middle;\n",
       "    }\n",
       "\n",
       "    .dataframe tbody tr th {\n",
       "        vertical-align: top;\n",
       "    }\n",
       "\n",
       "    .dataframe thead th {\n",
       "        text-align: right;\n",
       "    }\n",
       "</style>\n",
       "<table border=\"1\" class=\"dataframe\">\n",
       "  <thead>\n",
       "    <tr style=\"text-align: right;\">\n",
       "      <th></th>\n",
       "      <th>1st Block Jayanagar</th>\n",
       "      <th>1st Phase JP Nagar</th>\n",
       "      <th>2nd Phase Judicial Layout</th>\n",
       "      <th>2nd Stage Nagarbhavi</th>\n",
       "      <th>5th Block Hbr Layout</th>\n",
       "      <th>5th Phase JP Nagar</th>\n",
       "      <th>6th Phase JP Nagar</th>\n",
       "      <th>7th Phase JP Nagar</th>\n",
       "      <th>8th Phase JP Nagar</th>\n",
       "      <th>9th Phase JP Nagar</th>\n",
       "      <th>...</th>\n",
       "      <th>Vishveshwarya Layout</th>\n",
       "      <th>Vishwapriya Layout</th>\n",
       "      <th>Vittasandra</th>\n",
       "      <th>Whitefield</th>\n",
       "      <th>Yelachenahalli</th>\n",
       "      <th>Yelahanka</th>\n",
       "      <th>Yelahanka New Town</th>\n",
       "      <th>Yelenahalli</th>\n",
       "      <th>Yeshwanthpur</th>\n",
       "      <th>other</th>\n",
       "    </tr>\n",
       "  </thead>\n",
       "  <tbody>\n",
       "    <tr>\n",
       "      <th>0</th>\n",
       "      <td>True</td>\n",
       "      <td>False</td>\n",
       "      <td>False</td>\n",
       "      <td>False</td>\n",
       "      <td>False</td>\n",
       "      <td>False</td>\n",
       "      <td>False</td>\n",
       "      <td>False</td>\n",
       "      <td>False</td>\n",
       "      <td>False</td>\n",
       "      <td>...</td>\n",
       "      <td>False</td>\n",
       "      <td>False</td>\n",
       "      <td>False</td>\n",
       "      <td>False</td>\n",
       "      <td>False</td>\n",
       "      <td>False</td>\n",
       "      <td>False</td>\n",
       "      <td>False</td>\n",
       "      <td>False</td>\n",
       "      <td>False</td>\n",
       "    </tr>\n",
       "    <tr>\n",
       "      <th>1</th>\n",
       "      <td>True</td>\n",
       "      <td>False</td>\n",
       "      <td>False</td>\n",
       "      <td>False</td>\n",
       "      <td>False</td>\n",
       "      <td>False</td>\n",
       "      <td>False</td>\n",
       "      <td>False</td>\n",
       "      <td>False</td>\n",
       "      <td>False</td>\n",
       "      <td>...</td>\n",
       "      <td>False</td>\n",
       "      <td>False</td>\n",
       "      <td>False</td>\n",
       "      <td>False</td>\n",
       "      <td>False</td>\n",
       "      <td>False</td>\n",
       "      <td>False</td>\n",
       "      <td>False</td>\n",
       "      <td>False</td>\n",
       "      <td>False</td>\n",
       "    </tr>\n",
       "    <tr>\n",
       "      <th>2</th>\n",
       "      <td>True</td>\n",
       "      <td>False</td>\n",
       "      <td>False</td>\n",
       "      <td>False</td>\n",
       "      <td>False</td>\n",
       "      <td>False</td>\n",
       "      <td>False</td>\n",
       "      <td>False</td>\n",
       "      <td>False</td>\n",
       "      <td>False</td>\n",
       "      <td>...</td>\n",
       "      <td>False</td>\n",
       "      <td>False</td>\n",
       "      <td>False</td>\n",
       "      <td>False</td>\n",
       "      <td>False</td>\n",
       "      <td>False</td>\n",
       "      <td>False</td>\n",
       "      <td>False</td>\n",
       "      <td>False</td>\n",
       "      <td>False</td>\n",
       "    </tr>\n",
       "  </tbody>\n",
       "</table>\n",
       "<p>3 rows × 242 columns</p>\n",
       "</div>"
      ],
      "text/plain": [
       "   1st Block Jayanagar  1st Phase JP Nagar  2nd Phase Judicial Layout  \\\n",
       "0                 True               False                      False   \n",
       "1                 True               False                      False   \n",
       "2                 True               False                      False   \n",
       "\n",
       "   2nd Stage Nagarbhavi  5th Block Hbr Layout  5th Phase JP Nagar  \\\n",
       "0                 False                 False               False   \n",
       "1                 False                 False               False   \n",
       "2                 False                 False               False   \n",
       "\n",
       "   6th Phase JP Nagar  7th Phase JP Nagar  8th Phase JP Nagar  \\\n",
       "0               False               False               False   \n",
       "1               False               False               False   \n",
       "2               False               False               False   \n",
       "\n",
       "   9th Phase JP Nagar  ...  Vishveshwarya Layout  Vishwapriya Layout  \\\n",
       "0               False  ...                 False               False   \n",
       "1               False  ...                 False               False   \n",
       "2               False  ...                 False               False   \n",
       "\n",
       "   Vittasandra  Whitefield  Yelachenahalli  Yelahanka  Yelahanka New Town  \\\n",
       "0        False       False           False      False               False   \n",
       "1        False       False           False      False               False   \n",
       "2        False       False           False      False               False   \n",
       "\n",
       "   Yelenahalli  Yeshwanthpur  other  \n",
       "0        False         False  False  \n",
       "1        False         False  False  \n",
       "2        False         False  False  \n",
       "\n",
       "[3 rows x 242 columns]"
      ]
     },
     "execution_count": 697,
     "metadata": {},
     "output_type": "execute_result"
    }
   ],
   "source": [
    "dummies = pd.get_dummies(df10[\"location\"])\n",
    "dummies.head(3)"
   ]
  },
  {
   "cell_type": "code",
   "execution_count": 698,
   "metadata": {},
   "outputs": [
    {
     "data": {
      "application/vnd.microsoft.datawrangler.viewer.v0+json": {
       "columns": [
        {
         "name": "index",
         "rawType": "int64",
         "type": "integer"
        },
        {
         "name": "location",
         "rawType": "object",
         "type": "string"
        },
        {
         "name": "total_sqft",
         "rawType": "float64",
         "type": "float"
        },
        {
         "name": "bath",
         "rawType": "float64",
         "type": "float"
        },
        {
         "name": "price",
         "rawType": "float64",
         "type": "float"
        },
        {
         "name": "bhk",
         "rawType": "int64",
         "type": "integer"
        },
        {
         "name": "1st Block Jayanagar",
         "rawType": "bool",
         "type": "boolean"
        },
        {
         "name": "1st Phase JP Nagar",
         "rawType": "bool",
         "type": "boolean"
        },
        {
         "name": "2nd Phase Judicial Layout",
         "rawType": "bool",
         "type": "boolean"
        },
        {
         "name": "2nd Stage Nagarbhavi",
         "rawType": "bool",
         "type": "boolean"
        },
        {
         "name": "5th Block Hbr Layout",
         "rawType": "bool",
         "type": "boolean"
        },
        {
         "name": "5th Phase JP Nagar",
         "rawType": "bool",
         "type": "boolean"
        },
        {
         "name": "6th Phase JP Nagar",
         "rawType": "bool",
         "type": "boolean"
        },
        {
         "name": "7th Phase JP Nagar",
         "rawType": "bool",
         "type": "boolean"
        },
        {
         "name": "8th Phase JP Nagar",
         "rawType": "bool",
         "type": "boolean"
        },
        {
         "name": "9th Phase JP Nagar",
         "rawType": "bool",
         "type": "boolean"
        },
        {
         "name": "AECS Layout",
         "rawType": "bool",
         "type": "boolean"
        },
        {
         "name": "Abbigere",
         "rawType": "bool",
         "type": "boolean"
        },
        {
         "name": "Akshaya Nagar",
         "rawType": "bool",
         "type": "boolean"
        },
        {
         "name": "Ambalipura",
         "rawType": "bool",
         "type": "boolean"
        },
        {
         "name": "Ambedkar Nagar",
         "rawType": "bool",
         "type": "boolean"
        },
        {
         "name": "Amruthahalli",
         "rawType": "bool",
         "type": "boolean"
        },
        {
         "name": "Anandapura",
         "rawType": "bool",
         "type": "boolean"
        },
        {
         "name": "Ananth Nagar",
         "rawType": "bool",
         "type": "boolean"
        },
        {
         "name": "Anekal",
         "rawType": "bool",
         "type": "boolean"
        },
        {
         "name": "Anjanapura",
         "rawType": "bool",
         "type": "boolean"
        },
        {
         "name": "Ardendale",
         "rawType": "bool",
         "type": "boolean"
        },
        {
         "name": "Arekere",
         "rawType": "bool",
         "type": "boolean"
        },
        {
         "name": "Attibele",
         "rawType": "bool",
         "type": "boolean"
        },
        {
         "name": "BEML Layout",
         "rawType": "bool",
         "type": "boolean"
        },
        {
         "name": "BTM 2nd Stage",
         "rawType": "bool",
         "type": "boolean"
        },
        {
         "name": "BTM Layout",
         "rawType": "bool",
         "type": "boolean"
        },
        {
         "name": "Babusapalaya",
         "rawType": "bool",
         "type": "boolean"
        },
        {
         "name": "Badavala Nagar",
         "rawType": "bool",
         "type": "boolean"
        },
        {
         "name": "Balagere",
         "rawType": "bool",
         "type": "boolean"
        },
        {
         "name": "Banashankari",
         "rawType": "bool",
         "type": "boolean"
        },
        {
         "name": "Banashankari Stage II",
         "rawType": "bool",
         "type": "boolean"
        },
        {
         "name": "Banashankari Stage III",
         "rawType": "bool",
         "type": "boolean"
        },
        {
         "name": "Banashankari Stage V",
         "rawType": "bool",
         "type": "boolean"
        },
        {
         "name": "Banashankari Stage VI",
         "rawType": "bool",
         "type": "boolean"
        },
        {
         "name": "Banaswadi",
         "rawType": "bool",
         "type": "boolean"
        },
        {
         "name": "Banjara Layout",
         "rawType": "bool",
         "type": "boolean"
        },
        {
         "name": "Bannerghatta",
         "rawType": "bool",
         "type": "boolean"
        },
        {
         "name": "Bannerghatta Road",
         "rawType": "bool",
         "type": "boolean"
        },
        {
         "name": "Basavangudi",
         "rawType": "bool",
         "type": "boolean"
        },
        {
         "name": "Basaveshwara Nagar",
         "rawType": "bool",
         "type": "boolean"
        },
        {
         "name": "Battarahalli",
         "rawType": "bool",
         "type": "boolean"
        },
        {
         "name": "Begur",
         "rawType": "bool",
         "type": "boolean"
        },
        {
         "name": "Begur Road",
         "rawType": "bool",
         "type": "boolean"
        },
        {
         "name": "Bellandur",
         "rawType": "bool",
         "type": "boolean"
        },
        {
         "name": "Benson Town",
         "rawType": "bool",
         "type": "boolean"
        },
        {
         "name": "Bharathi Nagar",
         "rawType": "bool",
         "type": "boolean"
        },
        {
         "name": "Bhoganhalli",
         "rawType": "bool",
         "type": "boolean"
        },
        {
         "name": "Billekahalli",
         "rawType": "bool",
         "type": "boolean"
        },
        {
         "name": "Binny Pete",
         "rawType": "bool",
         "type": "boolean"
        },
        {
         "name": "Bisuvanahalli",
         "rawType": "bool",
         "type": "boolean"
        },
        {
         "name": "Bommanahalli",
         "rawType": "bool",
         "type": "boolean"
        },
        {
         "name": "Bommasandra",
         "rawType": "bool",
         "type": "boolean"
        },
        {
         "name": "Bommasandra Industrial Area",
         "rawType": "bool",
         "type": "boolean"
        },
        {
         "name": "Bommenahalli",
         "rawType": "bool",
         "type": "boolean"
        },
        {
         "name": "Brookefield",
         "rawType": "bool",
         "type": "boolean"
        },
        {
         "name": "Budigere",
         "rawType": "bool",
         "type": "boolean"
        },
        {
         "name": "CV Raman Nagar",
         "rawType": "bool",
         "type": "boolean"
        },
        {
         "name": "Chamrajpet",
         "rawType": "bool",
         "type": "boolean"
        },
        {
         "name": "Chandapura",
         "rawType": "bool",
         "type": "boolean"
        },
        {
         "name": "Channasandra",
         "rawType": "bool",
         "type": "boolean"
        },
        {
         "name": "Chikka Tirupathi",
         "rawType": "bool",
         "type": "boolean"
        },
        {
         "name": "Chikkabanavar",
         "rawType": "bool",
         "type": "boolean"
        },
        {
         "name": "Chikkalasandra",
         "rawType": "bool",
         "type": "boolean"
        },
        {
         "name": "Choodasandra",
         "rawType": "bool",
         "type": "boolean"
        },
        {
         "name": "Cooke Town",
         "rawType": "bool",
         "type": "boolean"
        },
        {
         "name": "Cox Town",
         "rawType": "bool",
         "type": "boolean"
        },
        {
         "name": "Cunningham Road",
         "rawType": "bool",
         "type": "boolean"
        },
        {
         "name": "Dasanapura",
         "rawType": "bool",
         "type": "boolean"
        },
        {
         "name": "Dasarahalli",
         "rawType": "bool",
         "type": "boolean"
        },
        {
         "name": "Devanahalli",
         "rawType": "bool",
         "type": "boolean"
        },
        {
         "name": "Devarachikkanahalli",
         "rawType": "bool",
         "type": "boolean"
        },
        {
         "name": "Dodda Nekkundi",
         "rawType": "bool",
         "type": "boolean"
        },
        {
         "name": "Doddaballapur",
         "rawType": "bool",
         "type": "boolean"
        },
        {
         "name": "Doddakallasandra",
         "rawType": "bool",
         "type": "boolean"
        },
        {
         "name": "Doddathoguru",
         "rawType": "bool",
         "type": "boolean"
        },
        {
         "name": "Domlur",
         "rawType": "bool",
         "type": "boolean"
        },
        {
         "name": "Dommasandra",
         "rawType": "bool",
         "type": "boolean"
        },
        {
         "name": "EPIP Zone",
         "rawType": "bool",
         "type": "boolean"
        },
        {
         "name": "Electronic City",
         "rawType": "bool",
         "type": "boolean"
        },
        {
         "name": "Electronic City Phase II",
         "rawType": "bool",
         "type": "boolean"
        },
        {
         "name": "Electronics City Phase 1",
         "rawType": "bool",
         "type": "boolean"
        },
        {
         "name": "Frazer Town",
         "rawType": "bool",
         "type": "boolean"
        },
        {
         "name": "GM Palaya",
         "rawType": "bool",
         "type": "boolean"
        },
        {
         "name": "Garudachar Palya",
         "rawType": "bool",
         "type": "boolean"
        },
        {
         "name": "Giri Nagar",
         "rawType": "bool",
         "type": "boolean"
        },
        {
         "name": "Gollarapalya Hosahalli",
         "rawType": "bool",
         "type": "boolean"
        },
        {
         "name": "Gottigere",
         "rawType": "bool",
         "type": "boolean"
        },
        {
         "name": "Green Glen Layout",
         "rawType": "bool",
         "type": "boolean"
        },
        {
         "name": "Gubbalala",
         "rawType": "bool",
         "type": "boolean"
        },
        {
         "name": "Gunjur",
         "rawType": "bool",
         "type": "boolean"
        },
        {
         "name": "HAL 2nd Stage",
         "rawType": "bool",
         "type": "boolean"
        },
        {
         "name": "HBR Layout",
         "rawType": "bool",
         "type": "boolean"
        },
        {
         "name": "HRBR Layout",
         "rawType": "bool",
         "type": "boolean"
        },
        {
         "name": "HSR Layout",
         "rawType": "bool",
         "type": "boolean"
        },
        {
         "name": "Haralur Road",
         "rawType": "bool",
         "type": "boolean"
        },
        {
         "name": "Harlur",
         "rawType": "bool",
         "type": "boolean"
        },
        {
         "name": "Hebbal",
         "rawType": "bool",
         "type": "boolean"
        },
        {
         "name": "Hebbal Kempapura",
         "rawType": "bool",
         "type": "boolean"
        },
        {
         "name": "Hegde Nagar",
         "rawType": "bool",
         "type": "boolean"
        },
        {
         "name": "Hennur",
         "rawType": "bool",
         "type": "boolean"
        },
        {
         "name": "Hennur Road",
         "rawType": "bool",
         "type": "boolean"
        },
        {
         "name": "Hoodi",
         "rawType": "bool",
         "type": "boolean"
        },
        {
         "name": "Horamavu Agara",
         "rawType": "bool",
         "type": "boolean"
        },
        {
         "name": "Horamavu Banaswadi",
         "rawType": "bool",
         "type": "boolean"
        },
        {
         "name": "Hormavu",
         "rawType": "bool",
         "type": "boolean"
        },
        {
         "name": "Hosa Road",
         "rawType": "bool",
         "type": "boolean"
        },
        {
         "name": "Hosakerehalli",
         "rawType": "bool",
         "type": "boolean"
        },
        {
         "name": "Hoskote",
         "rawType": "bool",
         "type": "boolean"
        },
        {
         "name": "Hosur Road",
         "rawType": "bool",
         "type": "boolean"
        },
        {
         "name": "Hulimavu",
         "rawType": "bool",
         "type": "boolean"
        },
        {
         "name": "ISRO Layout",
         "rawType": "bool",
         "type": "boolean"
        },
        {
         "name": "ITPL",
         "rawType": "bool",
         "type": "boolean"
        },
        {
         "name": "Iblur Village",
         "rawType": "bool",
         "type": "boolean"
        },
        {
         "name": "Indira Nagar",
         "rawType": "bool",
         "type": "boolean"
        },
        {
         "name": "JP Nagar",
         "rawType": "bool",
         "type": "boolean"
        },
        {
         "name": "Jakkur",
         "rawType": "bool",
         "type": "boolean"
        },
        {
         "name": "Jalahalli",
         "rawType": "bool",
         "type": "boolean"
        },
        {
         "name": "Jalahalli East",
         "rawType": "bool",
         "type": "boolean"
        },
        {
         "name": "Jigani",
         "rawType": "bool",
         "type": "boolean"
        },
        {
         "name": "Judicial Layout",
         "rawType": "bool",
         "type": "boolean"
        },
        {
         "name": "KR Puram",
         "rawType": "bool",
         "type": "boolean"
        },
        {
         "name": "Kadubeesanahalli",
         "rawType": "bool",
         "type": "boolean"
        },
        {
         "name": "Kadugodi",
         "rawType": "bool",
         "type": "boolean"
        },
        {
         "name": "Kaggadasapura",
         "rawType": "bool",
         "type": "boolean"
        },
        {
         "name": "Kaggalipura",
         "rawType": "bool",
         "type": "boolean"
        },
        {
         "name": "Kaikondrahalli",
         "rawType": "bool",
         "type": "boolean"
        },
        {
         "name": "Kalena Agrahara",
         "rawType": "bool",
         "type": "boolean"
        },
        {
         "name": "Kalyan nagar",
         "rawType": "bool",
         "type": "boolean"
        },
        {
         "name": "Kambipura",
         "rawType": "bool",
         "type": "boolean"
        },
        {
         "name": "Kammanahalli",
         "rawType": "bool",
         "type": "boolean"
        },
        {
         "name": "Kammasandra",
         "rawType": "bool",
         "type": "boolean"
        },
        {
         "name": "Kanakapura",
         "rawType": "bool",
         "type": "boolean"
        },
        {
         "name": "Kanakpura Road",
         "rawType": "bool",
         "type": "boolean"
        },
        {
         "name": "Kannamangala",
         "rawType": "bool",
         "type": "boolean"
        },
        {
         "name": "Karuna Nagar",
         "rawType": "bool",
         "type": "boolean"
        },
        {
         "name": "Kasavanhalli",
         "rawType": "bool",
         "type": "boolean"
        },
        {
         "name": "Kasturi Nagar",
         "rawType": "bool",
         "type": "boolean"
        },
        {
         "name": "Kathriguppe",
         "rawType": "bool",
         "type": "boolean"
        },
        {
         "name": "Kaval Byrasandra",
         "rawType": "bool",
         "type": "boolean"
        },
        {
         "name": "Kenchenahalli",
         "rawType": "bool",
         "type": "boolean"
        },
        {
         "name": "Kengeri",
         "rawType": "bool",
         "type": "boolean"
        },
        {
         "name": "Kengeri Satellite Town",
         "rawType": "bool",
         "type": "boolean"
        },
        {
         "name": "Kereguddadahalli",
         "rawType": "bool",
         "type": "boolean"
        },
        {
         "name": "Kodichikkanahalli",
         "rawType": "bool",
         "type": "boolean"
        },
        {
         "name": "Kodigehaali",
         "rawType": "bool",
         "type": "boolean"
        },
        {
         "name": "Kodigehalli",
         "rawType": "bool",
         "type": "boolean"
        },
        {
         "name": "Kodihalli",
         "rawType": "bool",
         "type": "boolean"
        },
        {
         "name": "Kogilu",
         "rawType": "bool",
         "type": "boolean"
        },
        {
         "name": "Konanakunte",
         "rawType": "bool",
         "type": "boolean"
        },
        {
         "name": "Koramangala",
         "rawType": "bool",
         "type": "boolean"
        },
        {
         "name": "Kothannur",
         "rawType": "bool",
         "type": "boolean"
        },
        {
         "name": "Kothanur",
         "rawType": "bool",
         "type": "boolean"
        },
        {
         "name": "Kudlu",
         "rawType": "bool",
         "type": "boolean"
        },
        {
         "name": "Kudlu Gate",
         "rawType": "bool",
         "type": "boolean"
        },
        {
         "name": "Kumaraswami Layout",
         "rawType": "bool",
         "type": "boolean"
        },
        {
         "name": "Kundalahalli",
         "rawType": "bool",
         "type": "boolean"
        },
        {
         "name": "LB Shastri Nagar",
         "rawType": "bool",
         "type": "boolean"
        },
        {
         "name": "Laggere",
         "rawType": "bool",
         "type": "boolean"
        },
        {
         "name": "Lakshminarayana Pura",
         "rawType": "bool",
         "type": "boolean"
        },
        {
         "name": "Lingadheeranahalli",
         "rawType": "bool",
         "type": "boolean"
        },
        {
         "name": "Magadi Road",
         "rawType": "bool",
         "type": "boolean"
        },
        {
         "name": "Mahadevpura",
         "rawType": "bool",
         "type": "boolean"
        },
        {
         "name": "Mahalakshmi Layout",
         "rawType": "bool",
         "type": "boolean"
        },
        {
         "name": "Mallasandra",
         "rawType": "bool",
         "type": "boolean"
        },
        {
         "name": "Malleshpalya",
         "rawType": "bool",
         "type": "boolean"
        },
        {
         "name": "Malleshwaram",
         "rawType": "bool",
         "type": "boolean"
        },
        {
         "name": "Marathahalli",
         "rawType": "bool",
         "type": "boolean"
        },
        {
         "name": "Margondanahalli",
         "rawType": "bool",
         "type": "boolean"
        },
        {
         "name": "Marsur",
         "rawType": "bool",
         "type": "boolean"
        },
        {
         "name": "Mico Layout",
         "rawType": "bool",
         "type": "boolean"
        },
        {
         "name": "Munnekollal",
         "rawType": "bool",
         "type": "boolean"
        },
        {
         "name": "Murugeshpalya",
         "rawType": "bool",
         "type": "boolean"
        },
        {
         "name": "Mysore Road",
         "rawType": "bool",
         "type": "boolean"
        },
        {
         "name": "NGR Layout",
         "rawType": "bool",
         "type": "boolean"
        },
        {
         "name": "NRI Layout",
         "rawType": "bool",
         "type": "boolean"
        },
        {
         "name": "Nagarbhavi",
         "rawType": "bool",
         "type": "boolean"
        },
        {
         "name": "Nagasandra",
         "rawType": "bool",
         "type": "boolean"
        },
        {
         "name": "Nagavara",
         "rawType": "bool",
         "type": "boolean"
        },
        {
         "name": "Nagavarapalya",
         "rawType": "bool",
         "type": "boolean"
        },
        {
         "name": "Narayanapura",
         "rawType": "bool",
         "type": "boolean"
        },
        {
         "name": "Neeladri Nagar",
         "rawType": "bool",
         "type": "boolean"
        },
        {
         "name": "Nehru Nagar",
         "rawType": "bool",
         "type": "boolean"
        },
        {
         "name": "OMBR Layout",
         "rawType": "bool",
         "type": "boolean"
        },
        {
         "name": "Old Airport Road",
         "rawType": "bool",
         "type": "boolean"
        },
        {
         "name": "Old Madras Road",
         "rawType": "bool",
         "type": "boolean"
        },
        {
         "name": "Padmanabhanagar",
         "rawType": "bool",
         "type": "boolean"
        },
        {
         "name": "Pai Layout",
         "rawType": "bool",
         "type": "boolean"
        },
        {
         "name": "Panathur",
         "rawType": "bool",
         "type": "boolean"
        },
        {
         "name": "Parappana Agrahara",
         "rawType": "bool",
         "type": "boolean"
        },
        {
         "name": "Pattandur Agrahara",
         "rawType": "bool",
         "type": "boolean"
        },
        {
         "name": "Poorna Pragna Layout",
         "rawType": "bool",
         "type": "boolean"
        },
        {
         "name": "Prithvi Layout",
         "rawType": "bool",
         "type": "boolean"
        },
        {
         "name": "R.T. Nagar",
         "rawType": "bool",
         "type": "boolean"
        },
        {
         "name": "Rachenahalli",
         "rawType": "bool",
         "type": "boolean"
        },
        {
         "name": "Raja Rajeshwari Nagar",
         "rawType": "bool",
         "type": "boolean"
        },
        {
         "name": "Rajaji Nagar",
         "rawType": "bool",
         "type": "boolean"
        },
        {
         "name": "Rajiv Nagar",
         "rawType": "bool",
         "type": "boolean"
        },
        {
         "name": "Ramagondanahalli",
         "rawType": "bool",
         "type": "boolean"
        },
        {
         "name": "Ramamurthy Nagar",
         "rawType": "bool",
         "type": "boolean"
        },
        {
         "name": "Rayasandra",
         "rawType": "bool",
         "type": "boolean"
        },
        {
         "name": "Sahakara Nagar",
         "rawType": "bool",
         "type": "boolean"
        },
        {
         "name": "Sanjay nagar",
         "rawType": "bool",
         "type": "boolean"
        },
        {
         "name": "Sarakki Nagar",
         "rawType": "bool",
         "type": "boolean"
        },
        {
         "name": "Sarjapur",
         "rawType": "bool",
         "type": "boolean"
        },
        {
         "name": "Sarjapur  Road",
         "rawType": "bool",
         "type": "boolean"
        },
        {
         "name": "Sarjapura - Attibele Road",
         "rawType": "bool",
         "type": "boolean"
        },
        {
         "name": "Sector 2 HSR Layout",
         "rawType": "bool",
         "type": "boolean"
        },
        {
         "name": "Sector 7 HSR Layout",
         "rawType": "bool",
         "type": "boolean"
        },
        {
         "name": "Seegehalli",
         "rawType": "bool",
         "type": "boolean"
        },
        {
         "name": "Shampura",
         "rawType": "bool",
         "type": "boolean"
        },
        {
         "name": "Shivaji Nagar",
         "rawType": "bool",
         "type": "boolean"
        },
        {
         "name": "Singasandra",
         "rawType": "bool",
         "type": "boolean"
        },
        {
         "name": "Somasundara Palya",
         "rawType": "bool",
         "type": "boolean"
        },
        {
         "name": "Sompura",
         "rawType": "bool",
         "type": "boolean"
        },
        {
         "name": "Sonnenahalli",
         "rawType": "bool",
         "type": "boolean"
        },
        {
         "name": "Subramanyapura",
         "rawType": "bool",
         "type": "boolean"
        },
        {
         "name": "Sultan Palaya",
         "rawType": "bool",
         "type": "boolean"
        },
        {
         "name": "TC Palaya",
         "rawType": "bool",
         "type": "boolean"
        },
        {
         "name": "Talaghattapura",
         "rawType": "bool",
         "type": "boolean"
        },
        {
         "name": "Thanisandra",
         "rawType": "bool",
         "type": "boolean"
        },
        {
         "name": "Thigalarapalya",
         "rawType": "bool",
         "type": "boolean"
        },
        {
         "name": "Thubarahalli",
         "rawType": "bool",
         "type": "boolean"
        },
        {
         "name": "Thyagaraja Nagar",
         "rawType": "bool",
         "type": "boolean"
        },
        {
         "name": "Tindlu",
         "rawType": "bool",
         "type": "boolean"
        },
        {
         "name": "Tumkur Road",
         "rawType": "bool",
         "type": "boolean"
        },
        {
         "name": "Ulsoor",
         "rawType": "bool",
         "type": "boolean"
        },
        {
         "name": "Uttarahalli",
         "rawType": "bool",
         "type": "boolean"
        },
        {
         "name": "Varthur",
         "rawType": "bool",
         "type": "boolean"
        },
        {
         "name": "Varthur Road",
         "rawType": "bool",
         "type": "boolean"
        },
        {
         "name": "Vasanthapura",
         "rawType": "bool",
         "type": "boolean"
        },
        {
         "name": "Vidyaranyapura",
         "rawType": "bool",
         "type": "boolean"
        },
        {
         "name": "Vijayanagar",
         "rawType": "bool",
         "type": "boolean"
        },
        {
         "name": "Vishveshwarya Layout",
         "rawType": "bool",
         "type": "boolean"
        },
        {
         "name": "Vishwapriya Layout",
         "rawType": "bool",
         "type": "boolean"
        },
        {
         "name": "Vittasandra",
         "rawType": "bool",
         "type": "boolean"
        },
        {
         "name": "Whitefield",
         "rawType": "bool",
         "type": "boolean"
        },
        {
         "name": "Yelachenahalli",
         "rawType": "bool",
         "type": "boolean"
        },
        {
         "name": "Yelahanka",
         "rawType": "bool",
         "type": "boolean"
        },
        {
         "name": "Yelahanka New Town",
         "rawType": "bool",
         "type": "boolean"
        },
        {
         "name": "Yelenahalli",
         "rawType": "bool",
         "type": "boolean"
        },
        {
         "name": "Yeshwanthpur",
         "rawType": "bool",
         "type": "boolean"
        }
       ],
       "conversionMethod": "pd.DataFrame",
       "ref": "108fc482-f737-4de2-997b-529538c0d6b8",
       "rows": [
        [
         "0",
         "1st Block Jayanagar",
         "2850.0",
         "4.0",
         "4.707999999999999",
         "4",
         "True",
         "False",
         "False",
         "False",
         "False",
         "False",
         "False",
         "False",
         "False",
         "False",
         "False",
         "False",
         "False",
         "False",
         "False",
         "False",
         "False",
         "False",
         "False",
         "False",
         "False",
         "False",
         "False",
         "False",
         "False",
         "False",
         "False",
         "False",
         "False",
         "False",
         "False",
         "False",
         "False",
         "False",
         "False",
         "False",
         "False",
         "False",
         "False",
         "False",
         "False",
         "False",
         "False",
         "False",
         "False",
         "False",
         "False",
         "False",
         "False",
         "False",
         "False",
         "False",
         "False",
         "False",
         "False",
         "False",
         "False",
         "False",
         "False",
         "False",
         "False",
         "False",
         "False",
         "False",
         "False",
         "False",
         "False",
         "False",
         "False",
         "False",
         "False",
         "False",
         "False",
         "False",
         "False",
         "False",
         "False",
         "False",
         "False",
         "False",
         "False",
         "False",
         "False",
         "False",
         "False",
         "False",
         "False",
         "False",
         "False",
         "False",
         "False",
         "False",
         "False",
         "False",
         "False",
         "False",
         "False",
         "False",
         "False",
         "False",
         "False",
         "False",
         "False",
         "False",
         "False",
         "False",
         "False",
         "False",
         "False",
         "False",
         "False",
         "False",
         "False",
         "False",
         "False",
         "False",
         "False",
         "False",
         "False",
         "False",
         "False",
         "False",
         "False",
         "False",
         "False",
         "False",
         "False",
         "False",
         "False",
         "False",
         "False",
         "False",
         "False",
         "False",
         "False",
         "False",
         "False",
         "False",
         "False",
         "False",
         "False",
         "False",
         "False",
         "False",
         "False",
         "False",
         "False",
         "False",
         "False",
         "False",
         "False",
         "False",
         "False",
         "False",
         "False",
         "False",
         "False",
         "False",
         "False",
         "False",
         "False",
         "False",
         "False",
         "False",
         "False",
         "False",
         "False",
         "False",
         "False",
         "False",
         "False",
         "False",
         "False",
         "False",
         "False",
         "False",
         "False",
         "False",
         "False",
         "False",
         "False",
         "False",
         "False",
         "False",
         "False",
         "False",
         "False",
         "False",
         "False",
         "False",
         "False",
         "False",
         "False",
         "False",
         "False",
         "False",
         "False",
         "False",
         "False",
         "False",
         "False",
         "False",
         "False",
         "False",
         "False",
         "False",
         "False",
         "False",
         "False",
         "False",
         "False",
         "False",
         "False",
         "False",
         "False",
         "False",
         "False",
         "False",
         "False",
         "False",
         "False",
         "False",
         "False",
         "False",
         "False",
         "False",
         "False",
         "False",
         "False",
         "False",
         "False",
         "False",
         "False",
         "False",
         "False",
         "False",
         "False",
         "False",
         "False",
         "False",
         "False"
        ],
        [
         "1",
         "1st Block Jayanagar",
         "1630.0",
         "3.0",
         "2.134",
         "3",
         "True",
         "False",
         "False",
         "False",
         "False",
         "False",
         "False",
         "False",
         "False",
         "False",
         "False",
         "False",
         "False",
         "False",
         "False",
         "False",
         "False",
         "False",
         "False",
         "False",
         "False",
         "False",
         "False",
         "False",
         "False",
         "False",
         "False",
         "False",
         "False",
         "False",
         "False",
         "False",
         "False",
         "False",
         "False",
         "False",
         "False",
         "False",
         "False",
         "False",
         "False",
         "False",
         "False",
         "False",
         "False",
         "False",
         "False",
         "False",
         "False",
         "False",
         "False",
         "False",
         "False",
         "False",
         "False",
         "False",
         "False",
         "False",
         "False",
         "False",
         "False",
         "False",
         "False",
         "False",
         "False",
         "False",
         "False",
         "False",
         "False",
         "False",
         "False",
         "False",
         "False",
         "False",
         "False",
         "False",
         "False",
         "False",
         "False",
         "False",
         "False",
         "False",
         "False",
         "False",
         "False",
         "False",
         "False",
         "False",
         "False",
         "False",
         "False",
         "False",
         "False",
         "False",
         "False",
         "False",
         "False",
         "False",
         "False",
         "False",
         "False",
         "False",
         "False",
         "False",
         "False",
         "False",
         "False",
         "False",
         "False",
         "False",
         "False",
         "False",
         "False",
         "False",
         "False",
         "False",
         "False",
         "False",
         "False",
         "False",
         "False",
         "False",
         "False",
         "False",
         "False",
         "False",
         "False",
         "False",
         "False",
         "False",
         "False",
         "False",
         "False",
         "False",
         "False",
         "False",
         "False",
         "False",
         "False",
         "False",
         "False",
         "False",
         "False",
         "False",
         "False",
         "False",
         "False",
         "False",
         "False",
         "False",
         "False",
         "False",
         "False",
         "False",
         "False",
         "False",
         "False",
         "False",
         "False",
         "False",
         "False",
         "False",
         "False",
         "False",
         "False",
         "False",
         "False",
         "False",
         "False",
         "False",
         "False",
         "False",
         "False",
         "False",
         "False",
         "False",
         "False",
         "False",
         "False",
         "False",
         "False",
         "False",
         "False",
         "False",
         "False",
         "False",
         "False",
         "False",
         "False",
         "False",
         "False",
         "False",
         "False",
         "False",
         "False",
         "False",
         "False",
         "False",
         "False",
         "False",
         "False",
         "False",
         "False",
         "False",
         "False",
         "False",
         "False",
         "False",
         "False",
         "False",
         "False",
         "False",
         "False",
         "False",
         "False",
         "False",
         "False",
         "False",
         "False",
         "False",
         "False",
         "False",
         "False",
         "False",
         "False",
         "False",
         "False",
         "False",
         "False",
         "False",
         "False",
         "False",
         "False",
         "False",
         "False",
         "False",
         "False",
         "False",
         "False",
         "False",
         "False"
        ],
        [
         "2",
         "1st Block Jayanagar",
         "1875.0",
         "2.0",
         "2.585",
         "3",
         "True",
         "False",
         "False",
         "False",
         "False",
         "False",
         "False",
         "False",
         "False",
         "False",
         "False",
         "False",
         "False",
         "False",
         "False",
         "False",
         "False",
         "False",
         "False",
         "False",
         "False",
         "False",
         "False",
         "False",
         "False",
         "False",
         "False",
         "False",
         "False",
         "False",
         "False",
         "False",
         "False",
         "False",
         "False",
         "False",
         "False",
         "False",
         "False",
         "False",
         "False",
         "False",
         "False",
         "False",
         "False",
         "False",
         "False",
         "False",
         "False",
         "False",
         "False",
         "False",
         "False",
         "False",
         "False",
         "False",
         "False",
         "False",
         "False",
         "False",
         "False",
         "False",
         "False",
         "False",
         "False",
         "False",
         "False",
         "False",
         "False",
         "False",
         "False",
         "False",
         "False",
         "False",
         "False",
         "False",
         "False",
         "False",
         "False",
         "False",
         "False",
         "False",
         "False",
         "False",
         "False",
         "False",
         "False",
         "False",
         "False",
         "False",
         "False",
         "False",
         "False",
         "False",
         "False",
         "False",
         "False",
         "False",
         "False",
         "False",
         "False",
         "False",
         "False",
         "False",
         "False",
         "False",
         "False",
         "False",
         "False",
         "False",
         "False",
         "False",
         "False",
         "False",
         "False",
         "False",
         "False",
         "False",
         "False",
         "False",
         "False",
         "False",
         "False",
         "False",
         "False",
         "False",
         "False",
         "False",
         "False",
         "False",
         "False",
         "False",
         "False",
         "False",
         "False",
         "False",
         "False",
         "False",
         "False",
         "False",
         "False",
         "False",
         "False",
         "False",
         "False",
         "False",
         "False",
         "False",
         "False",
         "False",
         "False",
         "False",
         "False",
         "False",
         "False",
         "False",
         "False",
         "False",
         "False",
         "False",
         "False",
         "False",
         "False",
         "False",
         "False",
         "False",
         "False",
         "False",
         "False",
         "False",
         "False",
         "False",
         "False",
         "False",
         "False",
         "False",
         "False",
         "False",
         "False",
         "False",
         "False",
         "False",
         "False",
         "False",
         "False",
         "False",
         "False",
         "False",
         "False",
         "False",
         "False",
         "False",
         "False",
         "False",
         "False",
         "False",
         "False",
         "False",
         "False",
         "False",
         "False",
         "False",
         "False",
         "False",
         "False",
         "False",
         "False",
         "False",
         "False",
         "False",
         "False",
         "False",
         "False",
         "False",
         "False",
         "False",
         "False",
         "False",
         "False",
         "False",
         "False",
         "False",
         "False",
         "False",
         "False",
         "False",
         "False",
         "False",
         "False",
         "False",
         "False",
         "False",
         "False",
         "False",
         "False",
         "False",
         "False",
         "False",
         "False",
         "False",
         "False"
        ]
       ],
       "shape": {
        "columns": 246,
        "rows": 3
       }
      },
      "text/html": [
       "<div>\n",
       "<style scoped>\n",
       "    .dataframe tbody tr th:only-of-type {\n",
       "        vertical-align: middle;\n",
       "    }\n",
       "\n",
       "    .dataframe tbody tr th {\n",
       "        vertical-align: top;\n",
       "    }\n",
       "\n",
       "    .dataframe thead th {\n",
       "        text-align: right;\n",
       "    }\n",
       "</style>\n",
       "<table border=\"1\" class=\"dataframe\">\n",
       "  <thead>\n",
       "    <tr style=\"text-align: right;\">\n",
       "      <th></th>\n",
       "      <th>location</th>\n",
       "      <th>total_sqft</th>\n",
       "      <th>bath</th>\n",
       "      <th>price</th>\n",
       "      <th>bhk</th>\n",
       "      <th>1st Block Jayanagar</th>\n",
       "      <th>1st Phase JP Nagar</th>\n",
       "      <th>2nd Phase Judicial Layout</th>\n",
       "      <th>2nd Stage Nagarbhavi</th>\n",
       "      <th>5th Block Hbr Layout</th>\n",
       "      <th>...</th>\n",
       "      <th>Vijayanagar</th>\n",
       "      <th>Vishveshwarya Layout</th>\n",
       "      <th>Vishwapriya Layout</th>\n",
       "      <th>Vittasandra</th>\n",
       "      <th>Whitefield</th>\n",
       "      <th>Yelachenahalli</th>\n",
       "      <th>Yelahanka</th>\n",
       "      <th>Yelahanka New Town</th>\n",
       "      <th>Yelenahalli</th>\n",
       "      <th>Yeshwanthpur</th>\n",
       "    </tr>\n",
       "  </thead>\n",
       "  <tbody>\n",
       "    <tr>\n",
       "      <th>0</th>\n",
       "      <td>1st Block Jayanagar</td>\n",
       "      <td>2850.0</td>\n",
       "      <td>4.0</td>\n",
       "      <td>4.708</td>\n",
       "      <td>4</td>\n",
       "      <td>True</td>\n",
       "      <td>False</td>\n",
       "      <td>False</td>\n",
       "      <td>False</td>\n",
       "      <td>False</td>\n",
       "      <td>...</td>\n",
       "      <td>False</td>\n",
       "      <td>False</td>\n",
       "      <td>False</td>\n",
       "      <td>False</td>\n",
       "      <td>False</td>\n",
       "      <td>False</td>\n",
       "      <td>False</td>\n",
       "      <td>False</td>\n",
       "      <td>False</td>\n",
       "      <td>False</td>\n",
       "    </tr>\n",
       "    <tr>\n",
       "      <th>1</th>\n",
       "      <td>1st Block Jayanagar</td>\n",
       "      <td>1630.0</td>\n",
       "      <td>3.0</td>\n",
       "      <td>2.134</td>\n",
       "      <td>3</td>\n",
       "      <td>True</td>\n",
       "      <td>False</td>\n",
       "      <td>False</td>\n",
       "      <td>False</td>\n",
       "      <td>False</td>\n",
       "      <td>...</td>\n",
       "      <td>False</td>\n",
       "      <td>False</td>\n",
       "      <td>False</td>\n",
       "      <td>False</td>\n",
       "      <td>False</td>\n",
       "      <td>False</td>\n",
       "      <td>False</td>\n",
       "      <td>False</td>\n",
       "      <td>False</td>\n",
       "      <td>False</td>\n",
       "    </tr>\n",
       "    <tr>\n",
       "      <th>2</th>\n",
       "      <td>1st Block Jayanagar</td>\n",
       "      <td>1875.0</td>\n",
       "      <td>2.0</td>\n",
       "      <td>2.585</td>\n",
       "      <td>3</td>\n",
       "      <td>True</td>\n",
       "      <td>False</td>\n",
       "      <td>False</td>\n",
       "      <td>False</td>\n",
       "      <td>False</td>\n",
       "      <td>...</td>\n",
       "      <td>False</td>\n",
       "      <td>False</td>\n",
       "      <td>False</td>\n",
       "      <td>False</td>\n",
       "      <td>False</td>\n",
       "      <td>False</td>\n",
       "      <td>False</td>\n",
       "      <td>False</td>\n",
       "      <td>False</td>\n",
       "      <td>False</td>\n",
       "    </tr>\n",
       "  </tbody>\n",
       "</table>\n",
       "<p>3 rows × 246 columns</p>\n",
       "</div>"
      ],
      "text/plain": [
       "              location  total_sqft  bath  price  bhk  1st Block Jayanagar  \\\n",
       "0  1st Block Jayanagar      2850.0   4.0  4.708    4                 True   \n",
       "1  1st Block Jayanagar      1630.0   3.0  2.134    3                 True   \n",
       "2  1st Block Jayanagar      1875.0   2.0  2.585    3                 True   \n",
       "\n",
       "   1st Phase JP Nagar  2nd Phase Judicial Layout  2nd Stage Nagarbhavi  \\\n",
       "0               False                      False                 False   \n",
       "1               False                      False                 False   \n",
       "2               False                      False                 False   \n",
       "\n",
       "   5th Block Hbr Layout  ...  Vijayanagar  Vishveshwarya Layout  \\\n",
       "0                 False  ...        False                 False   \n",
       "1                 False  ...        False                 False   \n",
       "2                 False  ...        False                 False   \n",
       "\n",
       "   Vishwapriya Layout  Vittasandra  Whitefield  Yelachenahalli  Yelahanka  \\\n",
       "0               False        False       False           False      False   \n",
       "1               False        False       False           False      False   \n",
       "2               False        False       False           False      False   \n",
       "\n",
       "   Yelahanka New Town  Yelenahalli  Yeshwanthpur  \n",
       "0               False        False         False  \n",
       "1               False        False         False  \n",
       "2               False        False         False  \n",
       "\n",
       "[3 rows x 246 columns]"
      ]
     },
     "execution_count": 698,
     "metadata": {},
     "output_type": "execute_result"
    }
   ],
   "source": [
    "df11 = pd.concat([df10, dummies.drop(\"other\", axis=1)], axis=1)\n",
    "df11.head(3)"
   ]
  },
  {
   "cell_type": "code",
   "execution_count": 699,
   "metadata": {},
   "outputs": [
    {
     "data": {
      "application/vnd.microsoft.datawrangler.viewer.v0+json": {
       "columns": [
        {
         "name": "index",
         "rawType": "int64",
         "type": "integer"
        },
        {
         "name": "total_sqft",
         "rawType": "float64",
         "type": "float"
        },
        {
         "name": "bath",
         "rawType": "float64",
         "type": "float"
        },
        {
         "name": "price",
         "rawType": "float64",
         "type": "float"
        },
        {
         "name": "bhk",
         "rawType": "int64",
         "type": "integer"
        },
        {
         "name": "1st Block Jayanagar",
         "rawType": "bool",
         "type": "boolean"
        },
        {
         "name": "1st Phase JP Nagar",
         "rawType": "bool",
         "type": "boolean"
        },
        {
         "name": "2nd Phase Judicial Layout",
         "rawType": "bool",
         "type": "boolean"
        },
        {
         "name": "2nd Stage Nagarbhavi",
         "rawType": "bool",
         "type": "boolean"
        },
        {
         "name": "5th Block Hbr Layout",
         "rawType": "bool",
         "type": "boolean"
        },
        {
         "name": "5th Phase JP Nagar",
         "rawType": "bool",
         "type": "boolean"
        },
        {
         "name": "6th Phase JP Nagar",
         "rawType": "bool",
         "type": "boolean"
        },
        {
         "name": "7th Phase JP Nagar",
         "rawType": "bool",
         "type": "boolean"
        },
        {
         "name": "8th Phase JP Nagar",
         "rawType": "bool",
         "type": "boolean"
        },
        {
         "name": "9th Phase JP Nagar",
         "rawType": "bool",
         "type": "boolean"
        },
        {
         "name": "AECS Layout",
         "rawType": "bool",
         "type": "boolean"
        },
        {
         "name": "Abbigere",
         "rawType": "bool",
         "type": "boolean"
        },
        {
         "name": "Akshaya Nagar",
         "rawType": "bool",
         "type": "boolean"
        },
        {
         "name": "Ambalipura",
         "rawType": "bool",
         "type": "boolean"
        },
        {
         "name": "Ambedkar Nagar",
         "rawType": "bool",
         "type": "boolean"
        },
        {
         "name": "Amruthahalli",
         "rawType": "bool",
         "type": "boolean"
        },
        {
         "name": "Anandapura",
         "rawType": "bool",
         "type": "boolean"
        },
        {
         "name": "Ananth Nagar",
         "rawType": "bool",
         "type": "boolean"
        },
        {
         "name": "Anekal",
         "rawType": "bool",
         "type": "boolean"
        },
        {
         "name": "Anjanapura",
         "rawType": "bool",
         "type": "boolean"
        },
        {
         "name": "Ardendale",
         "rawType": "bool",
         "type": "boolean"
        },
        {
         "name": "Arekere",
         "rawType": "bool",
         "type": "boolean"
        },
        {
         "name": "Attibele",
         "rawType": "bool",
         "type": "boolean"
        },
        {
         "name": "BEML Layout",
         "rawType": "bool",
         "type": "boolean"
        },
        {
         "name": "BTM 2nd Stage",
         "rawType": "bool",
         "type": "boolean"
        },
        {
         "name": "BTM Layout",
         "rawType": "bool",
         "type": "boolean"
        },
        {
         "name": "Babusapalaya",
         "rawType": "bool",
         "type": "boolean"
        },
        {
         "name": "Badavala Nagar",
         "rawType": "bool",
         "type": "boolean"
        },
        {
         "name": "Balagere",
         "rawType": "bool",
         "type": "boolean"
        },
        {
         "name": "Banashankari",
         "rawType": "bool",
         "type": "boolean"
        },
        {
         "name": "Banashankari Stage II",
         "rawType": "bool",
         "type": "boolean"
        },
        {
         "name": "Banashankari Stage III",
         "rawType": "bool",
         "type": "boolean"
        },
        {
         "name": "Banashankari Stage V",
         "rawType": "bool",
         "type": "boolean"
        },
        {
         "name": "Banashankari Stage VI",
         "rawType": "bool",
         "type": "boolean"
        },
        {
         "name": "Banaswadi",
         "rawType": "bool",
         "type": "boolean"
        },
        {
         "name": "Banjara Layout",
         "rawType": "bool",
         "type": "boolean"
        },
        {
         "name": "Bannerghatta",
         "rawType": "bool",
         "type": "boolean"
        },
        {
         "name": "Bannerghatta Road",
         "rawType": "bool",
         "type": "boolean"
        },
        {
         "name": "Basavangudi",
         "rawType": "bool",
         "type": "boolean"
        },
        {
         "name": "Basaveshwara Nagar",
         "rawType": "bool",
         "type": "boolean"
        },
        {
         "name": "Battarahalli",
         "rawType": "bool",
         "type": "boolean"
        },
        {
         "name": "Begur",
         "rawType": "bool",
         "type": "boolean"
        },
        {
         "name": "Begur Road",
         "rawType": "bool",
         "type": "boolean"
        },
        {
         "name": "Bellandur",
         "rawType": "bool",
         "type": "boolean"
        },
        {
         "name": "Benson Town",
         "rawType": "bool",
         "type": "boolean"
        },
        {
         "name": "Bharathi Nagar",
         "rawType": "bool",
         "type": "boolean"
        },
        {
         "name": "Bhoganhalli",
         "rawType": "bool",
         "type": "boolean"
        },
        {
         "name": "Billekahalli",
         "rawType": "bool",
         "type": "boolean"
        },
        {
         "name": "Binny Pete",
         "rawType": "bool",
         "type": "boolean"
        },
        {
         "name": "Bisuvanahalli",
         "rawType": "bool",
         "type": "boolean"
        },
        {
         "name": "Bommanahalli",
         "rawType": "bool",
         "type": "boolean"
        },
        {
         "name": "Bommasandra",
         "rawType": "bool",
         "type": "boolean"
        },
        {
         "name": "Bommasandra Industrial Area",
         "rawType": "bool",
         "type": "boolean"
        },
        {
         "name": "Bommenahalli",
         "rawType": "bool",
         "type": "boolean"
        },
        {
         "name": "Brookefield",
         "rawType": "bool",
         "type": "boolean"
        },
        {
         "name": "Budigere",
         "rawType": "bool",
         "type": "boolean"
        },
        {
         "name": "CV Raman Nagar",
         "rawType": "bool",
         "type": "boolean"
        },
        {
         "name": "Chamrajpet",
         "rawType": "bool",
         "type": "boolean"
        },
        {
         "name": "Chandapura",
         "rawType": "bool",
         "type": "boolean"
        },
        {
         "name": "Channasandra",
         "rawType": "bool",
         "type": "boolean"
        },
        {
         "name": "Chikka Tirupathi",
         "rawType": "bool",
         "type": "boolean"
        },
        {
         "name": "Chikkabanavar",
         "rawType": "bool",
         "type": "boolean"
        },
        {
         "name": "Chikkalasandra",
         "rawType": "bool",
         "type": "boolean"
        },
        {
         "name": "Choodasandra",
         "rawType": "bool",
         "type": "boolean"
        },
        {
         "name": "Cooke Town",
         "rawType": "bool",
         "type": "boolean"
        },
        {
         "name": "Cox Town",
         "rawType": "bool",
         "type": "boolean"
        },
        {
         "name": "Cunningham Road",
         "rawType": "bool",
         "type": "boolean"
        },
        {
         "name": "Dasanapura",
         "rawType": "bool",
         "type": "boolean"
        },
        {
         "name": "Dasarahalli",
         "rawType": "bool",
         "type": "boolean"
        },
        {
         "name": "Devanahalli",
         "rawType": "bool",
         "type": "boolean"
        },
        {
         "name": "Devarachikkanahalli",
         "rawType": "bool",
         "type": "boolean"
        },
        {
         "name": "Dodda Nekkundi",
         "rawType": "bool",
         "type": "boolean"
        },
        {
         "name": "Doddaballapur",
         "rawType": "bool",
         "type": "boolean"
        },
        {
         "name": "Doddakallasandra",
         "rawType": "bool",
         "type": "boolean"
        },
        {
         "name": "Doddathoguru",
         "rawType": "bool",
         "type": "boolean"
        },
        {
         "name": "Domlur",
         "rawType": "bool",
         "type": "boolean"
        },
        {
         "name": "Dommasandra",
         "rawType": "bool",
         "type": "boolean"
        },
        {
         "name": "EPIP Zone",
         "rawType": "bool",
         "type": "boolean"
        },
        {
         "name": "Electronic City",
         "rawType": "bool",
         "type": "boolean"
        },
        {
         "name": "Electronic City Phase II",
         "rawType": "bool",
         "type": "boolean"
        },
        {
         "name": "Electronics City Phase 1",
         "rawType": "bool",
         "type": "boolean"
        },
        {
         "name": "Frazer Town",
         "rawType": "bool",
         "type": "boolean"
        },
        {
         "name": "GM Palaya",
         "rawType": "bool",
         "type": "boolean"
        },
        {
         "name": "Garudachar Palya",
         "rawType": "bool",
         "type": "boolean"
        },
        {
         "name": "Giri Nagar",
         "rawType": "bool",
         "type": "boolean"
        },
        {
         "name": "Gollarapalya Hosahalli",
         "rawType": "bool",
         "type": "boolean"
        },
        {
         "name": "Gottigere",
         "rawType": "bool",
         "type": "boolean"
        },
        {
         "name": "Green Glen Layout",
         "rawType": "bool",
         "type": "boolean"
        },
        {
         "name": "Gubbalala",
         "rawType": "bool",
         "type": "boolean"
        },
        {
         "name": "Gunjur",
         "rawType": "bool",
         "type": "boolean"
        },
        {
         "name": "HAL 2nd Stage",
         "rawType": "bool",
         "type": "boolean"
        },
        {
         "name": "HBR Layout",
         "rawType": "bool",
         "type": "boolean"
        },
        {
         "name": "HRBR Layout",
         "rawType": "bool",
         "type": "boolean"
        },
        {
         "name": "HSR Layout",
         "rawType": "bool",
         "type": "boolean"
        },
        {
         "name": "Haralur Road",
         "rawType": "bool",
         "type": "boolean"
        },
        {
         "name": "Harlur",
         "rawType": "bool",
         "type": "boolean"
        },
        {
         "name": "Hebbal",
         "rawType": "bool",
         "type": "boolean"
        },
        {
         "name": "Hebbal Kempapura",
         "rawType": "bool",
         "type": "boolean"
        },
        {
         "name": "Hegde Nagar",
         "rawType": "bool",
         "type": "boolean"
        },
        {
         "name": "Hennur",
         "rawType": "bool",
         "type": "boolean"
        },
        {
         "name": "Hennur Road",
         "rawType": "bool",
         "type": "boolean"
        },
        {
         "name": "Hoodi",
         "rawType": "bool",
         "type": "boolean"
        },
        {
         "name": "Horamavu Agara",
         "rawType": "bool",
         "type": "boolean"
        },
        {
         "name": "Horamavu Banaswadi",
         "rawType": "bool",
         "type": "boolean"
        },
        {
         "name": "Hormavu",
         "rawType": "bool",
         "type": "boolean"
        },
        {
         "name": "Hosa Road",
         "rawType": "bool",
         "type": "boolean"
        },
        {
         "name": "Hosakerehalli",
         "rawType": "bool",
         "type": "boolean"
        },
        {
         "name": "Hoskote",
         "rawType": "bool",
         "type": "boolean"
        },
        {
         "name": "Hosur Road",
         "rawType": "bool",
         "type": "boolean"
        },
        {
         "name": "Hulimavu",
         "rawType": "bool",
         "type": "boolean"
        },
        {
         "name": "ISRO Layout",
         "rawType": "bool",
         "type": "boolean"
        },
        {
         "name": "ITPL",
         "rawType": "bool",
         "type": "boolean"
        },
        {
         "name": "Iblur Village",
         "rawType": "bool",
         "type": "boolean"
        },
        {
         "name": "Indira Nagar",
         "rawType": "bool",
         "type": "boolean"
        },
        {
         "name": "JP Nagar",
         "rawType": "bool",
         "type": "boolean"
        },
        {
         "name": "Jakkur",
         "rawType": "bool",
         "type": "boolean"
        },
        {
         "name": "Jalahalli",
         "rawType": "bool",
         "type": "boolean"
        },
        {
         "name": "Jalahalli East",
         "rawType": "bool",
         "type": "boolean"
        },
        {
         "name": "Jigani",
         "rawType": "bool",
         "type": "boolean"
        },
        {
         "name": "Judicial Layout",
         "rawType": "bool",
         "type": "boolean"
        },
        {
         "name": "KR Puram",
         "rawType": "bool",
         "type": "boolean"
        },
        {
         "name": "Kadubeesanahalli",
         "rawType": "bool",
         "type": "boolean"
        },
        {
         "name": "Kadugodi",
         "rawType": "bool",
         "type": "boolean"
        },
        {
         "name": "Kaggadasapura",
         "rawType": "bool",
         "type": "boolean"
        },
        {
         "name": "Kaggalipura",
         "rawType": "bool",
         "type": "boolean"
        },
        {
         "name": "Kaikondrahalli",
         "rawType": "bool",
         "type": "boolean"
        },
        {
         "name": "Kalena Agrahara",
         "rawType": "bool",
         "type": "boolean"
        },
        {
         "name": "Kalyan nagar",
         "rawType": "bool",
         "type": "boolean"
        },
        {
         "name": "Kambipura",
         "rawType": "bool",
         "type": "boolean"
        },
        {
         "name": "Kammanahalli",
         "rawType": "bool",
         "type": "boolean"
        },
        {
         "name": "Kammasandra",
         "rawType": "bool",
         "type": "boolean"
        },
        {
         "name": "Kanakapura",
         "rawType": "bool",
         "type": "boolean"
        },
        {
         "name": "Kanakpura Road",
         "rawType": "bool",
         "type": "boolean"
        },
        {
         "name": "Kannamangala",
         "rawType": "bool",
         "type": "boolean"
        },
        {
         "name": "Karuna Nagar",
         "rawType": "bool",
         "type": "boolean"
        },
        {
         "name": "Kasavanhalli",
         "rawType": "bool",
         "type": "boolean"
        },
        {
         "name": "Kasturi Nagar",
         "rawType": "bool",
         "type": "boolean"
        },
        {
         "name": "Kathriguppe",
         "rawType": "bool",
         "type": "boolean"
        },
        {
         "name": "Kaval Byrasandra",
         "rawType": "bool",
         "type": "boolean"
        },
        {
         "name": "Kenchenahalli",
         "rawType": "bool",
         "type": "boolean"
        },
        {
         "name": "Kengeri",
         "rawType": "bool",
         "type": "boolean"
        },
        {
         "name": "Kengeri Satellite Town",
         "rawType": "bool",
         "type": "boolean"
        },
        {
         "name": "Kereguddadahalli",
         "rawType": "bool",
         "type": "boolean"
        },
        {
         "name": "Kodichikkanahalli",
         "rawType": "bool",
         "type": "boolean"
        },
        {
         "name": "Kodigehaali",
         "rawType": "bool",
         "type": "boolean"
        },
        {
         "name": "Kodigehalli",
         "rawType": "bool",
         "type": "boolean"
        },
        {
         "name": "Kodihalli",
         "rawType": "bool",
         "type": "boolean"
        },
        {
         "name": "Kogilu",
         "rawType": "bool",
         "type": "boolean"
        },
        {
         "name": "Konanakunte",
         "rawType": "bool",
         "type": "boolean"
        },
        {
         "name": "Koramangala",
         "rawType": "bool",
         "type": "boolean"
        },
        {
         "name": "Kothannur",
         "rawType": "bool",
         "type": "boolean"
        },
        {
         "name": "Kothanur",
         "rawType": "bool",
         "type": "boolean"
        },
        {
         "name": "Kudlu",
         "rawType": "bool",
         "type": "boolean"
        },
        {
         "name": "Kudlu Gate",
         "rawType": "bool",
         "type": "boolean"
        },
        {
         "name": "Kumaraswami Layout",
         "rawType": "bool",
         "type": "boolean"
        },
        {
         "name": "Kundalahalli",
         "rawType": "bool",
         "type": "boolean"
        },
        {
         "name": "LB Shastri Nagar",
         "rawType": "bool",
         "type": "boolean"
        },
        {
         "name": "Laggere",
         "rawType": "bool",
         "type": "boolean"
        },
        {
         "name": "Lakshminarayana Pura",
         "rawType": "bool",
         "type": "boolean"
        },
        {
         "name": "Lingadheeranahalli",
         "rawType": "bool",
         "type": "boolean"
        },
        {
         "name": "Magadi Road",
         "rawType": "bool",
         "type": "boolean"
        },
        {
         "name": "Mahadevpura",
         "rawType": "bool",
         "type": "boolean"
        },
        {
         "name": "Mahalakshmi Layout",
         "rawType": "bool",
         "type": "boolean"
        },
        {
         "name": "Mallasandra",
         "rawType": "bool",
         "type": "boolean"
        },
        {
         "name": "Malleshpalya",
         "rawType": "bool",
         "type": "boolean"
        },
        {
         "name": "Malleshwaram",
         "rawType": "bool",
         "type": "boolean"
        },
        {
         "name": "Marathahalli",
         "rawType": "bool",
         "type": "boolean"
        },
        {
         "name": "Margondanahalli",
         "rawType": "bool",
         "type": "boolean"
        },
        {
         "name": "Marsur",
         "rawType": "bool",
         "type": "boolean"
        },
        {
         "name": "Mico Layout",
         "rawType": "bool",
         "type": "boolean"
        },
        {
         "name": "Munnekollal",
         "rawType": "bool",
         "type": "boolean"
        },
        {
         "name": "Murugeshpalya",
         "rawType": "bool",
         "type": "boolean"
        },
        {
         "name": "Mysore Road",
         "rawType": "bool",
         "type": "boolean"
        },
        {
         "name": "NGR Layout",
         "rawType": "bool",
         "type": "boolean"
        },
        {
         "name": "NRI Layout",
         "rawType": "bool",
         "type": "boolean"
        },
        {
         "name": "Nagarbhavi",
         "rawType": "bool",
         "type": "boolean"
        },
        {
         "name": "Nagasandra",
         "rawType": "bool",
         "type": "boolean"
        },
        {
         "name": "Nagavara",
         "rawType": "bool",
         "type": "boolean"
        },
        {
         "name": "Nagavarapalya",
         "rawType": "bool",
         "type": "boolean"
        },
        {
         "name": "Narayanapura",
         "rawType": "bool",
         "type": "boolean"
        },
        {
         "name": "Neeladri Nagar",
         "rawType": "bool",
         "type": "boolean"
        },
        {
         "name": "Nehru Nagar",
         "rawType": "bool",
         "type": "boolean"
        },
        {
         "name": "OMBR Layout",
         "rawType": "bool",
         "type": "boolean"
        },
        {
         "name": "Old Airport Road",
         "rawType": "bool",
         "type": "boolean"
        },
        {
         "name": "Old Madras Road",
         "rawType": "bool",
         "type": "boolean"
        },
        {
         "name": "Padmanabhanagar",
         "rawType": "bool",
         "type": "boolean"
        },
        {
         "name": "Pai Layout",
         "rawType": "bool",
         "type": "boolean"
        },
        {
         "name": "Panathur",
         "rawType": "bool",
         "type": "boolean"
        },
        {
         "name": "Parappana Agrahara",
         "rawType": "bool",
         "type": "boolean"
        },
        {
         "name": "Pattandur Agrahara",
         "rawType": "bool",
         "type": "boolean"
        },
        {
         "name": "Poorna Pragna Layout",
         "rawType": "bool",
         "type": "boolean"
        },
        {
         "name": "Prithvi Layout",
         "rawType": "bool",
         "type": "boolean"
        },
        {
         "name": "R.T. Nagar",
         "rawType": "bool",
         "type": "boolean"
        },
        {
         "name": "Rachenahalli",
         "rawType": "bool",
         "type": "boolean"
        },
        {
         "name": "Raja Rajeshwari Nagar",
         "rawType": "bool",
         "type": "boolean"
        },
        {
         "name": "Rajaji Nagar",
         "rawType": "bool",
         "type": "boolean"
        },
        {
         "name": "Rajiv Nagar",
         "rawType": "bool",
         "type": "boolean"
        },
        {
         "name": "Ramagondanahalli",
         "rawType": "bool",
         "type": "boolean"
        },
        {
         "name": "Ramamurthy Nagar",
         "rawType": "bool",
         "type": "boolean"
        },
        {
         "name": "Rayasandra",
         "rawType": "bool",
         "type": "boolean"
        },
        {
         "name": "Sahakara Nagar",
         "rawType": "bool",
         "type": "boolean"
        },
        {
         "name": "Sanjay nagar",
         "rawType": "bool",
         "type": "boolean"
        },
        {
         "name": "Sarakki Nagar",
         "rawType": "bool",
         "type": "boolean"
        },
        {
         "name": "Sarjapur",
         "rawType": "bool",
         "type": "boolean"
        },
        {
         "name": "Sarjapur  Road",
         "rawType": "bool",
         "type": "boolean"
        },
        {
         "name": "Sarjapura - Attibele Road",
         "rawType": "bool",
         "type": "boolean"
        },
        {
         "name": "Sector 2 HSR Layout",
         "rawType": "bool",
         "type": "boolean"
        },
        {
         "name": "Sector 7 HSR Layout",
         "rawType": "bool",
         "type": "boolean"
        },
        {
         "name": "Seegehalli",
         "rawType": "bool",
         "type": "boolean"
        },
        {
         "name": "Shampura",
         "rawType": "bool",
         "type": "boolean"
        },
        {
         "name": "Shivaji Nagar",
         "rawType": "bool",
         "type": "boolean"
        },
        {
         "name": "Singasandra",
         "rawType": "bool",
         "type": "boolean"
        },
        {
         "name": "Somasundara Palya",
         "rawType": "bool",
         "type": "boolean"
        },
        {
         "name": "Sompura",
         "rawType": "bool",
         "type": "boolean"
        },
        {
         "name": "Sonnenahalli",
         "rawType": "bool",
         "type": "boolean"
        },
        {
         "name": "Subramanyapura",
         "rawType": "bool",
         "type": "boolean"
        },
        {
         "name": "Sultan Palaya",
         "rawType": "bool",
         "type": "boolean"
        },
        {
         "name": "TC Palaya",
         "rawType": "bool",
         "type": "boolean"
        },
        {
         "name": "Talaghattapura",
         "rawType": "bool",
         "type": "boolean"
        },
        {
         "name": "Thanisandra",
         "rawType": "bool",
         "type": "boolean"
        },
        {
         "name": "Thigalarapalya",
         "rawType": "bool",
         "type": "boolean"
        },
        {
         "name": "Thubarahalli",
         "rawType": "bool",
         "type": "boolean"
        },
        {
         "name": "Thyagaraja Nagar",
         "rawType": "bool",
         "type": "boolean"
        },
        {
         "name": "Tindlu",
         "rawType": "bool",
         "type": "boolean"
        },
        {
         "name": "Tumkur Road",
         "rawType": "bool",
         "type": "boolean"
        },
        {
         "name": "Ulsoor",
         "rawType": "bool",
         "type": "boolean"
        },
        {
         "name": "Uttarahalli",
         "rawType": "bool",
         "type": "boolean"
        },
        {
         "name": "Varthur",
         "rawType": "bool",
         "type": "boolean"
        },
        {
         "name": "Varthur Road",
         "rawType": "bool",
         "type": "boolean"
        },
        {
         "name": "Vasanthapura",
         "rawType": "bool",
         "type": "boolean"
        },
        {
         "name": "Vidyaranyapura",
         "rawType": "bool",
         "type": "boolean"
        },
        {
         "name": "Vijayanagar",
         "rawType": "bool",
         "type": "boolean"
        },
        {
         "name": "Vishveshwarya Layout",
         "rawType": "bool",
         "type": "boolean"
        },
        {
         "name": "Vishwapriya Layout",
         "rawType": "bool",
         "type": "boolean"
        },
        {
         "name": "Vittasandra",
         "rawType": "bool",
         "type": "boolean"
        },
        {
         "name": "Whitefield",
         "rawType": "bool",
         "type": "boolean"
        },
        {
         "name": "Yelachenahalli",
         "rawType": "bool",
         "type": "boolean"
        },
        {
         "name": "Yelahanka",
         "rawType": "bool",
         "type": "boolean"
        },
        {
         "name": "Yelahanka New Town",
         "rawType": "bool",
         "type": "boolean"
        },
        {
         "name": "Yelenahalli",
         "rawType": "bool",
         "type": "boolean"
        },
        {
         "name": "Yeshwanthpur",
         "rawType": "bool",
         "type": "boolean"
        }
       ],
       "conversionMethod": "pd.DataFrame",
       "ref": "dbef851d-d120-4d83-8dad-7a87a963ee0e",
       "rows": [
        [
         "0",
         "2850.0",
         "4.0",
         "4.707999999999999",
         "4",
         "True",
         "False",
         "False",
         "False",
         "False",
         "False",
         "False",
         "False",
         "False",
         "False",
         "False",
         "False",
         "False",
         "False",
         "False",
         "False",
         "False",
         "False",
         "False",
         "False",
         "False",
         "False",
         "False",
         "False",
         "False",
         "False",
         "False",
         "False",
         "False",
         "False",
         "False",
         "False",
         "False",
         "False",
         "False",
         "False",
         "False",
         "False",
         "False",
         "False",
         "False",
         "False",
         "False",
         "False",
         "False",
         "False",
         "False",
         "False",
         "False",
         "False",
         "False",
         "False",
         "False",
         "False",
         "False",
         "False",
         "False",
         "False",
         "False",
         "False",
         "False",
         "False",
         "False",
         "False",
         "False",
         "False",
         "False",
         "False",
         "False",
         "False",
         "False",
         "False",
         "False",
         "False",
         "False",
         "False",
         "False",
         "False",
         "False",
         "False",
         "False",
         "False",
         "False",
         "False",
         "False",
         "False",
         "False",
         "False",
         "False",
         "False",
         "False",
         "False",
         "False",
         "False",
         "False",
         "False",
         "False",
         "False",
         "False",
         "False",
         "False",
         "False",
         "False",
         "False",
         "False",
         "False",
         "False",
         "False",
         "False",
         "False",
         "False",
         "False",
         "False",
         "False",
         "False",
         "False",
         "False",
         "False",
         "False",
         "False",
         "False",
         "False",
         "False",
         "False",
         "False",
         "False",
         "False",
         "False",
         "False",
         "False",
         "False",
         "False",
         "False",
         "False",
         "False",
         "False",
         "False",
         "False",
         "False",
         "False",
         "False",
         "False",
         "False",
         "False",
         "False",
         "False",
         "False",
         "False",
         "False",
         "False",
         "False",
         "False",
         "False",
         "False",
         "False",
         "False",
         "False",
         "False",
         "False",
         "False",
         "False",
         "False",
         "False",
         "False",
         "False",
         "False",
         "False",
         "False",
         "False",
         "False",
         "False",
         "False",
         "False",
         "False",
         "False",
         "False",
         "False",
         "False",
         "False",
         "False",
         "False",
         "False",
         "False",
         "False",
         "False",
         "False",
         "False",
         "False",
         "False",
         "False",
         "False",
         "False",
         "False",
         "False",
         "False",
         "False",
         "False",
         "False",
         "False",
         "False",
         "False",
         "False",
         "False",
         "False",
         "False",
         "False",
         "False",
         "False",
         "False",
         "False",
         "False",
         "False",
         "False",
         "False",
         "False",
         "False",
         "False",
         "False",
         "False",
         "False",
         "False",
         "False",
         "False",
         "False",
         "False",
         "False",
         "False",
         "False",
         "False",
         "False",
         "False",
         "False",
         "False",
         "False",
         "False",
         "False",
         "False",
         "False",
         "False",
         "False",
         "False"
        ],
        [
         "1",
         "1630.0",
         "3.0",
         "2.134",
         "3",
         "True",
         "False",
         "False",
         "False",
         "False",
         "False",
         "False",
         "False",
         "False",
         "False",
         "False",
         "False",
         "False",
         "False",
         "False",
         "False",
         "False",
         "False",
         "False",
         "False",
         "False",
         "False",
         "False",
         "False",
         "False",
         "False",
         "False",
         "False",
         "False",
         "False",
         "False",
         "False",
         "False",
         "False",
         "False",
         "False",
         "False",
         "False",
         "False",
         "False",
         "False",
         "False",
         "False",
         "False",
         "False",
         "False",
         "False",
         "False",
         "False",
         "False",
         "False",
         "False",
         "False",
         "False",
         "False",
         "False",
         "False",
         "False",
         "False",
         "False",
         "False",
         "False",
         "False",
         "False",
         "False",
         "False",
         "False",
         "False",
         "False",
         "False",
         "False",
         "False",
         "False",
         "False",
         "False",
         "False",
         "False",
         "False",
         "False",
         "False",
         "False",
         "False",
         "False",
         "False",
         "False",
         "False",
         "False",
         "False",
         "False",
         "False",
         "False",
         "False",
         "False",
         "False",
         "False",
         "False",
         "False",
         "False",
         "False",
         "False",
         "False",
         "False",
         "False",
         "False",
         "False",
         "False",
         "False",
         "False",
         "False",
         "False",
         "False",
         "False",
         "False",
         "False",
         "False",
         "False",
         "False",
         "False",
         "False",
         "False",
         "False",
         "False",
         "False",
         "False",
         "False",
         "False",
         "False",
         "False",
         "False",
         "False",
         "False",
         "False",
         "False",
         "False",
         "False",
         "False",
         "False",
         "False",
         "False",
         "False",
         "False",
         "False",
         "False",
         "False",
         "False",
         "False",
         "False",
         "False",
         "False",
         "False",
         "False",
         "False",
         "False",
         "False",
         "False",
         "False",
         "False",
         "False",
         "False",
         "False",
         "False",
         "False",
         "False",
         "False",
         "False",
         "False",
         "False",
         "False",
         "False",
         "False",
         "False",
         "False",
         "False",
         "False",
         "False",
         "False",
         "False",
         "False",
         "False",
         "False",
         "False",
         "False",
         "False",
         "False",
         "False",
         "False",
         "False",
         "False",
         "False",
         "False",
         "False",
         "False",
         "False",
         "False",
         "False",
         "False",
         "False",
         "False",
         "False",
         "False",
         "False",
         "False",
         "False",
         "False",
         "False",
         "False",
         "False",
         "False",
         "False",
         "False",
         "False",
         "False",
         "False",
         "False",
         "False",
         "False",
         "False",
         "False",
         "False",
         "False",
         "False",
         "False",
         "False",
         "False",
         "False",
         "False",
         "False",
         "False",
         "False",
         "False",
         "False",
         "False",
         "False",
         "False",
         "False",
         "False",
         "False",
         "False",
         "False",
         "False",
         "False"
        ],
        [
         "2",
         "1875.0",
         "2.0",
         "2.585",
         "3",
         "True",
         "False",
         "False",
         "False",
         "False",
         "False",
         "False",
         "False",
         "False",
         "False",
         "False",
         "False",
         "False",
         "False",
         "False",
         "False",
         "False",
         "False",
         "False",
         "False",
         "False",
         "False",
         "False",
         "False",
         "False",
         "False",
         "False",
         "False",
         "False",
         "False",
         "False",
         "False",
         "False",
         "False",
         "False",
         "False",
         "False",
         "False",
         "False",
         "False",
         "False",
         "False",
         "False",
         "False",
         "False",
         "False",
         "False",
         "False",
         "False",
         "False",
         "False",
         "False",
         "False",
         "False",
         "False",
         "False",
         "False",
         "False",
         "False",
         "False",
         "False",
         "False",
         "False",
         "False",
         "False",
         "False",
         "False",
         "False",
         "False",
         "False",
         "False",
         "False",
         "False",
         "False",
         "False",
         "False",
         "False",
         "False",
         "False",
         "False",
         "False",
         "False",
         "False",
         "False",
         "False",
         "False",
         "False",
         "False",
         "False",
         "False",
         "False",
         "False",
         "False",
         "False",
         "False",
         "False",
         "False",
         "False",
         "False",
         "False",
         "False",
         "False",
         "False",
         "False",
         "False",
         "False",
         "False",
         "False",
         "False",
         "False",
         "False",
         "False",
         "False",
         "False",
         "False",
         "False",
         "False",
         "False",
         "False",
         "False",
         "False",
         "False",
         "False",
         "False",
         "False",
         "False",
         "False",
         "False",
         "False",
         "False",
         "False",
         "False",
         "False",
         "False",
         "False",
         "False",
         "False",
         "False",
         "False",
         "False",
         "False",
         "False",
         "False",
         "False",
         "False",
         "False",
         "False",
         "False",
         "False",
         "False",
         "False",
         "False",
         "False",
         "False",
         "False",
         "False",
         "False",
         "False",
         "False",
         "False",
         "False",
         "False",
         "False",
         "False",
         "False",
         "False",
         "False",
         "False",
         "False",
         "False",
         "False",
         "False",
         "False",
         "False",
         "False",
         "False",
         "False",
         "False",
         "False",
         "False",
         "False",
         "False",
         "False",
         "False",
         "False",
         "False",
         "False",
         "False",
         "False",
         "False",
         "False",
         "False",
         "False",
         "False",
         "False",
         "False",
         "False",
         "False",
         "False",
         "False",
         "False",
         "False",
         "False",
         "False",
         "False",
         "False",
         "False",
         "False",
         "False",
         "False",
         "False",
         "False",
         "False",
         "False",
         "False",
         "False",
         "False",
         "False",
         "False",
         "False",
         "False",
         "False",
         "False",
         "False",
         "False",
         "False",
         "False",
         "False",
         "False",
         "False",
         "False",
         "False",
         "False",
         "False",
         "False",
         "False",
         "False",
         "False",
         "False",
         "False",
         "False"
        ]
       ],
       "shape": {
        "columns": 245,
        "rows": 3
       }
      },
      "text/html": [
       "<div>\n",
       "<style scoped>\n",
       "    .dataframe tbody tr th:only-of-type {\n",
       "        vertical-align: middle;\n",
       "    }\n",
       "\n",
       "    .dataframe tbody tr th {\n",
       "        vertical-align: top;\n",
       "    }\n",
       "\n",
       "    .dataframe thead th {\n",
       "        text-align: right;\n",
       "    }\n",
       "</style>\n",
       "<table border=\"1\" class=\"dataframe\">\n",
       "  <thead>\n",
       "    <tr style=\"text-align: right;\">\n",
       "      <th></th>\n",
       "      <th>total_sqft</th>\n",
       "      <th>bath</th>\n",
       "      <th>price</th>\n",
       "      <th>bhk</th>\n",
       "      <th>1st Block Jayanagar</th>\n",
       "      <th>1st Phase JP Nagar</th>\n",
       "      <th>2nd Phase Judicial Layout</th>\n",
       "      <th>2nd Stage Nagarbhavi</th>\n",
       "      <th>5th Block Hbr Layout</th>\n",
       "      <th>5th Phase JP Nagar</th>\n",
       "      <th>...</th>\n",
       "      <th>Vijayanagar</th>\n",
       "      <th>Vishveshwarya Layout</th>\n",
       "      <th>Vishwapriya Layout</th>\n",
       "      <th>Vittasandra</th>\n",
       "      <th>Whitefield</th>\n",
       "      <th>Yelachenahalli</th>\n",
       "      <th>Yelahanka</th>\n",
       "      <th>Yelahanka New Town</th>\n",
       "      <th>Yelenahalli</th>\n",
       "      <th>Yeshwanthpur</th>\n",
       "    </tr>\n",
       "  </thead>\n",
       "  <tbody>\n",
       "    <tr>\n",
       "      <th>0</th>\n",
       "      <td>2850.0</td>\n",
       "      <td>4.0</td>\n",
       "      <td>4.708</td>\n",
       "      <td>4</td>\n",
       "      <td>True</td>\n",
       "      <td>False</td>\n",
       "      <td>False</td>\n",
       "      <td>False</td>\n",
       "      <td>False</td>\n",
       "      <td>False</td>\n",
       "      <td>...</td>\n",
       "      <td>False</td>\n",
       "      <td>False</td>\n",
       "      <td>False</td>\n",
       "      <td>False</td>\n",
       "      <td>False</td>\n",
       "      <td>False</td>\n",
       "      <td>False</td>\n",
       "      <td>False</td>\n",
       "      <td>False</td>\n",
       "      <td>False</td>\n",
       "    </tr>\n",
       "    <tr>\n",
       "      <th>1</th>\n",
       "      <td>1630.0</td>\n",
       "      <td>3.0</td>\n",
       "      <td>2.134</td>\n",
       "      <td>3</td>\n",
       "      <td>True</td>\n",
       "      <td>False</td>\n",
       "      <td>False</td>\n",
       "      <td>False</td>\n",
       "      <td>False</td>\n",
       "      <td>False</td>\n",
       "      <td>...</td>\n",
       "      <td>False</td>\n",
       "      <td>False</td>\n",
       "      <td>False</td>\n",
       "      <td>False</td>\n",
       "      <td>False</td>\n",
       "      <td>False</td>\n",
       "      <td>False</td>\n",
       "      <td>False</td>\n",
       "      <td>False</td>\n",
       "      <td>False</td>\n",
       "    </tr>\n",
       "    <tr>\n",
       "      <th>2</th>\n",
       "      <td>1875.0</td>\n",
       "      <td>2.0</td>\n",
       "      <td>2.585</td>\n",
       "      <td>3</td>\n",
       "      <td>True</td>\n",
       "      <td>False</td>\n",
       "      <td>False</td>\n",
       "      <td>False</td>\n",
       "      <td>False</td>\n",
       "      <td>False</td>\n",
       "      <td>...</td>\n",
       "      <td>False</td>\n",
       "      <td>False</td>\n",
       "      <td>False</td>\n",
       "      <td>False</td>\n",
       "      <td>False</td>\n",
       "      <td>False</td>\n",
       "      <td>False</td>\n",
       "      <td>False</td>\n",
       "      <td>False</td>\n",
       "      <td>False</td>\n",
       "    </tr>\n",
       "  </tbody>\n",
       "</table>\n",
       "<p>3 rows × 245 columns</p>\n",
       "</div>"
      ],
      "text/plain": [
       "   total_sqft  bath  price  bhk  1st Block Jayanagar  1st Phase JP Nagar  \\\n",
       "0      2850.0   4.0  4.708    4                 True               False   \n",
       "1      1630.0   3.0  2.134    3                 True               False   \n",
       "2      1875.0   2.0  2.585    3                 True               False   \n",
       "\n",
       "   2nd Phase Judicial Layout  2nd Stage Nagarbhavi  5th Block Hbr Layout  \\\n",
       "0                      False                 False                 False   \n",
       "1                      False                 False                 False   \n",
       "2                      False                 False                 False   \n",
       "\n",
       "   5th Phase JP Nagar  ...  Vijayanagar  Vishveshwarya Layout  \\\n",
       "0               False  ...        False                 False   \n",
       "1               False  ...        False                 False   \n",
       "2               False  ...        False                 False   \n",
       "\n",
       "   Vishwapriya Layout  Vittasandra  Whitefield  Yelachenahalli  Yelahanka  \\\n",
       "0               False        False       False           False      False   \n",
       "1               False        False       False           False      False   \n",
       "2               False        False       False           False      False   \n",
       "\n",
       "   Yelahanka New Town  Yelenahalli  Yeshwanthpur  \n",
       "0               False        False         False  \n",
       "1               False        False         False  \n",
       "2               False        False         False  \n",
       "\n",
       "[3 rows x 245 columns]"
      ]
     },
     "execution_count": 699,
     "metadata": {},
     "output_type": "execute_result"
    }
   ],
   "source": [
    "df12 = df11.drop(\"location\", axis=1)\n",
    "df12.head(3)"
   ]
  },
  {
   "cell_type": "code",
   "execution_count": 700,
   "metadata": {},
   "outputs": [
    {
     "data": {
      "text/plain": [
       "(7251, 245)"
      ]
     },
     "execution_count": 700,
     "metadata": {},
     "output_type": "execute_result"
    }
   ],
   "source": [
    "df12.shape"
   ]
  },
  {
   "cell_type": "code",
   "execution_count": 701,
   "metadata": {},
   "outputs": [],
   "source": [
    "X = df12.drop(\"price\", axis=1)"
   ]
  },
  {
   "cell_type": "code",
   "execution_count": 702,
   "metadata": {},
   "outputs": [
    {
     "data": {
      "text/plain": [
       "0    4.708\n",
       "1    2.134\n",
       "2    2.585\n",
       "Name: price, dtype: float64"
      ]
     },
     "execution_count": 702,
     "metadata": {},
     "output_type": "execute_result"
    }
   ],
   "source": [
    "y = df12[\"price\"]\n",
    "y.head(3)"
   ]
  },
  {
   "cell_type": "code",
   "execution_count": 703,
   "metadata": {},
   "outputs": [],
   "source": [
    "from sklearn.model_selection import train_test_split\n",
    "X_train, X_test, y_train, y_test = train_test_split(X, y, test_size=0.2, random_state=10)"
   ]
  },
  {
   "cell_type": "code",
   "execution_count": 704,
   "metadata": {},
   "outputs": [
    {
     "data": {
      "text/plain": [
       "0.8452277697874343"
      ]
     },
     "execution_count": 704,
     "metadata": {},
     "output_type": "execute_result"
    }
   ],
   "source": [
    "from sklearn.linear_model import LinearRegression\n",
    "model = LinearRegression()\n",
    "model.fit(X_train, y_train)\n",
    "model.score(X_test, y_test)"
   ]
  },
  {
   "cell_type": "code",
   "execution_count": 705,
   "metadata": {},
   "outputs": [
    {
     "data": {
      "text/plain": [
       "array([0.82430186, 0.77166234, 0.85089567, 0.80837764, 0.83653286])"
      ]
     },
     "execution_count": 705,
     "metadata": {},
     "output_type": "execute_result"
    }
   ],
   "source": [
    "from sklearn.model_selection import ShuffleSplit\n",
    "from sklearn.model_selection import cross_val_score\n",
    "\n",
    "cv = ShuffleSplit(n_splits=5, test_size=0.2, random_state=0)\n",
    "\n",
    "cross_val_score(LinearRegression(), X, y, cv=cv)"
   ]
  },
  {
   "cell_type": "code",
   "execution_count": 706,
   "metadata": {},
   "outputs": [],
   "source": [
    "from sklearn.model_selection import GridSearchCV\n",
    "\n",
    "from sklearn.linear_model import Lasso\n",
    "from sklearn.tree import DecisionTreeRegressor"
   ]
  },
  {
   "cell_type": "code",
   "execution_count": 707,
   "metadata": {},
   "outputs": [],
   "source": [
    "def find_best_model_using_gridsearchcv(X, y):\n",
    "    algos = {\n",
    "        \"linear_regression\": {\n",
    "            \"model\": LinearRegression(),\n",
    "            \"params\": {\n",
    "                # \"normalize\": [True, False]\n",
    "            }\n",
    "        },\n",
    "        \"lasso\": {\n",
    "            \"model\": Lasso(),\n",
    "            \"params\": {\n",
    "                \"alpha\": [1, 2],\n",
    "                \"selection\": [\"random\", \"cyclic\"]\n",
    "            }\n",
    "        },\n",
    "        \"decision_tree\": {\n",
    "            \"model\": DecisionTreeRegressor(),\n",
    "            \"params\": {\n",
    "                \"criterion\": [\"squared_error\"],\n",
    "                \"splitter\": [\"best\", \"random\"]\n",
    "                \n",
    "            }           \n",
    "        }\n",
    "    }\n",
    "    scores = []\n",
    "    cv = ShuffleSplit(n_splits=5, test_size=0.2, random_state=0)\n",
    "    for algo_name, config in algos.items():\n",
    "        gs = GridSearchCV(config[\"model\"], config[\"params\"], cv=cv, return_train_score=False)\n",
    "        gs.fit(X, y)\n",
    "        scores.append({\n",
    "            \"model\": algo_name,\n",
    "            \"best_score\": gs.best_score_,\n",
    "            \"best_params\": gs.best_params_\n",
    "        })\n",
    "    return pd.DataFrame(scores, columns=[\"model\", \"best_score\", \"best_params\"])"
   ]
  },
  {
   "cell_type": "code",
   "execution_count": 708,
   "metadata": {},
   "outputs": [
    {
     "data": {
      "application/vnd.microsoft.datawrangler.viewer.v0+json": {
       "columns": [
        {
         "name": "index",
         "rawType": "int64",
         "type": "integer"
        },
        {
         "name": "model",
         "rawType": "object",
         "type": "string"
        },
        {
         "name": "best_score",
         "rawType": "float64",
         "type": "float"
        },
        {
         "name": "best_params",
         "rawType": "object",
         "type": "unknown"
        }
       ],
       "conversionMethod": "pd.DataFrame",
       "ref": "b3838036-6b98-463c-be41-d8bc85072d22",
       "rows": [
        [
         "0",
         "linear_regression",
         "0.8183540750696018",
         "{}"
        ],
        [
         "1",
         "lasso",
         "0.6887906400682036",
         "{'alpha': 2, 'selection': 'random'}"
        ],
        [
         "2",
         "decision_tree",
         "0.724260471569704",
         "{'criterion': 'squared_error', 'splitter': 'best'}"
        ]
       ],
       "shape": {
        "columns": 3,
        "rows": 3
       }
      },
      "text/html": [
       "<div>\n",
       "<style scoped>\n",
       "    .dataframe tbody tr th:only-of-type {\n",
       "        vertical-align: middle;\n",
       "    }\n",
       "\n",
       "    .dataframe tbody tr th {\n",
       "        vertical-align: top;\n",
       "    }\n",
       "\n",
       "    .dataframe thead th {\n",
       "        text-align: right;\n",
       "    }\n",
       "</style>\n",
       "<table border=\"1\" class=\"dataframe\">\n",
       "  <thead>\n",
       "    <tr style=\"text-align: right;\">\n",
       "      <th></th>\n",
       "      <th>model</th>\n",
       "      <th>best_score</th>\n",
       "      <th>best_params</th>\n",
       "    </tr>\n",
       "  </thead>\n",
       "  <tbody>\n",
       "    <tr>\n",
       "      <th>0</th>\n",
       "      <td>linear_regression</td>\n",
       "      <td>0.818354</td>\n",
       "      <td>{}</td>\n",
       "    </tr>\n",
       "    <tr>\n",
       "      <th>1</th>\n",
       "      <td>lasso</td>\n",
       "      <td>0.688791</td>\n",
       "      <td>{'alpha': 2, 'selection': 'random'}</td>\n",
       "    </tr>\n",
       "    <tr>\n",
       "      <th>2</th>\n",
       "      <td>decision_tree</td>\n",
       "      <td>0.724260</td>\n",
       "      <td>{'criterion': 'squared_error', 'splitter': 'be...</td>\n",
       "    </tr>\n",
       "  </tbody>\n",
       "</table>\n",
       "</div>"
      ],
      "text/plain": [
       "               model  best_score  \\\n",
       "0  linear_regression    0.818354   \n",
       "1              lasso    0.688791   \n",
       "2      decision_tree    0.724260   \n",
       "\n",
       "                                         best_params  \n",
       "0                                                 {}  \n",
       "1                {'alpha': 2, 'selection': 'random'}  \n",
       "2  {'criterion': 'squared_error', 'splitter': 'be...  "
      ]
     },
     "execution_count": 708,
     "metadata": {},
     "output_type": "execute_result"
    }
   ],
   "source": [
    "find_best_model_using_gridsearchcv(X, y)"
   ]
  },
  {
   "cell_type": "code",
   "execution_count": 709,
   "metadata": {},
   "outputs": [],
   "source": [
    "def predict_price(location, sqft, bath, bhk):\n",
    "    loc_index = np.where(X.columns == location)[0][0]\n",
    "    \n",
    "    x = np.zeros(len(X.columns))\n",
    "    x[0] = sqft\n",
    "    x[1] = bath\n",
    "    x[2] = bhk\n",
    "    if loc_index >= 0:\n",
    "        x[loc_index] = 1\n",
    "    \n",
    "    return model.predict([x])[0]"
   ]
  },
  {
   "cell_type": "code",
   "execution_count": 710,
   "metadata": {},
   "outputs": [
    {
     "name": "stderr",
     "output_type": "stream",
     "text": [
      "c:\\Users\\Ben\\AppData\\Local\\Programs\\Python\\Python312\\Lib\\site-packages\\sklearn\\base.py:493: UserWarning: X does not have valid feature names, but LinearRegression was fitted with feature names\n",
      "  warnings.warn(\n"
     ]
    },
    {
     "data": {
      "text/plain": [
       "0.9184895144910898"
      ]
     },
     "execution_count": 710,
     "metadata": {},
     "output_type": "execute_result"
    }
   ],
   "source": [
    "predict_price(\"1st Phase JP Nagar\", 1000, 2, 2)"
   ]
  },
  {
   "cell_type": "code",
   "execution_count": 711,
   "metadata": {},
   "outputs": [
    {
     "data": {
      "text/plain": [
       "Index(['total_sqft', 'bath', 'bhk', '1st Block Jayanagar',\n",
       "       '1st Phase JP Nagar', '2nd Phase Judicial Layout',\n",
       "       '2nd Stage Nagarbhavi', '5th Block Hbr Layout', '5th Phase JP Nagar',\n",
       "       '6th Phase JP Nagar',\n",
       "       ...\n",
       "       'Vijayanagar', 'Vishveshwarya Layout', 'Vishwapriya Layout',\n",
       "       'Vittasandra', 'Whitefield', 'Yelachenahalli', 'Yelahanka',\n",
       "       'Yelahanka New Town', 'Yelenahalli', 'Yeshwanthpur'],\n",
       "      dtype='object', length=244)"
      ]
     },
     "execution_count": 711,
     "metadata": {},
     "output_type": "execute_result"
    }
   ],
   "source": [
    "X.columns"
   ]
  },
  {
   "cell_type": "code",
   "execution_count": 712,
   "metadata": {},
   "outputs": [
    {
     "name": "stderr",
     "output_type": "stream",
     "text": [
      "c:\\Users\\Ben\\AppData\\Local\\Programs\\Python\\Python312\\Lib\\site-packages\\sklearn\\base.py:493: UserWarning: X does not have valid feature names, but LinearRegression was fitted with feature names\n",
      "  warnings.warn(\n"
     ]
    },
    {
     "data": {
      "text/plain": [
       "1.8066872676806394"
      ]
     },
     "execution_count": 712,
     "metadata": {},
     "output_type": "execute_result"
    }
   ],
   "source": [
    "predict_price(\"Vishwapriya Layout\", 2500, 3, 5)"
   ]
  },
  {
   "cell_type": "code",
   "execution_count": 713,
   "metadata": {},
   "outputs": [
    {
     "name": "stderr",
     "output_type": "stream",
     "text": [
      "c:\\Users\\Ben\\AppData\\Local\\Programs\\Python\\Python312\\Lib\\site-packages\\sklearn\\base.py:493: UserWarning: X does not have valid feature names, but LinearRegression was fitted with feature names\n",
      "  warnings.warn(\n"
     ]
    },
    {
     "data": {
      "text/plain": [
       "1.7676839568673193"
      ]
     },
     "execution_count": 713,
     "metadata": {},
     "output_type": "execute_result"
    }
   ],
   "source": [
    "predict_price(\"Vishwapriya Layout\", 2500, 3, 7)"
   ]
  },
  {
   "cell_type": "code",
   "execution_count": 714,
   "metadata": {},
   "outputs": [],
   "source": [
    "import pickle\n",
    "with open(\"banglore_home_prices_model.pickle\", \"wb\") as f:\n",
    "    pickle.dump(model, f)"
   ]
  },
  {
   "cell_type": "code",
   "execution_count": 715,
   "metadata": {},
   "outputs": [],
   "source": [
    "import json\n",
    "columns = {\n",
    "    \"data_columns\": [col.lower() for col in X.columns]\n",
    "}\n",
    "with open(\"columns.json\", \"w\") as f:\n",
    "    f.write(json.dumps(columns))"
   ]
  }
 ],
 "metadata": {
  "kernelspec": {
   "display_name": "Python 3",
   "language": "python",
   "name": "python3"
  },
  "language_info": {
   "codemirror_mode": {
    "name": "ipython",
    "version": 3
   },
   "file_extension": ".py",
   "mimetype": "text/x-python",
   "name": "python",
   "nbconvert_exporter": "python",
   "pygments_lexer": "ipython3",
   "version": "3.12.2"
  }
 },
 "nbformat": 4,
 "nbformat_minor": 2
}
